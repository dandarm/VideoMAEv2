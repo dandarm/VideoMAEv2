{
 "cells": [
  {
   "cell_type": "markdown",
   "metadata": {
    "jp-MarkdownHeadingCollapsed": true
   },
   "source": [
    "# Experiment_dataset"
   ]
  },
  {
   "cell_type": "code",
   "execution_count": 1,
   "metadata": {},
   "outputs": [
    {
     "name": "stderr",
     "output_type": "stream",
     "text": [
      "/home/isac/miniconda3/envs/videomae/lib/python3.9/site-packages/tqdm/auto.py:21: TqdmWarning: IProgress not found. Please update jupyter and ipywidgets. See https://ipywidgets.readthedocs.io/en/stable/user_install.html\n",
      "  from .autonotebook import tqdm as notebook_tqdm\n"
     ]
    }
   ],
   "source": [
    "import pandas as pd\n",
    "from dataset.data_manager import BuildDataset\n",
    "\n",
    "from dataset.dataset_labeling_study import aggiorna_label_distanza_temporale\n",
    "from dataset.dataset_labeling_study import create_tile_videos_relabeling, create_df_video_from_master_df_relabeling"
   ]
  },
  {
   "cell_type": "code",
   "execution_count": 2,
   "metadata": {},
   "outputs": [],
   "source": [
    "# NON carico quello con tutti i metodi all_data_all_methods_tracks_complete_fast.csv\n",
    "\n",
    "sup_data_train = BuildDataset(type='SUPERVISED', master_df_path=\"all_data_CL7_tracks_complete_fast.csv\")\n",
    "sup_data_train.load_master_df()"
   ]
  },
  {
   "cell_type": "code",
   "execution_count": 3,
   "metadata": {},
   "outputs": [
    {
     "data": {
      "text/plain": [
       "path             string[python]\n",
       "datetime         datetime64[ns]\n",
       "tile_offset_x             int16\n",
       "tile_offset_y             int16\n",
       "x_pix                    object\n",
       "y_pix                    object\n",
       "source           string[python]\n",
       "id_cyc_unico              int32\n",
       "start_time       datetime64[ns]\n",
       "end_time         datetime64[ns]\n",
       "label                      int8\n",
       "dtype: object"
      ]
     },
     "execution_count": 3,
     "metadata": {},
     "output_type": "execute_result"
    }
   ],
   "source": [
    "sup_data_train.master_df.dtypes"
   ]
  },
  {
   "cell_type": "code",
   "execution_count": 4,
   "metadata": {},
   "outputs": [],
   "source": [
    "sup_data_train.calc_delta_time()"
   ]
  },
  {
   "cell_type": "code",
   "execution_count": 5,
   "metadata": {},
   "outputs": [
    {
     "data": {
      "text/html": [
       "<div>\n",
       "<style scoped>\n",
       "    .dataframe tbody tr th:only-of-type {\n",
       "        vertical-align: middle;\n",
       "    }\n",
       "\n",
       "    .dataframe tbody tr th {\n",
       "        vertical-align: top;\n",
       "    }\n",
       "\n",
       "    .dataframe thead th {\n",
       "        text-align: right;\n",
       "    }\n",
       "</style>\n",
       "<table border=\"1\" class=\"dataframe\">\n",
       "  <thead>\n",
       "    <tr style=\"text-align: right;\">\n",
       "      <th></th>\n",
       "      <th>path</th>\n",
       "      <th>datetime</th>\n",
       "      <th>tile_offset_x</th>\n",
       "      <th>tile_offset_y</th>\n",
       "      <th>x_pix</th>\n",
       "      <th>y_pix</th>\n",
       "      <th>source</th>\n",
       "      <th>id_cyc_unico</th>\n",
       "      <th>start_time</th>\n",
       "      <th>end_time</th>\n",
       "      <th>label</th>\n",
       "      <th>delta_time</th>\n",
       "    </tr>\n",
       "  </thead>\n",
       "  <tbody>\n",
       "    <tr>\n",
       "      <th>0</th>\n",
       "      <td>../fromgcloud/airmass_rgb_20111101_0000.png</td>\n",
       "      <td>2011-11-01</td>\n",
       "      <td>0</td>\n",
       "      <td>0</td>\n",
       "      <td>[]</td>\n",
       "      <td>[]</td>\n",
       "      <td>[]</td>\n",
       "      <td>0</td>\n",
       "      <td>NaT</td>\n",
       "      <td>NaT</td>\n",
       "      <td>0</td>\n",
       "      <td>NaT</td>\n",
       "    </tr>\n",
       "    <tr>\n",
       "      <th>1</th>\n",
       "      <td>../fromgcloud/airmass_rgb_20111101_0000.png</td>\n",
       "      <td>2011-11-01</td>\n",
       "      <td>213</td>\n",
       "      <td>0</td>\n",
       "      <td>[]</td>\n",
       "      <td>[]</td>\n",
       "      <td>[]</td>\n",
       "      <td>0</td>\n",
       "      <td>NaT</td>\n",
       "      <td>NaT</td>\n",
       "      <td>0</td>\n",
       "      <td>NaT</td>\n",
       "    </tr>\n",
       "    <tr>\n",
       "      <th>2</th>\n",
       "      <td>../fromgcloud/airmass_rgb_20111101_0000.png</td>\n",
       "      <td>2011-11-01</td>\n",
       "      <td>426</td>\n",
       "      <td>0</td>\n",
       "      <td>[]</td>\n",
       "      <td>[]</td>\n",
       "      <td>[]</td>\n",
       "      <td>0</td>\n",
       "      <td>NaT</td>\n",
       "      <td>NaT</td>\n",
       "      <td>0</td>\n",
       "      <td>NaT</td>\n",
       "    </tr>\n",
       "    <tr>\n",
       "      <th>3</th>\n",
       "      <td>../fromgcloud/airmass_rgb_20111101_0000.png</td>\n",
       "      <td>2011-11-01</td>\n",
       "      <td>639</td>\n",
       "      <td>0</td>\n",
       "      <td>[]</td>\n",
       "      <td>[]</td>\n",
       "      <td>[]</td>\n",
       "      <td>0</td>\n",
       "      <td>NaT</td>\n",
       "      <td>NaT</td>\n",
       "      <td>0</td>\n",
       "      <td>NaT</td>\n",
       "    </tr>\n",
       "    <tr>\n",
       "      <th>4</th>\n",
       "      <td>../fromgcloud/airmass_rgb_20111101_0000.png</td>\n",
       "      <td>2011-11-01</td>\n",
       "      <td>852</td>\n",
       "      <td>0</td>\n",
       "      <td>[]</td>\n",
       "      <td>[]</td>\n",
       "      <td>[]</td>\n",
       "      <td>0</td>\n",
       "      <td>NaT</td>\n",
       "      <td>NaT</td>\n",
       "      <td>0</td>\n",
       "      <td>NaT</td>\n",
       "    </tr>\n",
       "    <tr>\n",
       "      <th>...</th>\n",
       "      <td>...</td>\n",
       "      <td>...</td>\n",
       "      <td>...</td>\n",
       "      <td>...</td>\n",
       "      <td>...</td>\n",
       "      <td>...</td>\n",
       "      <td>...</td>\n",
       "      <td>...</td>\n",
       "      <td>...</td>\n",
       "      <td>...</td>\n",
       "      <td>...</td>\n",
       "      <td>...</td>\n",
       "    </tr>\n",
       "    <tr>\n",
       "      <th>1413163</th>\n",
       "      <td>../fromgcloud/airmass_rgb_20230912_0000.png</td>\n",
       "      <td>2023-09-12</td>\n",
       "      <td>213</td>\n",
       "      <td>196</td>\n",
       "      <td>[]</td>\n",
       "      <td>[]</td>\n",
       "      <td>[]</td>\n",
       "      <td>0</td>\n",
       "      <td>NaT</td>\n",
       "      <td>NaT</td>\n",
       "      <td>0</td>\n",
       "      <td>NaT</td>\n",
       "    </tr>\n",
       "    <tr>\n",
       "      <th>1413164</th>\n",
       "      <td>../fromgcloud/airmass_rgb_20230912_0000.png</td>\n",
       "      <td>2023-09-12</td>\n",
       "      <td>426</td>\n",
       "      <td>196</td>\n",
       "      <td>[]</td>\n",
       "      <td>[]</td>\n",
       "      <td>[]</td>\n",
       "      <td>0</td>\n",
       "      <td>NaT</td>\n",
       "      <td>NaT</td>\n",
       "      <td>0</td>\n",
       "      <td>NaT</td>\n",
       "    </tr>\n",
       "    <tr>\n",
       "      <th>1413165</th>\n",
       "      <td>../fromgcloud/airmass_rgb_20230912_0000.png</td>\n",
       "      <td>2023-09-12</td>\n",
       "      <td>639</td>\n",
       "      <td>196</td>\n",
       "      <td>[]</td>\n",
       "      <td>[]</td>\n",
       "      <td>[]</td>\n",
       "      <td>0</td>\n",
       "      <td>NaT</td>\n",
       "      <td>NaT</td>\n",
       "      <td>0</td>\n",
       "      <td>NaT</td>\n",
       "    </tr>\n",
       "    <tr>\n",
       "      <th>1413166</th>\n",
       "      <td>../fromgcloud/airmass_rgb_20230912_0000.png</td>\n",
       "      <td>2023-09-12</td>\n",
       "      <td>852</td>\n",
       "      <td>196</td>\n",
       "      <td>[]</td>\n",
       "      <td>[]</td>\n",
       "      <td>[]</td>\n",
       "      <td>0</td>\n",
       "      <td>NaT</td>\n",
       "      <td>NaT</td>\n",
       "      <td>0</td>\n",
       "      <td>NaT</td>\n",
       "    </tr>\n",
       "    <tr>\n",
       "      <th>1413167</th>\n",
       "      <td>../fromgcloud/airmass_rgb_20230912_0000.png</td>\n",
       "      <td>2023-09-12</td>\n",
       "      <td>1065</td>\n",
       "      <td>196</td>\n",
       "      <td>[]</td>\n",
       "      <td>[]</td>\n",
       "      <td>[]</td>\n",
       "      <td>0</td>\n",
       "      <td>NaT</td>\n",
       "      <td>NaT</td>\n",
       "      <td>0</td>\n",
       "      <td>NaT</td>\n",
       "    </tr>\n",
       "  </tbody>\n",
       "</table>\n",
       "<p>1413168 rows × 12 columns</p>\n",
       "</div>"
      ],
      "text/plain": [
       "                                                path   datetime  \\\n",
       "0        ../fromgcloud/airmass_rgb_20111101_0000.png 2011-11-01   \n",
       "1        ../fromgcloud/airmass_rgb_20111101_0000.png 2011-11-01   \n",
       "2        ../fromgcloud/airmass_rgb_20111101_0000.png 2011-11-01   \n",
       "3        ../fromgcloud/airmass_rgb_20111101_0000.png 2011-11-01   \n",
       "4        ../fromgcloud/airmass_rgb_20111101_0000.png 2011-11-01   \n",
       "...                                              ...        ...   \n",
       "1413163  ../fromgcloud/airmass_rgb_20230912_0000.png 2023-09-12   \n",
       "1413164  ../fromgcloud/airmass_rgb_20230912_0000.png 2023-09-12   \n",
       "1413165  ../fromgcloud/airmass_rgb_20230912_0000.png 2023-09-12   \n",
       "1413166  ../fromgcloud/airmass_rgb_20230912_0000.png 2023-09-12   \n",
       "1413167  ../fromgcloud/airmass_rgb_20230912_0000.png 2023-09-12   \n",
       "\n",
       "         tile_offset_x  tile_offset_y x_pix y_pix source  id_cyc_unico  \\\n",
       "0                    0              0    []    []     []             0   \n",
       "1                  213              0    []    []     []             0   \n",
       "2                  426              0    []    []     []             0   \n",
       "3                  639              0    []    []     []             0   \n",
       "4                  852              0    []    []     []             0   \n",
       "...                ...            ...   ...   ...    ...           ...   \n",
       "1413163            213            196    []    []     []             0   \n",
       "1413164            426            196    []    []     []             0   \n",
       "1413165            639            196    []    []     []             0   \n",
       "1413166            852            196    []    []     []             0   \n",
       "1413167           1065            196    []    []     []             0   \n",
       "\n",
       "        start_time end_time  label delta_time  \n",
       "0              NaT      NaT      0        NaT  \n",
       "1              NaT      NaT      0        NaT  \n",
       "2              NaT      NaT      0        NaT  \n",
       "3              NaT      NaT      0        NaT  \n",
       "4              NaT      NaT      0        NaT  \n",
       "...            ...      ...    ...        ...  \n",
       "1413163        NaT      NaT      0        NaT  \n",
       "1413164        NaT      NaT      0        NaT  \n",
       "1413165        NaT      NaT      0        NaT  \n",
       "1413166        NaT      NaT      0        NaT  \n",
       "1413167        NaT      NaT      0        NaT  \n",
       "\n",
       "[1413168 rows x 12 columns]"
      ]
     },
     "execution_count": 5,
     "metadata": {},
     "output_type": "execute_result"
    }
   ],
   "source": [
    "sup_data_train.master_df"
   ]
  },
  {
   "cell_type": "code",
   "execution_count": 6,
   "metadata": {},
   "outputs": [
    {
     "name": "stdout",
     "output_type": "stream",
     "text": [
      "Colonna label_12_00 aggiunta\n"
     ]
    },
    {
     "data": {
      "text/plain": [
       "'label_12_00'"
      ]
     },
     "execution_count": 6,
     "metadata": {},
     "output_type": "execute_result"
    }
   ],
   "source": [
    "new_label = aggiorna_label_distanza_temporale(sup_data_train.master_df, soglia=pd.Timedelta(hours=12), sub_lab=-1)\n",
    "new_label"
   ]
  },
  {
   "cell_type": "code",
   "execution_count": null,
   "metadata": {},
   "outputs": [],
   "source": [
    "######################################\n",
    "# # verifico che il relabeling sia corretto per la parte iniziale e finale della durata del ciclone\n",
    "pd.set_option('display.max_rows', 500)\n",
    "m = sup_data_train.master_df[new_label] == -1\n",
    "moff = (sup_data_train.master_df[['tile_offset_x','tile_offset_y']] == (213,0)).all(axis=1)\n",
    "\n",
    "m_cyc = sup_data_train.master_df.id_cyc_unico == 7001328\n",
    "sup_data_train.master_df[m_cyc].loc[20545:23700] #14545:14600]"
   ]
  },
  {
   "cell_type": "markdown",
   "metadata": {},
   "source": [
    "### ora levo le righe con label == -1 e poi prendo la colonna relabel come label ufficiale"
   ]
  },
  {
   "cell_type": "code",
   "execution_count": 7,
   "metadata": {},
   "outputs": [],
   "source": [
    "m = sup_data_train.master_df[new_label] == -1\n",
    "df_mod = sup_data_train.master_df[~m].copy().drop(columns='label').rename(columns={new_label:'label'})"
   ]
  },
  {
   "cell_type": "code",
   "execution_count": 8,
   "metadata": {},
   "outputs": [
    {
     "data": {
      "text/html": [
       "<div>\n",
       "<style scoped>\n",
       "    .dataframe tbody tr th:only-of-type {\n",
       "        vertical-align: middle;\n",
       "    }\n",
       "\n",
       "    .dataframe tbody tr th {\n",
       "        vertical-align: top;\n",
       "    }\n",
       "\n",
       "    .dataframe thead th {\n",
       "        text-align: right;\n",
       "    }\n",
       "</style>\n",
       "<table border=\"1\" class=\"dataframe\">\n",
       "  <thead>\n",
       "    <tr style=\"text-align: right;\">\n",
       "      <th></th>\n",
       "      <th>path</th>\n",
       "      <th>datetime</th>\n",
       "      <th>tile_offset_x</th>\n",
       "      <th>tile_offset_y</th>\n",
       "      <th>x_pix</th>\n",
       "      <th>y_pix</th>\n",
       "      <th>source</th>\n",
       "      <th>id_cyc_unico</th>\n",
       "      <th>start_time</th>\n",
       "      <th>end_time</th>\n",
       "      <th>delta_time</th>\n",
       "      <th>label</th>\n",
       "    </tr>\n",
       "  </thead>\n",
       "  <tbody>\n",
       "    <tr>\n",
       "      <th>0</th>\n",
       "      <td>../fromgcloud/airmass_rgb_20111101_0000.png</td>\n",
       "      <td>2011-11-01</td>\n",
       "      <td>0</td>\n",
       "      <td>0</td>\n",
       "      <td>[]</td>\n",
       "      <td>[]</td>\n",
       "      <td>[]</td>\n",
       "      <td>0</td>\n",
       "      <td>NaT</td>\n",
       "      <td>NaT</td>\n",
       "      <td>NaT</td>\n",
       "      <td>0</td>\n",
       "    </tr>\n",
       "    <tr>\n",
       "      <th>1</th>\n",
       "      <td>../fromgcloud/airmass_rgb_20111101_0000.png</td>\n",
       "      <td>2011-11-01</td>\n",
       "      <td>213</td>\n",
       "      <td>0</td>\n",
       "      <td>[]</td>\n",
       "      <td>[]</td>\n",
       "      <td>[]</td>\n",
       "      <td>0</td>\n",
       "      <td>NaT</td>\n",
       "      <td>NaT</td>\n",
       "      <td>NaT</td>\n",
       "      <td>0</td>\n",
       "    </tr>\n",
       "    <tr>\n",
       "      <th>2</th>\n",
       "      <td>../fromgcloud/airmass_rgb_20111101_0000.png</td>\n",
       "      <td>2011-11-01</td>\n",
       "      <td>426</td>\n",
       "      <td>0</td>\n",
       "      <td>[]</td>\n",
       "      <td>[]</td>\n",
       "      <td>[]</td>\n",
       "      <td>0</td>\n",
       "      <td>NaT</td>\n",
       "      <td>NaT</td>\n",
       "      <td>NaT</td>\n",
       "      <td>0</td>\n",
       "    </tr>\n",
       "    <tr>\n",
       "      <th>3</th>\n",
       "      <td>../fromgcloud/airmass_rgb_20111101_0000.png</td>\n",
       "      <td>2011-11-01</td>\n",
       "      <td>639</td>\n",
       "      <td>0</td>\n",
       "      <td>[]</td>\n",
       "      <td>[]</td>\n",
       "      <td>[]</td>\n",
       "      <td>0</td>\n",
       "      <td>NaT</td>\n",
       "      <td>NaT</td>\n",
       "      <td>NaT</td>\n",
       "      <td>0</td>\n",
       "    </tr>\n",
       "    <tr>\n",
       "      <th>4</th>\n",
       "      <td>../fromgcloud/airmass_rgb_20111101_0000.png</td>\n",
       "      <td>2011-11-01</td>\n",
       "      <td>852</td>\n",
       "      <td>0</td>\n",
       "      <td>[]</td>\n",
       "      <td>[]</td>\n",
       "      <td>[]</td>\n",
       "      <td>0</td>\n",
       "      <td>NaT</td>\n",
       "      <td>NaT</td>\n",
       "      <td>NaT</td>\n",
       "      <td>0</td>\n",
       "    </tr>\n",
       "    <tr>\n",
       "      <th>...</th>\n",
       "      <td>...</td>\n",
       "      <td>...</td>\n",
       "      <td>...</td>\n",
       "      <td>...</td>\n",
       "      <td>...</td>\n",
       "      <td>...</td>\n",
       "      <td>...</td>\n",
       "      <td>...</td>\n",
       "      <td>...</td>\n",
       "      <td>...</td>\n",
       "      <td>...</td>\n",
       "      <td>...</td>\n",
       "    </tr>\n",
       "    <tr>\n",
       "      <th>1413163</th>\n",
       "      <td>../fromgcloud/airmass_rgb_20230912_0000.png</td>\n",
       "      <td>2023-09-12</td>\n",
       "      <td>213</td>\n",
       "      <td>196</td>\n",
       "      <td>[]</td>\n",
       "      <td>[]</td>\n",
       "      <td>[]</td>\n",
       "      <td>0</td>\n",
       "      <td>NaT</td>\n",
       "      <td>NaT</td>\n",
       "      <td>NaT</td>\n",
       "      <td>0</td>\n",
       "    </tr>\n",
       "    <tr>\n",
       "      <th>1413164</th>\n",
       "      <td>../fromgcloud/airmass_rgb_20230912_0000.png</td>\n",
       "      <td>2023-09-12</td>\n",
       "      <td>426</td>\n",
       "      <td>196</td>\n",
       "      <td>[]</td>\n",
       "      <td>[]</td>\n",
       "      <td>[]</td>\n",
       "      <td>0</td>\n",
       "      <td>NaT</td>\n",
       "      <td>NaT</td>\n",
       "      <td>NaT</td>\n",
       "      <td>0</td>\n",
       "    </tr>\n",
       "    <tr>\n",
       "      <th>1413165</th>\n",
       "      <td>../fromgcloud/airmass_rgb_20230912_0000.png</td>\n",
       "      <td>2023-09-12</td>\n",
       "      <td>639</td>\n",
       "      <td>196</td>\n",
       "      <td>[]</td>\n",
       "      <td>[]</td>\n",
       "      <td>[]</td>\n",
       "      <td>0</td>\n",
       "      <td>NaT</td>\n",
       "      <td>NaT</td>\n",
       "      <td>NaT</td>\n",
       "      <td>0</td>\n",
       "    </tr>\n",
       "    <tr>\n",
       "      <th>1413166</th>\n",
       "      <td>../fromgcloud/airmass_rgb_20230912_0000.png</td>\n",
       "      <td>2023-09-12</td>\n",
       "      <td>852</td>\n",
       "      <td>196</td>\n",
       "      <td>[]</td>\n",
       "      <td>[]</td>\n",
       "      <td>[]</td>\n",
       "      <td>0</td>\n",
       "      <td>NaT</td>\n",
       "      <td>NaT</td>\n",
       "      <td>NaT</td>\n",
       "      <td>0</td>\n",
       "    </tr>\n",
       "    <tr>\n",
       "      <th>1413167</th>\n",
       "      <td>../fromgcloud/airmass_rgb_20230912_0000.png</td>\n",
       "      <td>2023-09-12</td>\n",
       "      <td>1065</td>\n",
       "      <td>196</td>\n",
       "      <td>[]</td>\n",
       "      <td>[]</td>\n",
       "      <td>[]</td>\n",
       "      <td>0</td>\n",
       "      <td>NaT</td>\n",
       "      <td>NaT</td>\n",
       "      <td>NaT</td>\n",
       "      <td>0</td>\n",
       "    </tr>\n",
       "  </tbody>\n",
       "</table>\n",
       "<p>1403577 rows × 12 columns</p>\n",
       "</div>"
      ],
      "text/plain": [
       "                                                path   datetime  \\\n",
       "0        ../fromgcloud/airmass_rgb_20111101_0000.png 2011-11-01   \n",
       "1        ../fromgcloud/airmass_rgb_20111101_0000.png 2011-11-01   \n",
       "2        ../fromgcloud/airmass_rgb_20111101_0000.png 2011-11-01   \n",
       "3        ../fromgcloud/airmass_rgb_20111101_0000.png 2011-11-01   \n",
       "4        ../fromgcloud/airmass_rgb_20111101_0000.png 2011-11-01   \n",
       "...                                              ...        ...   \n",
       "1413163  ../fromgcloud/airmass_rgb_20230912_0000.png 2023-09-12   \n",
       "1413164  ../fromgcloud/airmass_rgb_20230912_0000.png 2023-09-12   \n",
       "1413165  ../fromgcloud/airmass_rgb_20230912_0000.png 2023-09-12   \n",
       "1413166  ../fromgcloud/airmass_rgb_20230912_0000.png 2023-09-12   \n",
       "1413167  ../fromgcloud/airmass_rgb_20230912_0000.png 2023-09-12   \n",
       "\n",
       "         tile_offset_x  tile_offset_y x_pix y_pix source  id_cyc_unico  \\\n",
       "0                    0              0    []    []     []             0   \n",
       "1                  213              0    []    []     []             0   \n",
       "2                  426              0    []    []     []             0   \n",
       "3                  639              0    []    []     []             0   \n",
       "4                  852              0    []    []     []             0   \n",
       "...                ...            ...   ...   ...    ...           ...   \n",
       "1413163            213            196    []    []     []             0   \n",
       "1413164            426            196    []    []     []             0   \n",
       "1413165            639            196    []    []     []             0   \n",
       "1413166            852            196    []    []     []             0   \n",
       "1413167           1065            196    []    []     []             0   \n",
       "\n",
       "        start_time end_time delta_time  label  \n",
       "0              NaT      NaT        NaT      0  \n",
       "1              NaT      NaT        NaT      0  \n",
       "2              NaT      NaT        NaT      0  \n",
       "3              NaT      NaT        NaT      0  \n",
       "4              NaT      NaT        NaT      0  \n",
       "...            ...      ...        ...    ...  \n",
       "1413163        NaT      NaT        NaT      0  \n",
       "1413164        NaT      NaT        NaT      0  \n",
       "1413165        NaT      NaT        NaT      0  \n",
       "1413166        NaT      NaT        NaT      0  \n",
       "1413167        NaT      NaT        NaT      0  \n",
       "\n",
       "[1403577 rows x 12 columns]"
      ]
     },
     "execution_count": 8,
     "metadata": {},
     "output_type": "execute_result"
    }
   ],
   "source": [
    "df_mod"
   ]
  },
  {
   "cell_type": "code",
   "execution_count": 9,
   "metadata": {},
   "outputs": [
    {
     "name": "stdout",
     "output_type": "stream",
     "text": [
      "1)  ->\n",
      "Num video CON cicloni: 104, Num video SENZA cicloni: 2018\tTotale video tiles: 2122\t\tBilanciamento video...\n",
      " video senza cicloni tenuti: 104\n",
      "208 video per il periodo (effettivo) da 2011-11-01 00:00:00 a 2011-11-10 22:10:00\n",
      "\n",
      "2)  ->\n",
      "Num video CON cicloni: 99, Num video SENZA cicloni: 2016\tTotale video tiles: 2115\t\tBilanciamento video...\n",
      " video senza cicloni tenuti: 99\n",
      "198 video per il periodo (effettivo) da 2014-11-03 01:20:00 a 2014-11-12 23:55:00\n",
      "\n",
      "3)  ->\n",
      "Num video CON cicloni: 88, Num video SENZA cicloni: 1622\tTotale video tiles: 1710\t\tBilanciamento video...\n",
      " video senza cicloni tenuti: 88\n",
      "176 video per il periodo (effettivo) da 2016-10-26 00:00:00 a 2016-11-02 23:55:00\n",
      "\n",
      "4)  ->\n",
      "Num video CON cicloni: 83, Num video SENZA cicloni: 1618\tTotale video tiles: 1701\t\tBilanciamento video...\n",
      " video senza cicloni tenuti: 83\n",
      "166 video per il periodo (effettivo) da 2017-11-13 00:00:00 a 2017-11-20 15:55:00\n",
      "\n",
      "5)  ->\n",
      "Num video CON cicloni: 61, Num video SENZA cicloni: 998\tTotale video tiles: 1059\t\tBilanciamento video...\n",
      " video senza cicloni tenuti: 61\n",
      "122 video per il periodo (effettivo) da 2018-09-25 00:00:00 a 2018-09-29 22:35:00\n",
      "\n",
      "6)  ->\n",
      "Num video CON cicloni: 45, Num video SENZA cicloni: 570\tTotale video tiles: 615\t\tBilanciamento video...\n",
      " video senza cicloni tenuti: 45\n",
      "90 video per il periodo (effettivo) da 2018-09-30 01:40:00 a 2018-10-02 22:55:00\n",
      "\n",
      "7)  ->\n",
      "Num video CON cicloni: 69, Num video SENZA cicloni: 1052\tTotale video tiles: 1121\t\tBilanciamento video...\n",
      " video senza cicloni tenuti: 69\n",
      "138 video per il periodo (effettivo) da 2020-01-01 00:00:00 a 2020-01-06 08:55:00\n",
      "\n",
      "8)  ->\n",
      "Num video CON cicloni: 182, Num video SENZA cicloni: 11549\tTotale video tiles: 11731\t\tBilanciamento video...\n",
      " video senza cicloni tenuti: 182\n",
      "364 video per il periodo (effettivo) da 2020-02-03 09:05:00 a 2020-03-28 23:05:00\n",
      "\n",
      "9)  ->\n",
      "Num video CON cicloni: 1042, Num video SENZA cicloni: 58589\tTotale video tiles: 59631\t\tBilanciamento video...\n",
      " video senza cicloni tenuti: 1042\n",
      "2084 video per il periodo (effettivo) da 2020-03-29 10:00:00 a 2020-12-31 22:10:00\n",
      "\n",
      "10)  ->\n",
      "Num video CON cicloni: 0, Num video SENZA cicloni: 864\tTotale video tiles: 864\t\tBilanciamento video...\n",
      " video senza cicloni tenuti: 0\n",
      "No video present for period: 2021-10-29 00:00:00 to 2021-11-02 00:00:00\n",
      "11)  ->\n",
      "Num video CON cicloni: 0, Num video SENZA cicloni: 1152\tTotale video tiles: 1152\t\tBilanciamento video...\n",
      " video senza cicloni tenuti: 0\n",
      "No video present for period: 2021-11-04 00:00:00 to 2021-11-09 09:00:00\n",
      "12)  ->\n",
      "Num video CON cicloni: 0, Num video SENZA cicloni: 1932\tTotale video tiles: 1932\t\tBilanciamento video...\n",
      " video senza cicloni tenuti: 0\n",
      "No video present for period: 2023-02-24 00:00:00 to 2023-03-05 00:00:00\n",
      "13)  ->\n",
      "Num video CON cicloni: 0, Num video SENZA cicloni: 168\tTotale video tiles: 168\t\tBilanciamento video...\n",
      " video senza cicloni tenuti: 0\n",
      "No video present for period: 2023-09-03 00:00:00 to 2023-09-03 19:30:00\n",
      "14)  ->\n",
      "Num video CON cicloni: 0, Num video SENZA cicloni: 1728\tTotale video tiles: 1728\t\tBilanciamento video...\n",
      " video senza cicloni tenuti: 0\n",
      "No video present for period: 2023-09-03 23:25:00 to 2023-09-12 00:00:00\n"
     ]
    }
   ],
   "source": [
    "sup_data_train.make_df_video(new_master_df=df_mod, output_dir=None,  is_to_balance=True) #, idxs=[1,2,3,4,5,6,7,8])"
   ]
  },
  {
   "cell_type": "code",
   "execution_count": 10,
   "metadata": {},
   "outputs": [],
   "source": [
    "df_v = sup_data_train.df_video.copy()"
   ]
  },
  {
   "cell_type": "code",
   "execution_count": 11,
   "metadata": {},
   "outputs": [
    {
     "name": "stdout",
     "output_type": "stream",
     "text": [
      "1773 3546\n"
     ]
    }
   ],
   "source": [
    "print(df_v.label.sum(), df_v.shape[0])"
   ]
  },
  {
   "cell_type": "code",
   "execution_count": 17,
   "metadata": {},
   "outputs": [
    {
     "data": {
      "text/plain": [
       "((2482, 8), (1064, 8))"
      ]
     },
     "execution_count": 17,
     "metadata": {},
     "output_type": "execute_result"
    }
   ],
   "source": [
    "train_p = 0.7\n",
    "len_p = int(train_p*df_v.shape[0])\n",
    "df_video_train = df_v.sort_values('start_time').iloc[:len_p]\n",
    "df_video_test = df_v.sort_values('start_time').iloc[len_p:]\n",
    "df_video_train.shape, df_video_test.shape"
   ]
  },
  {
   "cell_type": "markdown",
   "metadata": {},
   "source": [
    "# Split train e test dal file di Manos"
   ]
  },
  {
   "cell_type": "code",
   "execution_count": 2,
   "metadata": {},
   "outputs": [
    {
     "name": "stdout",
     "output_type": "stream",
     "text": [
      "The autoreload extension is already loaded. To reload it, use:\n",
      "  %reload_ext autoreload\n"
     ]
    }
   ],
   "source": [
    "%load_ext autoreload\n",
    "%autoreload 2"
   ]
  },
  {
   "cell_type": "code",
   "execution_count": null,
   "metadata": {},
   "outputs": [],
   "source": [
    "from dataset.data_manager import BuildDataset, get_intervals_in_tracks_df\n",
    "from dataset.build_dataset import train_test_cyclones_num_split, calc_tile_offsets, labeled_tiles_from_metadatafiles_maxfast, make_relabeled_master_df, create_df_video_from_master_df\n",
    "from medicane_utils.load_files import load_all_images_in_intervals, get_files_from_folder, extract_dates_pattern_airmass_rgb_20200101_0000, in_any_interval_via_index\n",
    "\n",
    "import numpy as np\n",
    "import pandas as pd\n",
    "#from intervaltree import IntervalTree\n",
    "\n",
    "from arguments import prepare_finetuning_args\n",
    "\n",
    "\n",
    "input_dir=\"../fromgcloud\"\n",
    "output_dir = \"../airmassRGB/supervised/\" "
   ]
  },
  {
   "cell_type": "markdown",
   "metadata": {},
   "source": [
    "### costruisco il dataset dei cicloni 10"
   ]
  },
  {
   "cell_type": "code",
   "execution_count": 3,
   "metadata": {},
   "outputs": [
    {
     "data": {
      "text/plain": [
       "3397"
      ]
     },
     "execution_count": 3,
     "metadata": {},
     "output_type": "execute_result"
    }
   ],
   "source": [
    "tracks_df_MED_CL10 = pd.read_csv(\"manos_CL10_pixel.csv\", parse_dates=['time', 'start_time', 'end_time'])\n",
    "tracks_df_MED_CL10.shape[0]"
   ]
  },
  {
   "cell_type": "code",
   "execution_count": 4,
   "metadata": {},
   "outputs": [
    {
     "name": "stdout",
     "output_type": "stream",
     "text": [
      "Cicloni nel train: 28, cicloni nel test: 12\n"
     ]
    }
   ],
   "source": [
    "# divido le track di Manos in train e test\n",
    "cicloni_unici_train, cicloni_unici_test = train_test_cyclones_num_split(tracks_df_MED_CL10)"
   ]
  },
  {
   "cell_type": "code",
   "execution_count": 5,
   "metadata": {},
   "outputs": [
    {
     "name": "stdout",
     "output_type": "stream",
     "text": [
      "Train e test lengths: 2404, 993\n"
     ]
    }
   ],
   "source": [
    "tracks_df_train = tracks_df_MED_CL10[tracks_df_MED_CL10.id_cyc_unico.isin(cicloni_unici_train)]\n",
    "tracks_df_test = tracks_df_MED_CL10[tracks_df_MED_CL10.id_cyc_unico.isin(cicloni_unici_test)]\n",
    "print(f\"Train e test lengths: {tracks_df_train.shape[0]}, {tracks_df_test.shape[0]}\")"
   ]
  },
  {
   "cell_type": "code",
   "execution_count": 6,
   "metadata": {},
   "outputs": [
    {
     "name": "stdout",
     "output_type": "stream",
     "text": [
      "105 days 22:00:00\n",
      "47 days 03:00:00\n"
     ]
    }
   ],
   "source": [
    "# è come usare la fuzione \"get_intervals_in_tracks_df\"\n",
    "\n",
    "u_train = tracks_df_train.groupby(tracks_df_train.id_cyc_unico).apply('first')  \n",
    "print((u_train.end_time - u_train.start_time).sum())\n",
    "\n",
    "u_test = tracks_df_test.groupby(tracks_df_test.id_cyc_unico).apply('first')  \n",
    "print((u_test.end_time - u_test.start_time).sum())"
   ]
  },
  {
   "cell_type": "code",
   "execution_count": 21,
   "metadata": {
    "scrolled": true
   },
   "outputs": [
    {
     "name": "stdout",
     "output_type": "stream",
     "text": [
      "sorted_metadata_files num :  1285\n",
      "Colonna label_12_00 aggiunta\n",
      "1)  ->\n",
      "Num video CON cicloni: 98, Num video SENZA cicloni: 1150\tTotale video tiles: 1248\t\tBilanciamento video...\n",
      " video senza cicloni tenuti: 98\n",
      "\n",
      "\n",
      "\n",
      "Creazione delle folder per i 196 video...\tSalvati 3136 file - Erano già presenti 0 file - File totali 3136\n",
      "196 video per il periodo (effettivo) da 2014-11-05 23:45:00 a 2014-11-10 07:00:00\n",
      "\n"
     ]
    }
   ],
   "source": [
    "train_m = BuildDataset(type='SUPERVISED')\n",
    "train_m.get_data_ready(tracks_df_train, input_dir, output_dir, csv_file=\"train_CL10\")"
   ]
  },
  {
   "cell_type": "code",
   "execution_count": 18,
   "metadata": {},
   "outputs": [
    {
     "data": {
      "text/plain": [
       "tile_offset_x  tile_offset_y\n",
       "0              0                1285\n",
       "               196              1285\n",
       "213            0                1285\n",
       "               196              1285\n",
       "426            0                1285\n",
       "639            0                1285\n",
       "               196              1285\n",
       "852            0                1285\n",
       "1065           0                1285\n",
       "               196              1285\n",
       "426            196              1141\n",
       "852            196              1141\n",
       "Name: count, dtype: int64"
      ]
     },
     "execution_count": 18,
     "metadata": {},
     "output_type": "execute_result"
    }
   ],
   "source": [
    "train_m.master_df[['tile_offset_x', 'tile_offset_y']].value_counts()"
   ]
  },
  {
   "cell_type": "code",
   "execution_count": 89,
   "metadata": {},
   "outputs": [
    {
     "name": "stdout",
     "output_type": "stream",
     "text": [
      "sorted_metadata_files num :  6510\n",
      "Colonna label_12_00 aggiunta\n",
      "1)  ->\n",
      "Num video CON cicloni: 37, Num video SENZA cicloni: 511\tTotale video tiles: 548\t\tBilanciamento video...\n",
      " video senza cicloni tenuti: 37\n",
      "\n",
      "\n",
      "\n",
      "Creazione delle folder per i 74 video...\tSalvati 192 file - Erano già presenti 992 file - File totali 1184\n",
      "74 video per il periodo (effettivo) da 2020-03-30 16:45:00 a 2020-04-01 14:00:00\n",
      "\n",
      "2)  ->\n",
      "Num video CON cicloni: 60, Num video SENZA cicloni: 849\tTotale video tiles: 909\t\tBilanciamento video...\n",
      " video senza cicloni tenuti: 60\n",
      "\n",
      "\n",
      "\n",
      "Creazione delle folder per i 120 video...\tSalvati 1088 file - Erano già presenti 832 file - File totali 1920\n",
      "120 video per il periodo (effettivo) da 2020-04-19 20:20:00 a 2020-04-23 00:00:00\n",
      "\n",
      "3)  ->\n",
      "Num video CON cicloni: 101, Num video SENZA cicloni: 1003\tTotale video tiles: 1104\t\tBilanciamento video...\n",
      " video senza cicloni tenuti: 101\n",
      "\n",
      "\n",
      "\n",
      "Creazione delle folder per i 202 video...\tSalvati 1376 file - Erano già presenti 1856 file - File totali 3232\n",
      "202 video per il periodo (effettivo) da 2020-10-26 13:45:00 a 2020-10-30 12:00:00\n",
      "\n",
      "4)  ->\n",
      "Num video CON cicloni: 86, Num video SENZA cicloni: 1125\tTotale video tiles: 1211\t\tBilanciamento video...\n",
      " video senza cicloni tenuti: 86\n",
      "\n",
      "\n",
      "\n",
      "Creazione delle folder per i 172 video...\tSalvati 1424 file - Erano già presenti 1328 file - File totali 2752\n",
      "172 video per il periodo (effettivo) da 2020-11-19 03:45:00 a 2020-11-23 08:00:00\n",
      "\n",
      "5)  ->\n",
      "Num video CON cicloni: 111, Num video SENZA cicloni: 1016\tTotale video tiles: 1127\t\tBilanciamento video...\n",
      " video senza cicloni tenuti: 111\n",
      "\n",
      "\n",
      "\n",
      "Creazione delle folder per i 222 video...\tSalvati 1456 file - Erano già presenti 2096 file - File totali 3552\n",
      "222 video per il periodo (effettivo) da 2020-11-27 11:45:00 a 2020-12-01 12:00:00\n",
      "\n",
      "6)  ->\n",
      "Num video CON cicloni: 103, Num video SENZA cicloni: 1305\tTotale video tiles: 1408\t\tBilanciamento video...\n",
      " video senza cicloni tenuti: 103\n",
      "\n",
      "\n",
      "\n",
      "Creazione delle folder per i 206 video...\tSalvati 864 file - Erano già presenti 2432 file - File totali 3296\n",
      "206 video per il periodo (effettivo) da 2020-12-12 17:45:00 a 2020-12-17 16:00:00\n",
      "\n"
     ]
    }
   ],
   "source": [
    "test_m = BuildDataset(type='SUPERVISED')\n",
    "test_m.get_data_ready(tracks_df_test, input_dir, output_dir, csv_file=\"test_CL10\")"
   ]
  },
  {
   "cell_type": "code",
   "execution_count": 90,
   "metadata": {},
   "outputs": [
    {
     "name": "stdout",
     "output_type": "stream",
     "text": [
      "Training set: 196 samples - Test set: 996 samples\n"
     ]
    }
   ],
   "source": [
    "train_len, test_len = train_m.df_video.shape[0], test_m.df_video.shape[0]\n",
    "print(f\"Training set: {train_len} samples - Test set: {test_len} samples\")"
   ]
  },
  {
   "cell_type": "markdown",
   "metadata": {},
   "source": [
    "### Costruisco dataset con solo Medicanes"
   ]
  },
  {
   "cell_type": "code",
   "execution_count": 4,
   "metadata": {},
   "outputs": [
    {
     "data": {
      "text/plain": [
       "878"
      ]
     },
     "execution_count": 4,
     "metadata": {},
     "output_type": "execute_result"
    }
   ],
   "source": [
    "tracks_df_medicanes = pd.read_csv(\"manos_medicanes_only.csv\", parse_dates=['time', 'start_time', 'end_time'])\n",
    "tracks_df_medicanes.shape[0]"
   ]
  },
  {
   "cell_type": "code",
   "execution_count": 17,
   "metadata": {},
   "outputs": [
    {
     "name": "stdout",
     "output_type": "stream",
     "text": [
      "Cicloni nel train: 5, cicloni nel test: 2\n",
      "Train e test lengths: 543, 335\n",
      "22 days 16:00:00\n",
      "14 days 14:00:00\n"
     ]
    }
   ],
   "source": [
    "# divido le track di Manos in train e test\n",
    "cicloni_unici_train, cicloni_unici_test = train_test_cyclones_num_split(tracks_df_medicanes, train_p=0.8)\n",
    "tracks_df_train = tracks_df_medicanes[tracks_df_medicanes.id_cyc_unico.isin(cicloni_unici_train)]\n",
    "tracks_df_test = tracks_df_medicanes[tracks_df_medicanes.id_cyc_unico.isin(cicloni_unici_test)]\n",
    "print(f\"Train e test lengths: {tracks_df_train.shape[0]}, {tracks_df_test.shape[0]}\")\n",
    "\n",
    "u_train = tracks_df_train.groupby(tracks_df_train.id_cyc_unico).apply('first')  \n",
    "print((u_train.end_time - u_train.start_time).sum())\n",
    "u_test = tracks_df_test.groupby(tracks_df_test.id_cyc_unico).apply('first')  \n",
    "print((u_test.end_time - u_test.start_time).sum())"
   ]
  },
  {
   "cell_type": "code",
   "execution_count": 21,
   "metadata": {},
   "outputs": [
    {
     "name": "stdout",
     "output_type": "stream",
     "text": [
      "sorted_metadata_files num :  5524\n",
      "Colonna label_24_00 aggiunta\n",
      "1)  ->\n",
      "Num video CON cicloni: 60, Num video SENZA cicloni: 1133\tTotale video tiles: 1193\n",
      "Bilanciamento video...\t\t video senza cicloni tenuti: 60\n",
      "\n",
      "Creazione delle folder per i 120 video...\tSalvati 0 file - Erano già presenti 1920 file - File totali 1920\n",
      "120 video per il periodo (effettivo) da 2011-11-05 09:45:00 a 2011-11-09 14:00:00\n",
      "\n",
      "2)  ->\n",
      "Num video CON cicloni: 74, Num video SENZA cicloni: 1150\tTotale video tiles: 1224\n",
      "Bilanciamento video...\t\t video senza cicloni tenuti: 74\n",
      "\n",
      "Creazione delle folder per i 148 video...\tSalvati 0 file - Erano già presenti 2368 file - File totali 2368\n",
      "148 video per il periodo (effettivo) da 2014-11-05 23:45:00 a 2014-11-10 07:00:00\n",
      "\n",
      "3)  ->\n",
      "Num video CON cicloni: 88, Num video SENZA cicloni: 1432\tTotale video tiles: 1520\n",
      "Bilanciamento video...\t\t video senza cicloni tenuti: 88\n",
      "\n",
      "Creazione delle folder per i 176 video...\tSalvati 0 file - Erano già presenti 2816 file - File totali 2816\n",
      "176 video per il periodo (effettivo) da 2016-10-27 16:45:00 a 2016-11-02 01:00:00\n",
      "\n",
      "4)  ->\n",
      "Num video CON cicloni: 78, Num video SENZA cicloni: 1235\tTotale video tiles: 1313\n",
      "Bilanciamento video...\t\t video senza cicloni tenuti: 78\n",
      "\n",
      "Creazione delle folder per i 156 video...\tSalvati 0 file - Erano già presenti 2496 file - File totali 2496\n",
      "156 video per il periodo (effettivo) da 2017-11-15 00:45:00 a 2017-11-19 15:00:00\n",
      "\n"
     ]
    }
   ],
   "source": [
    "args = prepare_finetuning_args()\n",
    "train_m = BuildDataset(type='SUPERVISED', args=args)\n",
    "train_m.get_data_ready(tracks_df_train, input_dir, output_dir, csv_file=\"train_medicanes\")"
   ]
  },
  {
   "cell_type": "code",
   "execution_count": 22,
   "metadata": {},
   "outputs": [
    {
     "name": "stdout",
     "output_type": "stream",
     "text": [
      "sorted_metadata_files num :  3952\n",
      "Colonna label_24_00 aggiunta\n",
      "1)  ->\n",
      "Num video CON cicloni: 71, Num video SENZA cicloni: 877\tTotale video tiles: 948\n",
      "Bilanciamento video...\t\t video senza cicloni tenuti: 71\n",
      "\n",
      "Creazione delle folder per i 142 video...\tSalvati 2272 file - Erano già presenti 0 file - File totali 2272\n",
      "142 video per il periodo (effettivo) da 2018-09-26 13:45:00 a 2018-09-29 23:00:00\n",
      "\n",
      "2)  ->\n",
      "Num video CON cicloni: 47, Num video SENZA cicloni: 649\tTotale video tiles: 696\n",
      "Bilanciamento video...\t\t video senza cicloni tenuti: 47\n",
      "\n",
      "Creazione delle folder per i 94 video...\tSalvati 1504 file - Erano già presenti 0 file - File totali 1504\n",
      "94 video per il periodo (effettivo) da 2018-09-30 01:45:00 a 2018-10-02 14:00:00\n",
      "\n",
      "3)  ->\n",
      "Num video CON cicloni: 0, Num video SENZA cicloni: 162\tTotale video tiles: 162\n",
      "Bilanciamento video...\t\t video senza cicloni tenuti: 0\n",
      "No video present for period: 2020-09-12 05:00:00 to 2020-09-12 21:00:00\n",
      "4)  ->\n",
      "Num video CON cicloni: 4, Num video SENZA cicloni: 66\tTotale video tiles: 70\n",
      "Bilanciamento video...\t\t video senza cicloni tenuti: 4\n",
      "\n",
      "Creazione delle folder per i 8 video...\tSalvati 128 file - Erano già presenti 0 file - File totali 128\n",
      "8 video per il periodo (effettivo) da 2020-09-13 05:45:00 a 2020-09-13 10:00:00\n",
      "\n",
      "5)  ->\n",
      "Num video CON cicloni: 182, Num video SENZA cicloni: 1738\tTotale video tiles: 1920\n",
      "Bilanciamento video...\t\t video senza cicloni tenuti: 182\n",
      "\n",
      "Creazione delle folder per i 364 video...\tSalvati 5824 file - Erano già presenti 0 file - File totali 5824\n",
      "364 video per il periodo (effettivo) da 2020-09-13 23:45:00 a 2020-09-20 17:00:00\n",
      "\n"
     ]
    }
   ],
   "source": [
    "test_m = BuildDataset(type='SUPERVISED', args=args)\n",
    "test_m.get_data_ready(tracks_df_test, input_dir, output_dir, csv_file=\"test_medicanes\")"
   ]
  },
  {
   "cell_type": "code",
   "execution_count": null,
   "metadata": {},
   "outputs": [],
   "source": []
  }
 ],
 "metadata": {
  "kernelspec": {
   "display_name": "videomae",
   "language": "python",
   "name": "python3"
  },
  "language_info": {
   "codemirror_mode": {
    "name": "ipython",
    "version": 3
   },
   "file_extension": ".py",
   "mimetype": "text/x-python",
   "name": "python",
   "nbconvert_exporter": "python",
   "pygments_lexer": "ipython3",
   "version": "3.9.21"
  }
 },
 "nbformat": 4,
 "nbformat_minor": 4
}
