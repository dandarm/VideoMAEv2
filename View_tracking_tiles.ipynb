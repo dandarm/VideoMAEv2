{
  "cells": [
    {
      "cell_type": "markdown",
      "metadata": {},
      "source": [
        "# Visualize tracking dataset\n",
        "\n",
        "Load a sample from `MedicanesTrackDataset` and overlay the cyclone centre on the video tile.\n",
        "\n",
        "Set `csv_path` and `data_root` to point to your local data."
      ]
    },
    {
      "cell_type": "code",
      "execution_count": null,
      "metadata": {},
      "outputs": [],
      "source": [
        "import os, re\n",
        "import numpy as np\n",
        "import torch\n",
        "from torch.utils.data import DataLoader\n",
        "from dataset.tracking_dataset import MedicanesTrackDataset\n",
        "from dataset.build_dataset import get_cyclone_center_pixel\n",
        "from view_test_tiles import display_video_clip\n",
        "from PIL import Image, ImageDraw\n"
      ]
    },
    {
      "cell_type": "code",
      "execution_count": null,
      "metadata": {},
      "outputs": [],
      "source": [
        "# Paths to the annotation CSV and tile frames\n",
        "csv_path = 'PATH/TO/tracking_annotations.csv'\n",
        "data_root = 'PATH/TO/tiles'\n",
        "\n",
        "# Create dataset and loader\n",
        "track_ds = MedicanesTrackDataset(csv_path, data_root=data_root)\n",
        "loader = DataLoader(track_ds, batch_size=1, shuffle=True)\n"
      ]
    },
    {
      "cell_type": "code",
      "execution_count": null,
      "metadata": {},
      "outputs": [],
      "source": [
        "def extract_offsets(folder_path: str):\n",
        "    \"\"\"Parse tile top-left corner (x, y) from folder name.\"\"\"\n",
        "    base = os.path.basename(folder_path.rstrip(os.sep))\n",
        "    nums = [int(n) for n in re.findall(r'\\d+', base)]\n",
        "    if len(nums) >= 2:\n",
        "        return nums[-2], nums[-1]\n",
        "    return 0, 0\n"
      ]
    },
    {
      "cell_type": "code",
      "execution_count": null,
      "metadata": {},
      "outputs": [],
      "source": [
        "# Grab a single example\n",
        "video, coords, folder = track_ds[0]\n",
        "\n",
        "# Undo normalization to [0, 1]\n",
        "mean = torch.tensor([0.485, 0.456, 0.406]).view(3,1,1,1)\n",
        "std = torch.tensor([0.229, 0.224, 0.225]).view(3,1,1,1)\n",
        "video = (video * std + mean).clamp(0, 1)\n",
        "\n",
        "# Convert to numpy [T, H, W, C]\n",
        "video_np = video.permute(1, 2, 3, 0).numpy()\n",
        "\n",
        "# Convert geographic coords to pixel position in the big frame\n",
        "lon, lat = coords.tolist()\n",
        "px, py = get_cyclone_center_pixel(lat, lon)\n",
        "\n",
        "# Extract tile offset from folder path and compute position in the tile\n",
        "x_off, y_off = extract_offsets(folder)\n",
        "px_tile = px - x_off\n",
        "py_tile = py - y_off\n",
        "\n",
        "# Draw the cyclone centre on each frame\n",
        "frames = []\n",
        "for frame in video_np:\n",
        "    img = (frame * 255).astype(np.uint8)\n",
        "    pil = Image.fromarray(img)\n",
        "    draw = ImageDraw.Draw(pil)\n",
        "    r = 4\n",
        "    draw.ellipse((px_tile - r, py_tile - r, px_tile + r, py_tile + r), fill=(255, 0, 0))\n",
        "    frames.append(np.asarray(pil) / 255.0)\n",
        "\n",
        "# Display the clip\n",
        "display_video_clip(frames)\n"
      ]
    }
  ],
  "metadata": {
    "kernelspec": {
      "display_name": "Python 3",
      "language": "python",
      "name": "python3"
    },
    "language_info": {
      "name": "python",
      "version": "3.10"
    }
  },
  "nbformat": 4,
  "nbformat_minor": 5
}