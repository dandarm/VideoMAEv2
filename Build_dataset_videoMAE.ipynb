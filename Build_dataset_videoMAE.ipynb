{
 "cells": [
  {
   "cell_type": "code",
   "execution_count": null,
   "id": "23eaabe1-9639-4c27-a77b-0d924199cf91",
   "metadata": {},
   "outputs": [],
   "source": [
    "%load_ext autoreload\n",
    "%autoreload 2\n",
    "\n",
    "import os\n",
    "from pathlib import Path\n",
    "import shutil\n",
    "import csv\n",
    "import re\n",
    "from collections import defaultdict\n",
    "from datetime import datetime\n",
    "import pandas as pd\n",
    "\n",
    "import sys\n",
    "sys.path.append(\"./missing_data\")\n",
    "\n",
    "from mpl_toolkits.basemap import Basemap\n",
    "from build_dataset import get_files_from_folder, extract_dates_pattern_airmass_rgb_20200101_0000\n",
    "from build_dataset import load_cyclones_track_noheader, compute_pixel_scale, inside_tile\n",
    "from build_dataset import split_into_tiles_subfolders_and_track_dates\n"
   ]
  },
  {
   "cell_type": "code",
   "execution_count": 2,
   "id": "02992b7b",
   "metadata": {},
   "outputs": [],
   "source": [
    "# BASEMAP \n",
    "latcorners = [30, 48]\n",
    "loncorners = [-7, 46]\n",
    "basemap_obj = Basemap(\n",
    "    projection='geos',\n",
    "    rsphere=(6378137.0, 6356752.3142),\n",
    "    resolution='i',\n",
    "    area_thresh=10000.,\n",
    "    lon_0=9.5,\n",
    "    satellite_height=3.5785831E7\n",
    ")\n",
    "x_center, y_center = basemap_obj(9.5, 0)\n",
    "Xmin, Ymin, px_scale_x, px_scale_y = compute_pixel_scale(basemap_obj, latcorners, loncorners)"
   ]
  },
  {
   "cell_type": "code",
   "execution_count": 3,
   "id": "4aeb50a6",
   "metadata": {},
   "outputs": [
    {
     "data": {
      "text/plain": [
       "(757.5205385725667, 804.8615703175508)"
      ]
     },
     "execution_count": 3,
     "metadata": {},
     "output_type": "execute_result"
    }
   ],
   "source": [
    "1/px_scale_y/1000 * 224, 1/px_scale_x/1000 * 224"
   ]
  },
  {
   "cell_type": "code",
   "execution_count": 24,
   "id": "8094fef6-6675-42c9-8321-2485f5f6cc54",
   "metadata": {},
   "outputs": [
    {
     "name": "stdout",
     "output_type": "stream",
     "text": [
      " Ci sono 117764 files.\n"
     ]
    }
   ],
   "source": [
    "# Percorso alla cartella dei frame\n",
    "input_dir = \"../fromgcloud\"\n",
    "output_dir = \"../airmassRGB/supervised\" \n",
    "#os.makedirs(output_dir, exist_ok=True)\n",
    "\n",
    "filenames = get_files_from_folder(folder=input_dir, extension=\"png\")\n",
    "#print(f\"Trovati {len(filenames)} files\")\n",
    "file_metadata = []  # contiene i nomi e le date\n",
    "for fname in filenames:\n",
    "    start_dt = extract_dates_pattern_airmass_rgb_20200101_0000(fname.name)\n",
    "    file_metadata.append((fname, start_dt))\n",
    "\n",
    "sorted_metadata = sorted(file_metadata, key=lambda x: x[1])  # Ordina per start_dt\n",
    "#random_fnames =  [item[0] for item in file_metadata]\n",
    "sorted_filenames = [item[0] for item in sorted_metadata]\n",
    "print(f\" Ci sono {len(sorted_filenames)} files.\")"
   ]
  },
  {
   "cell_type": "code",
   "execution_count": 25,
   "id": "9486a86a-55c4-404f-9546-8938f2ec7159",
   "metadata": {},
   "outputs": [
    {
     "data": {
      "text/plain": [
       "[(PosixPath('../fromgcloud/airmass_rgb_20111101_0000.png'),\n",
       "  datetime.datetime(2011, 11, 1, 0, 0)),\n",
       " (PosixPath('../fromgcloud/airmass_rgb_20111101_0005.png'),\n",
       "  datetime.datetime(2011, 11, 1, 0, 5)),\n",
       " (PosixPath('../fromgcloud/airmass_rgb_20111101_0010.png'),\n",
       "  datetime.datetime(2011, 11, 1, 0, 10)),\n",
       " (PosixPath('../fromgcloud/airmass_rgb_20111101_0015.png'),\n",
       "  datetime.datetime(2011, 11, 1, 0, 15)),\n",
       " (PosixPath('../fromgcloud/airmass_rgb_20111101_0020.png'),\n",
       "  datetime.datetime(2011, 11, 1, 0, 20)),\n",
       " (PosixPath('../fromgcloud/airmass_rgb_20111101_0025.png'),\n",
       "  datetime.datetime(2011, 11, 1, 0, 25)),\n",
       " (PosixPath('../fromgcloud/airmass_rgb_20111101_0030.png'),\n",
       "  datetime.datetime(2011, 11, 1, 0, 30)),\n",
       " (PosixPath('../fromgcloud/airmass_rgb_20111101_0035.png'),\n",
       "  datetime.datetime(2011, 11, 1, 0, 35)),\n",
       " (PosixPath('../fromgcloud/airmass_rgb_20111101_0040.png'),\n",
       "  datetime.datetime(2011, 11, 1, 0, 40)),\n",
       " (PosixPath('../fromgcloud/airmass_rgb_20111101_0045.png'),\n",
       "  datetime.datetime(2011, 11, 1, 0, 45)),\n",
       " (PosixPath('../fromgcloud/airmass_rgb_20111101_0050.png'),\n",
       "  datetime.datetime(2011, 11, 1, 0, 50)),\n",
       " (PosixPath('../fromgcloud/airmass_rgb_20111101_0055.png'),\n",
       "  datetime.datetime(2011, 11, 1, 0, 55)),\n",
       " (PosixPath('../fromgcloud/airmass_rgb_20111101_0100.png'),\n",
       "  datetime.datetime(2011, 11, 1, 1, 0)),\n",
       " (PosixPath('../fromgcloud/airmass_rgb_20111101_0105.png'),\n",
       "  datetime.datetime(2011, 11, 1, 1, 5)),\n",
       " (PosixPath('../fromgcloud/airmass_rgb_20111101_0110.png'),\n",
       "  datetime.datetime(2011, 11, 1, 1, 10)),\n",
       " (PosixPath('../fromgcloud/airmass_rgb_20111101_0115.png'),\n",
       "  datetime.datetime(2011, 11, 1, 1, 15)),\n",
       " (PosixPath('../fromgcloud/airmass_rgb_20111101_0120.png'),\n",
       "  datetime.datetime(2011, 11, 1, 1, 20)),\n",
       " (PosixPath('../fromgcloud/airmass_rgb_20111101_0125.png'),\n",
       "  datetime.datetime(2011, 11, 1, 1, 25)),\n",
       " (PosixPath('../fromgcloud/airmass_rgb_20111101_0130.png'),\n",
       "  datetime.datetime(2011, 11, 1, 1, 30)),\n",
       " (PosixPath('../fromgcloud/airmass_rgb_20111101_0135.png'),\n",
       "  datetime.datetime(2011, 11, 1, 1, 35)),\n",
       " (PosixPath('../fromgcloud/airmass_rgb_20111101_0140.png'),\n",
       "  datetime.datetime(2011, 11, 1, 1, 40)),\n",
       " (PosixPath('../fromgcloud/airmass_rgb_20111101_0145.png'),\n",
       "  datetime.datetime(2011, 11, 1, 1, 45)),\n",
       " (PosixPath('../fromgcloud/airmass_rgb_20111101_0150.png'),\n",
       "  datetime.datetime(2011, 11, 1, 1, 50)),\n",
       " (PosixPath('../fromgcloud/airmass_rgb_20111101_0155.png'),\n",
       "  datetime.datetime(2011, 11, 1, 1, 55)),\n",
       " (PosixPath('../fromgcloud/airmass_rgb_20111101_0200.png'),\n",
       "  datetime.datetime(2011, 11, 1, 2, 0)),\n",
       " (PosixPath('../fromgcloud/airmass_rgb_20111101_0205.png'),\n",
       "  datetime.datetime(2011, 11, 1, 2, 5)),\n",
       " (PosixPath('../fromgcloud/airmass_rgb_20111101_0210.png'),\n",
       "  datetime.datetime(2011, 11, 1, 2, 10)),\n",
       " (PosixPath('../fromgcloud/airmass_rgb_20111101_0215.png'),\n",
       "  datetime.datetime(2011, 11, 1, 2, 15)),\n",
       " (PosixPath('../fromgcloud/airmass_rgb_20111101_0220.png'),\n",
       "  datetime.datetime(2011, 11, 1, 2, 20)),\n",
       " (PosixPath('../fromgcloud/airmass_rgb_20111101_0225.png'),\n",
       "  datetime.datetime(2011, 11, 1, 2, 25)),\n",
       " (PosixPath('../fromgcloud/airmass_rgb_20111101_0230.png'),\n",
       "  datetime.datetime(2011, 11, 1, 2, 30)),\n",
       " (PosixPath('../fromgcloud/airmass_rgb_20111101_0235.png'),\n",
       "  datetime.datetime(2011, 11, 1, 2, 35))]"
      ]
     },
     "execution_count": 25,
     "metadata": {},
     "output_type": "execute_result"
    }
   ],
   "source": [
    "sorted_metadata = sorted_metadata[:32]\n",
    "sorted_metadata"
   ]
  },
  {
   "cell_type": "code",
   "execution_count": 26,
   "id": "d9ff287a-f1b5-431f-90e8-76b78d26f533",
   "metadata": {},
   "outputs": [
    {
     "name": "stdout",
     "output_type": "stream",
     "text": [
      "num_subfolders: 2\n",
      "0 tilex 0 \t tiley 0 part_index 2\n",
      "1 tilex 112 \t tiley 0 part_index 2\n",
      "2 tilex 224 \t tiley 0 part_index 2\n",
      "3 tilex 336 \t tiley 0 part_index 2\n",
      "4 tilex 448 \t tiley 0 part_index 2\n",
      "5 tilex 560 \t tiley 0 part_index 2\n",
      "6 tilex 672 \t tiley 0 part_index 2\n",
      "7 tilex 784 \t tiley 0 part_index 2\n",
      "8 tilex 896 \t tiley 0 part_index 2\n",
      "9 tilex 1008 \t tiley 0 part_index 2\n",
      "10 tilex 0 \t tiley 112 part_index 2\n",
      "11 tilex 112 \t tiley 112 part_index 2\n",
      "12 tilex 224 \t tiley 112 part_index 2\n",
      "13 tilex 336 \t tiley 112 part_index 2\n",
      "14 tilex 448 \t tiley 112 part_index 2\n",
      "15 tilex 560 \t tiley 112 part_index 2\n",
      "16 tilex 672 \t tiley 112 part_index 2\n",
      "17 tilex 784 \t tiley 112 part_index 2\n",
      "18 tilex 896 \t tiley 112 part_index 2\n",
      "19 tilex 1008 \t tiley 112 part_index 2\n",
      "Creati 40 tile-video in total.\n"
     ]
    }
   ],
   "source": [
    "#sf = [(p, dt) for p, dt in zip(sorted_filenames, [f[1] for f in sorted_files])]\n",
    "#print(f\"sorted filenames, len = {len(sf)}\")\n",
    "subfolder_info = split_into_tiles_subfolders_and_track_dates(sorted_filenames=sorted_metadata, output_dir=output_dir)\n",
    "print(f\"Creati {len(subfolder_info)} tile-video in total.\")"
   ]
  },
  {
   "cell_type": "code",
   "execution_count": 30,
   "id": "2ea3adaf",
   "metadata": {},
   "outputs": [
    {
     "data": {
      "text/plain": [
       "{'folder': '../airmassRGB/supervised/part1_560_0',\n",
       " 'datetimes': [datetime.datetime(2011, 11, 1, 0, 0),\n",
       "  datetime.datetime(2011, 11, 1, 0, 5),\n",
       "  datetime.datetime(2011, 11, 1, 0, 10),\n",
       "  datetime.datetime(2011, 11, 1, 0, 15),\n",
       "  datetime.datetime(2011, 11, 1, 0, 20),\n",
       "  datetime.datetime(2011, 11, 1, 0, 25),\n",
       "  datetime.datetime(2011, 11, 1, 0, 30),\n",
       "  datetime.datetime(2011, 11, 1, 0, 35),\n",
       "  datetime.datetime(2011, 11, 1, 0, 40),\n",
       "  datetime.datetime(2011, 11, 1, 0, 45),\n",
       "  datetime.datetime(2011, 11, 1, 0, 50),\n",
       "  datetime.datetime(2011, 11, 1, 0, 55),\n",
       "  datetime.datetime(2011, 11, 1, 1, 0),\n",
       "  datetime.datetime(2011, 11, 1, 1, 5),\n",
       "  datetime.datetime(2011, 11, 1, 1, 10),\n",
       "  datetime.datetime(2011, 11, 1, 1, 15)],\n",
       " 'tile_x': 560,\n",
       " 'tile_y': 0}"
      ]
     },
     "execution_count": 30,
     "metadata": {},
     "output_type": "execute_result"
    }
   ],
   "source": [
    "subfolder_info[10]"
   ]
  },
  {
   "cell_type": "code",
   "execution_count": 31,
   "id": "47ea7dbd",
   "metadata": {},
   "outputs": [
    {
     "data": {
      "text/plain": [
       "40"
      ]
     },
     "execution_count": 31,
     "metadata": {},
     "output_type": "execute_result"
    }
   ],
   "source": [
    "len(subfolder_info)"
   ]
  },
  {
   "cell_type": "code",
   "execution_count": 1,
   "id": "bcb70017",
   "metadata": {},
   "outputs": [
    {
     "ename": "NameError",
     "evalue": "name 'load_cyclones_track_noheader' is not defined",
     "output_type": "error",
     "traceback": [
      "\u001b[0;31m---------------------------------------------------------------------------\u001b[0m",
      "\u001b[0;31mNameError\u001b[0m                                 Traceback (most recent call last)",
      "Cell \u001b[0;32mIn[1], line 3\u001b[0m\n\u001b[1;32m      1\u001b[0m \u001b[38;5;66;03m# 2) Carico i ciclonici\u001b[39;00m\n\u001b[1;32m      2\u001b[0m tracks_file \u001b[38;5;241m=\u001b[39m \u001b[38;5;124m\"\u001b[39m\u001b[38;5;124m./TRACKS_CL7.dat\u001b[39m\u001b[38;5;124m\"\u001b[39m  \n\u001b[0;32m----> 3\u001b[0m df_tracks \u001b[38;5;241m=\u001b[39m \u001b[43mload_cyclones_track_noheader\u001b[49m(tracks_file)\n",
      "\u001b[0;31mNameError\u001b[0m: name 'load_cyclones_track_noheader' is not defined"
     ]
    }
   ],
   "source": [
    "# 2) Carico i ciclonici\n",
    "tracks_file = \"./TRACKS_CL7.dat\"  \n",
    "df_tracks = load_cyclones_track_noheader(tracks_file)"
   ]
  },
  {
   "cell_type": "code",
   "execution_count": 123,
   "id": "3e14911d",
   "metadata": {},
   "outputs": [
    {
     "data": {
      "text/html": [
       "<div>\n",
       "<style scoped>\n",
       "    .dataframe tbody tr th:only-of-type {\n",
       "        vertical-align: middle;\n",
       "    }\n",
       "\n",
       "    .dataframe tbody tr th {\n",
       "        vertical-align: top;\n",
       "    }\n",
       "\n",
       "    .dataframe thead th {\n",
       "        text-align: right;\n",
       "    }\n",
       "</style>\n",
       "<table border=\"1\" class=\"dataframe\">\n",
       "  <thead>\n",
       "    <tr style=\"text-align: right;\">\n",
       "      <th></th>\n",
       "      <th>id_cyc</th>\n",
       "      <th>lat</th>\n",
       "      <th>lon</th>\n",
       "      <th>time</th>\n",
       "      <th>year</th>\n",
       "      <th>month</th>\n",
       "      <th>day</th>\n",
       "      <th>hour</th>\n",
       "    </tr>\n",
       "  </thead>\n",
       "  <tbody>\n",
       "    <tr>\n",
       "      <th>131456</th>\n",
       "      <td>00001618</td>\n",
       "      <td>8.676</td>\n",
       "      <td>43.439</td>\n",
       "      <td>2018-09-01 00:00:00</td>\n",
       "      <td>2018</td>\n",
       "      <td>9</td>\n",
       "      <td>1</td>\n",
       "      <td>0</td>\n",
       "    </tr>\n",
       "    <tr>\n",
       "      <th>131457</th>\n",
       "      <td>00001618</td>\n",
       "      <td>8.943</td>\n",
       "      <td>43.447</td>\n",
       "      <td>2018-09-01 01:00:00</td>\n",
       "      <td>2018</td>\n",
       "      <td>9</td>\n",
       "      <td>1</td>\n",
       "      <td>1</td>\n",
       "    </tr>\n",
       "    <tr>\n",
       "      <th>131458</th>\n",
       "      <td>00001618</td>\n",
       "      <td>9.247</td>\n",
       "      <td>43.476</td>\n",
       "      <td>2018-09-01 02:00:00</td>\n",
       "      <td>2018</td>\n",
       "      <td>9</td>\n",
       "      <td>1</td>\n",
       "      <td>2</td>\n",
       "    </tr>\n",
       "    <tr>\n",
       "      <th>131459</th>\n",
       "      <td>00001618</td>\n",
       "      <td>9.518</td>\n",
       "      <td>43.518</td>\n",
       "      <td>2018-09-01 03:00:00</td>\n",
       "      <td>2018</td>\n",
       "      <td>9</td>\n",
       "      <td>1</td>\n",
       "      <td>3</td>\n",
       "    </tr>\n",
       "    <tr>\n",
       "      <th>131460</th>\n",
       "      <td>00001618</td>\n",
       "      <td>9.719</td>\n",
       "      <td>43.569</td>\n",
       "      <td>2018-09-01 04:00:00</td>\n",
       "      <td>2018</td>\n",
       "      <td>9</td>\n",
       "      <td>1</td>\n",
       "      <td>4</td>\n",
       "    </tr>\n",
       "    <tr>\n",
       "      <th>...</th>\n",
       "      <td>...</td>\n",
       "      <td>...</td>\n",
       "      <td>...</td>\n",
       "      <td>...</td>\n",
       "      <td>...</td>\n",
       "      <td>...</td>\n",
       "      <td>...</td>\n",
       "      <td>...</td>\n",
       "    </tr>\n",
       "    <tr>\n",
       "      <th>131895</th>\n",
       "      <td>00001622</td>\n",
       "      <td>24.821</td>\n",
       "      <td>38.373</td>\n",
       "      <td>2018-09-30 19:00:00</td>\n",
       "      <td>2018</td>\n",
       "      <td>9</td>\n",
       "      <td>30</td>\n",
       "      <td>19</td>\n",
       "    </tr>\n",
       "    <tr>\n",
       "      <th>131896</th>\n",
       "      <td>00001622</td>\n",
       "      <td>24.910</td>\n",
       "      <td>38.392</td>\n",
       "      <td>2018-09-30 20:00:00</td>\n",
       "      <td>2018</td>\n",
       "      <td>9</td>\n",
       "      <td>30</td>\n",
       "      <td>20</td>\n",
       "    </tr>\n",
       "    <tr>\n",
       "      <th>131897</th>\n",
       "      <td>00001622</td>\n",
       "      <td>24.998</td>\n",
       "      <td>38.418</td>\n",
       "      <td>2018-09-30 21:00:00</td>\n",
       "      <td>2018</td>\n",
       "      <td>9</td>\n",
       "      <td>30</td>\n",
       "      <td>21</td>\n",
       "    </tr>\n",
       "    <tr>\n",
       "      <th>131898</th>\n",
       "      <td>00001622</td>\n",
       "      <td>25.069</td>\n",
       "      <td>38.464</td>\n",
       "      <td>2018-09-30 22:00:00</td>\n",
       "      <td>2018</td>\n",
       "      <td>9</td>\n",
       "      <td>30</td>\n",
       "      <td>22</td>\n",
       "    </tr>\n",
       "    <tr>\n",
       "      <th>131899</th>\n",
       "      <td>00001622</td>\n",
       "      <td>25.119</td>\n",
       "      <td>38.532</td>\n",
       "      <td>2018-09-30 23:00:00</td>\n",
       "      <td>2018</td>\n",
       "      <td>9</td>\n",
       "      <td>30</td>\n",
       "      <td>23</td>\n",
       "    </tr>\n",
       "  </tbody>\n",
       "</table>\n",
       "<p>444 rows × 8 columns</p>\n",
       "</div>"
      ],
      "text/plain": [
       "          id_cyc     lat     lon                time  year  month  day  hour\n",
       "131456  00001618   8.676  43.439 2018-09-01 00:00:00  2018      9    1     0\n",
       "131457  00001618   8.943  43.447 2018-09-01 01:00:00  2018      9    1     1\n",
       "131458  00001618   9.247  43.476 2018-09-01 02:00:00  2018      9    1     2\n",
       "131459  00001618   9.518  43.518 2018-09-01 03:00:00  2018      9    1     3\n",
       "131460  00001618   9.719  43.569 2018-09-01 04:00:00  2018      9    1     4\n",
       "...          ...     ...     ...                 ...   ...    ...  ...   ...\n",
       "131895  00001622  24.821  38.373 2018-09-30 19:00:00  2018      9   30    19\n",
       "131896  00001622  24.910  38.392 2018-09-30 20:00:00  2018      9   30    20\n",
       "131897  00001622  24.998  38.418 2018-09-30 21:00:00  2018      9   30    21\n",
       "131898  00001622  25.069  38.464 2018-09-30 22:00:00  2018      9   30    22\n",
       "131899  00001622  25.119  38.532 2018-09-30 23:00:00  2018      9   30    23\n",
       "\n",
       "[444 rows x 8 columns]"
      ]
     },
     "execution_count": 123,
     "metadata": {},
     "output_type": "execute_result"
    }
   ],
   "source": [
    "m = df_tracks.year == 2018 #.unique()\n",
    "mset = df_tracks[m].month == 9\n",
    "df_tracks[m&mset]"
   ]
  },
  {
   "cell_type": "code",
   "execution_count": null,
   "id": "f2e4d979",
   "metadata": {},
   "outputs": [],
   "source": []
  },
  {
   "cell_type": "code",
   "execution_count": 104,
   "id": "171957f3",
   "metadata": {},
   "outputs": [
    {
     "data": {
      "text/html": [
       "<div>\n",
       "<style scoped>\n",
       "    .dataframe tbody tr th:only-of-type {\n",
       "        vertical-align: middle;\n",
       "    }\n",
       "\n",
       "    .dataframe tbody tr th {\n",
       "        vertical-align: top;\n",
       "    }\n",
       "\n",
       "    .dataframe thead th {\n",
       "        text-align: right;\n",
       "    }\n",
       "</style>\n",
       "<table border=\"1\" class=\"dataframe\">\n",
       "  <thead>\n",
       "    <tr style=\"text-align: right;\">\n",
       "      <th></th>\n",
       "      <th>path</th>\n",
       "      <th>start</th>\n",
       "      <th>end</th>\n",
       "      <th>label</th>\n",
       "      <th>start_time</th>\n",
       "      <th>end_time</th>\n",
       "    </tr>\n",
       "  </thead>\n",
       "  <tbody>\n",
       "    <tr>\n",
       "      <th>22395</th>\n",
       "      <td>../airmassRGB/supervised/part316_336_0</td>\n",
       "      <td>1</td>\n",
       "      <td>16</td>\n",
       "      <td>1</td>\n",
       "      <td>2014-11-10 11:55:00</td>\n",
       "      <td>2014-11-10 13:10:00</td>\n",
       "    </tr>\n",
       "    <tr>\n",
       "      <th>22396</th>\n",
       "      <td>../airmassRGB/supervised/part317_336_0</td>\n",
       "      <td>1</td>\n",
       "      <td>16</td>\n",
       "      <td>1</td>\n",
       "      <td>2014-11-10 13:15:00</td>\n",
       "      <td>2014-11-10 14:30:00</td>\n",
       "    </tr>\n",
       "    <tr>\n",
       "      <th>23716</th>\n",
       "      <td>../airmassRGB/supervised/part1637_336_0</td>\n",
       "      <td>1</td>\n",
       "      <td>16</td>\n",
       "      <td>1</td>\n",
       "      <td>2020-03-15 23:05:00</td>\n",
       "      <td>2020-03-16 00:20:00</td>\n",
       "    </tr>\n",
       "    <tr>\n",
       "      <th>23717</th>\n",
       "      <td>../airmassRGB/supervised/part1638_336_0</td>\n",
       "      <td>1</td>\n",
       "      <td>16</td>\n",
       "      <td>1</td>\n",
       "      <td>2020-03-16 00:25:00</td>\n",
       "      <td>2020-03-16 01:40:00</td>\n",
       "    </tr>\n",
       "    <tr>\n",
       "      <th>23718</th>\n",
       "      <td>../airmassRGB/supervised/part1639_336_0</td>\n",
       "      <td>1</td>\n",
       "      <td>16</td>\n",
       "      <td>1</td>\n",
       "      <td>2020-03-16 01:45:00</td>\n",
       "      <td>2020-03-16 03:00:00</td>\n",
       "    </tr>\n",
       "    <tr>\n",
       "      <th>...</th>\n",
       "      <td>...</td>\n",
       "      <td>...</td>\n",
       "      <td>...</td>\n",
       "      <td>...</td>\n",
       "      <td>...</td>\n",
       "      <td>...</td>\n",
       "    </tr>\n",
       "    <tr>\n",
       "      <th>139242</th>\n",
       "      <td>../airmassRGB/supervised/part6763_896_112</td>\n",
       "      <td>1</td>\n",
       "      <td>16</td>\n",
       "      <td>1</td>\n",
       "      <td>2020-12-25 23:05:00</td>\n",
       "      <td>2020-12-26 00:20:00</td>\n",
       "    </tr>\n",
       "    <tr>\n",
       "      <th>139243</th>\n",
       "      <td>../airmassRGB/supervised/part6764_896_112</td>\n",
       "      <td>1</td>\n",
       "      <td>16</td>\n",
       "      <td>1</td>\n",
       "      <td>2020-12-26 00:25:00</td>\n",
       "      <td>2020-12-26 01:40:00</td>\n",
       "    </tr>\n",
       "    <tr>\n",
       "      <th>139244</th>\n",
       "      <td>../airmassRGB/supervised/part6765_896_112</td>\n",
       "      <td>1</td>\n",
       "      <td>16</td>\n",
       "      <td>1</td>\n",
       "      <td>2020-12-26 01:45:00</td>\n",
       "      <td>2020-12-26 03:00:00</td>\n",
       "    </tr>\n",
       "    <tr>\n",
       "      <th>139245</th>\n",
       "      <td>../airmassRGB/supervised/part6766_896_112</td>\n",
       "      <td>1</td>\n",
       "      <td>16</td>\n",
       "      <td>1</td>\n",
       "      <td>2020-12-26 03:05:00</td>\n",
       "      <td>2020-12-26 04:20:00</td>\n",
       "    </tr>\n",
       "    <tr>\n",
       "      <th>139246</th>\n",
       "      <td>../airmassRGB/supervised/part6767_896_112</td>\n",
       "      <td>1</td>\n",
       "      <td>16</td>\n",
       "      <td>1</td>\n",
       "      <td>2020-12-26 04:25:00</td>\n",
       "      <td>2020-12-26 05:40:00</td>\n",
       "    </tr>\n",
       "  </tbody>\n",
       "</table>\n",
       "<p>1662 rows × 6 columns</p>\n",
       "</div>"
      ],
      "text/plain": [
       "                                             path  start  end  label  \\\n",
       "22395      ../airmassRGB/supervised/part316_336_0      1   16      1   \n",
       "22396      ../airmassRGB/supervised/part317_336_0      1   16      1   \n",
       "23716     ../airmassRGB/supervised/part1637_336_0      1   16      1   \n",
       "23717     ../airmassRGB/supervised/part1638_336_0      1   16      1   \n",
       "23718     ../airmassRGB/supervised/part1639_336_0      1   16      1   \n",
       "...                                           ...    ...  ...    ...   \n",
       "139242  ../airmassRGB/supervised/part6763_896_112      1   16      1   \n",
       "139243  ../airmassRGB/supervised/part6764_896_112      1   16      1   \n",
       "139244  ../airmassRGB/supervised/part6765_896_112      1   16      1   \n",
       "139245  ../airmassRGB/supervised/part6766_896_112      1   16      1   \n",
       "139246  ../airmassRGB/supervised/part6767_896_112      1   16      1   \n",
       "\n",
       "                start_time            end_time  \n",
       "22395  2014-11-10 11:55:00 2014-11-10 13:10:00  \n",
       "22396  2014-11-10 13:15:00 2014-11-10 14:30:00  \n",
       "23716  2020-03-15 23:05:00 2020-03-16 00:20:00  \n",
       "23717  2020-03-16 00:25:00 2020-03-16 01:40:00  \n",
       "23718  2020-03-16 01:45:00 2020-03-16 03:00:00  \n",
       "...                    ...                 ...  \n",
       "139242 2020-12-25 23:05:00 2020-12-26 00:20:00  \n",
       "139243 2020-12-26 00:25:00 2020-12-26 01:40:00  \n",
       "139244 2020-12-26 01:45:00 2020-12-26 03:00:00  \n",
       "139245 2020-12-26 03:05:00 2020-12-26 04:20:00  \n",
       "139246 2020-12-26 04:25:00 2020-12-26 05:40:00  \n",
       "\n",
       "[1662 rows x 6 columns]"
      ]
     },
     "execution_count": 104,
     "metadata": {},
     "output_type": "execute_result"
    }
   ],
   "source": [
    "df_out[df_out.label ==1]"
   ]
  },
  {
   "cell_type": "code",
   "execution_count": 84,
   "id": "5805b1ca",
   "metadata": {},
   "outputs": [],
   "source": [
    "df_out = df_out.rename(columns={'folder':'path'})"
   ]
  },
  {
   "cell_type": "code",
   "execution_count": 85,
   "id": "17e955a1",
   "metadata": {},
   "outputs": [],
   "source": [
    "df_out.to_csv(\"./df_videotiles_date.csv\", index=False)"
   ]
  },
  {
   "cell_type": "markdown",
   "id": "ad587af5",
   "metadata": {},
   "source": [
    "### Guardo alcuni video da cancellare dal disco per risparmiare spazio"
   ]
  },
  {
   "cell_type": "code",
   "execution_count": 128,
   "id": "265f8494",
   "metadata": {},
   "outputs": [
    {
     "data": {
      "text/plain": [
       "0"
      ]
     },
     "execution_count": 128,
     "metadata": {},
     "output_type": "execute_result"
    }
   ],
   "source": [
    "df_out[df_out['path'].str.contains(r\"/part43\\d+\", regex=True)].label.sum()"
   ]
  },
  {
   "cell_type": "code",
   "execution_count": 129,
   "id": "d78e3500",
   "metadata": {},
   "outputs": [
    {
     "name": "stdout",
     "output_type": "stream",
     "text": [
      "Numero di cartelle esistenti: 126001, righe totali precedenti: 147200\n"
     ]
    }
   ],
   "source": [
    "df_filt = df_out[df_out['path'].apply(os.path.isdir)]\n",
    "print(f\"Numero di cartelle esistenti: {len(df_filt)}, righe totali precedenti: {df_out.shape[0]}\")"
   ]
  },
  {
   "cell_type": "code",
   "execution_count": 130,
   "id": "4165dfb7",
   "metadata": {},
   "outputs": [
    {
     "data": {
      "text/plain": [
       "(1512, 124489, 0.012)"
      ]
     },
     "execution_count": 130,
     "metadata": {},
     "output_type": "execute_result"
    }
   ],
   "source": [
    "df_filt[df_filt.label==1].shape[0], df_filt[df_filt.label==0].shape[0], round(df_filt.label.sum()/df_filt.shape[0], 3)"
   ]
  },
  {
   "cell_type": "code",
   "execution_count": 62,
   "id": "25f2e7ba",
   "metadata": {},
   "outputs": [],
   "source": [
    "def balance_df_by_label(df, label_column=\"label\", random_state=478562):\n",
    "    \"\"\"\n",
    "    Bilancia un DataFrame mantenendo tutte le righe con label=1\n",
    "    e selezionando (in modo random) lo stesso numero di righe con label=0.\n",
    "    Restituisce un DataFrame mescolato con uguale quantità di 1 e 0.\n",
    "    \n",
    "    Parametri:\n",
    "    - df: DataFrame originale\n",
    "    - label_column: il nome della colonna che contiene la label (default: 'label')\n",
    "    - random_state: per riproducibilità del campionamento casuale\n",
    "    \"\"\"\n",
    "    # Seleziona tutte le righe con label=1\n",
    "    df_pos = df[df[label_column] == 1]\n",
    "    # Seleziona tutte le righe con label=0\n",
    "    df_neg = df[df[label_column] == 0]\n",
    "\n",
    "    # Numero di righe positive\n",
    "    num_pos = len(df_pos)\n",
    "    # Esegui un sample sulle righe negative pari a num_pos\n",
    "    df_neg_sampled = df_neg.sample(n=num_pos, random_state=random_state)\n",
    "\n",
    "    # Concatena e mescola\n",
    "    df_balanced = pd.concat([df_pos, df_neg_sampled])\n",
    "    df_balanced = df_balanced.sample(frac=1, random_state=random_state).reset_index(drop=True)\n",
    "\n",
    "    return df_balanced"
   ]
  },
  {
   "cell_type": "code",
   "execution_count": 131,
   "id": "6e673ad3",
   "metadata": {},
   "outputs": [
    {
     "name": "stdout",
     "output_type": "stream",
     "text": [
      "3024 label\n",
      "1    1512\n",
      "0    1512\n",
      "Name: count, dtype: int64\n"
     ]
    }
   ],
   "source": [
    "df_balanced = balance_df_by_label(df_filt)\n",
    "print(len(df_balanced), df_balanced['label'].value_counts())"
   ]
  },
  {
   "cell_type": "code",
   "execution_count": 137,
   "id": "0ae0b7b2",
   "metadata": {},
   "outputs": [
    {
     "data": {
      "text/html": [
       "<div>\n",
       "<style scoped>\n",
       "    .dataframe tbody tr th:only-of-type {\n",
       "        vertical-align: middle;\n",
       "    }\n",
       "\n",
       "    .dataframe tbody tr th {\n",
       "        vertical-align: top;\n",
       "    }\n",
       "\n",
       "    .dataframe thead th {\n",
       "        text-align: right;\n",
       "    }\n",
       "</style>\n",
       "<table border=\"1\" class=\"dataframe\">\n",
       "  <thead>\n",
       "    <tr style=\"text-align: right;\">\n",
       "      <th></th>\n",
       "      <th>path</th>\n",
       "      <th>start</th>\n",
       "      <th>end</th>\n",
       "      <th>label</th>\n",
       "      <th>start_time</th>\n",
       "      <th>end_time</th>\n",
       "    </tr>\n",
       "  </thead>\n",
       "  <tbody>\n",
       "    <tr>\n",
       "      <th>0</th>\n",
       "      <td>../airmassRGB/supervised/part6762_784_112</td>\n",
       "      <td>1</td>\n",
       "      <td>16</td>\n",
       "      <td>1</td>\n",
       "      <td>2020-12-25 21:45:00</td>\n",
       "      <td>2020-12-25 23:00:00</td>\n",
       "    </tr>\n",
       "    <tr>\n",
       "      <th>1</th>\n",
       "      <td>../airmassRGB/supervised/part6102_784_112</td>\n",
       "      <td>1</td>\n",
       "      <td>16</td>\n",
       "      <td>1</td>\n",
       "      <td>2020-11-19 04:50:00</td>\n",
       "      <td>2020-11-19 06:05:00</td>\n",
       "    </tr>\n",
       "    <tr>\n",
       "      <th>2</th>\n",
       "      <td>../airmassRGB/supervised/part6101_784_112</td>\n",
       "      <td>1</td>\n",
       "      <td>16</td>\n",
       "      <td>1</td>\n",
       "      <td>2020-11-19 03:30:00</td>\n",
       "      <td>2020-11-19 04:45:00</td>\n",
       "    </tr>\n",
       "    <tr>\n",
       "      <th>3</th>\n",
       "      <td>../airmassRGB/supervised/part3246_560_0</td>\n",
       "      <td>1</td>\n",
       "      <td>16</td>\n",
       "      <td>1</td>\n",
       "      <td>2020-06-13 11:20:00</td>\n",
       "      <td>2020-06-13 12:35:00</td>\n",
       "    </tr>\n",
       "    <tr>\n",
       "      <th>4</th>\n",
       "      <td>../airmassRGB/supervised/part1925_336_112</td>\n",
       "      <td>1</td>\n",
       "      <td>16</td>\n",
       "      <td>0</td>\n",
       "      <td>2020-04-01 00:05:00</td>\n",
       "      <td>2020-04-01 01:20:00</td>\n",
       "    </tr>\n",
       "    <tr>\n",
       "      <th>...</th>\n",
       "      <td>...</td>\n",
       "      <td>...</td>\n",
       "      <td>...</td>\n",
       "      <td>...</td>\n",
       "      <td>...</td>\n",
       "      <td>...</td>\n",
       "    </tr>\n",
       "    <tr>\n",
       "      <th>3019</th>\n",
       "      <td>../airmassRGB/supervised/part1653_560_0</td>\n",
       "      <td>1</td>\n",
       "      <td>16</td>\n",
       "      <td>1</td>\n",
       "      <td>2020-03-16 20:25:00</td>\n",
       "      <td>2020-03-16 21:40:00</td>\n",
       "    </tr>\n",
       "    <tr>\n",
       "      <th>3020</th>\n",
       "      <td>../airmassRGB/supervised/part1993_896_112</td>\n",
       "      <td>1</td>\n",
       "      <td>16</td>\n",
       "      <td>0</td>\n",
       "      <td>2020-04-04 18:45:00</td>\n",
       "      <td>2020-04-04 20:00:00</td>\n",
       "    </tr>\n",
       "    <tr>\n",
       "      <th>3021</th>\n",
       "      <td>../airmassRGB/supervised/part3207_448_112</td>\n",
       "      <td>1</td>\n",
       "      <td>16</td>\n",
       "      <td>1</td>\n",
       "      <td>2020-06-11 07:20:00</td>\n",
       "      <td>2020-06-11 08:35:00</td>\n",
       "    </tr>\n",
       "    <tr>\n",
       "      <th>3022</th>\n",
       "      <td>../airmassRGB/supervised/part2788_336_112</td>\n",
       "      <td>1</td>\n",
       "      <td>16</td>\n",
       "      <td>0</td>\n",
       "      <td>2020-05-18 23:05:00</td>\n",
       "      <td>2020-05-19 00:20:00</td>\n",
       "    </tr>\n",
       "    <tr>\n",
       "      <th>3023</th>\n",
       "      <td>../airmassRGB/supervised/part108_672_0</td>\n",
       "      <td>1</td>\n",
       "      <td>16</td>\n",
       "      <td>1</td>\n",
       "      <td>2011-11-06 22:40:00</td>\n",
       "      <td>2011-11-06 23:55:00</td>\n",
       "    </tr>\n",
       "  </tbody>\n",
       "</table>\n",
       "<p>3024 rows × 6 columns</p>\n",
       "</div>"
      ],
      "text/plain": [
       "                                           path  start  end  label  \\\n",
       "0     ../airmassRGB/supervised/part6762_784_112      1   16      1   \n",
       "1     ../airmassRGB/supervised/part6102_784_112      1   16      1   \n",
       "2     ../airmassRGB/supervised/part6101_784_112      1   16      1   \n",
       "3       ../airmassRGB/supervised/part3246_560_0      1   16      1   \n",
       "4     ../airmassRGB/supervised/part1925_336_112      1   16      0   \n",
       "...                                         ...    ...  ...    ...   \n",
       "3019    ../airmassRGB/supervised/part1653_560_0      1   16      1   \n",
       "3020  ../airmassRGB/supervised/part1993_896_112      1   16      0   \n",
       "3021  ../airmassRGB/supervised/part3207_448_112      1   16      1   \n",
       "3022  ../airmassRGB/supervised/part2788_336_112      1   16      0   \n",
       "3023     ../airmassRGB/supervised/part108_672_0      1   16      1   \n",
       "\n",
       "              start_time            end_time  \n",
       "0    2020-12-25 21:45:00 2020-12-25 23:00:00  \n",
       "1    2020-11-19 04:50:00 2020-11-19 06:05:00  \n",
       "2    2020-11-19 03:30:00 2020-11-19 04:45:00  \n",
       "3    2020-06-13 11:20:00 2020-06-13 12:35:00  \n",
       "4    2020-04-01 00:05:00 2020-04-01 01:20:00  \n",
       "...                  ...                 ...  \n",
       "3019 2020-03-16 20:25:00 2020-03-16 21:40:00  \n",
       "3020 2020-04-04 18:45:00 2020-04-04 20:00:00  \n",
       "3021 2020-06-11 07:20:00 2020-06-11 08:35:00  \n",
       "3022 2020-05-18 23:05:00 2020-05-19 00:20:00  \n",
       "3023 2011-11-06 22:40:00 2011-11-06 23:55:00  \n",
       "\n",
       "[3024 rows x 6 columns]"
      ]
     },
     "execution_count": 137,
     "metadata": {},
     "output_type": "execute_result"
    }
   ],
   "source": [
    "df_balanced\n"
   ]
  },
  {
   "cell_type": "code",
   "execution_count": 135,
   "id": "1410ce60",
   "metadata": {},
   "outputs": [
    {
     "name": "stdout",
     "output_type": "stream",
     "text": [
      "ranges train e validation:  2116 - 2721\n"
     ]
    }
   ],
   "source": [
    "l = df_balanced.shape[0]\n",
    "#l = 100\n",
    "tr_p = int(l * 0.7)\n",
    "val_p = int(l * 0.9)\n",
    "print(f\"ranges train e validation:  {tr_p} - {val_p}\")\n",
    "df_train = df_balanced[:tr_p]\n",
    "df_val = df_balanced[tr_p:val_p]\n",
    "df_test = df_balanced[val_p:]"
   ]
  },
  {
   "cell_type": "code",
   "execution_count": 136,
   "id": "5fbe5e10",
   "metadata": {},
   "outputs": [],
   "source": [
    "out_csv_label = os.path.join(\"./\", \"train_supervised.csv\")\n",
    "df_train.to_csv(out_csv_label, index=False)\n",
    "out_csv_label = os.path.join(\"./\", \"val_supervised.csv\")\n",
    "df_val.to_csv(out_csv_label, index=False)\n",
    "out_csv_label = os.path.join(\"./\", \"test_supervised.csv\")\n",
    "df_test.to_csv(out_csv_label, index=False)"
   ]
  },
  {
   "cell_type": "markdown",
   "id": "12b124df-df14-4119-9eb0-76b106f34036",
   "metadata": {
    "tags": []
   },
   "source": [
    "### copia le immagini in sottocartelle .../partN"
   ]
  },
  {
   "cell_type": "raw",
   "id": "0d7c23c2-b3fd-47de-865e-1e2a8426b44e",
   "metadata": {
    "jupyter": {
     "source_hidden": true
    },
    "tags": []
   },
   "source": [
    "def make_subfolders_info(images, output_dir, num_frames=16):\n",
    "    # SE C'È TEMPO FARE UN REFACTORING\n",
    "    subfolder_info = []\n",
    "    num_total_files = len(images)\n",
    "    num_subfolders = num_total_files // num_frames\n",
    "\n",
    "    for i in range(num_subfolders):\n",
    "        subfolder_name = f\"part{i+1}\"\n",
    "        subfolder_path = os.path.join(output_dir, subfolder_name)\n",
    "        #os.makedirs(subfolder_path, exist_ok=True)\n",
    "\n",
    "        start_idx = i * num_frames\n",
    "        end_idx = start_idx + num_frames\n",
    "\n",
    "        # Copia effettiva dei 16 frame nella sottocartella\n",
    "        for idx, file in enumerate(images[start_idx:end_idx]):\n",
    "            new_name = os.path.join(subfolder_path, f\"img_{idx+1:05d}.png\")\n",
    "            shutil.copy(file, new_name)\n",
    "\n",
    "        # Esempio: estrai la data dal frame centrale\n",
    "        mid_idx = start_idx + num_frames // 2\n",
    "        dt = extract_dates_pattern_airmass_rgb_20200101_0000(images[mid_idx].name)\n",
    "        \n",
    "        # Salviamo in una lista: cartella e data\n",
    "        subfolder_info.append({\"folder\": subfolder_path, \"date\": dt})"
   ]
  },
  {
   "cell_type": "raw",
   "id": "29e13afb-0201-4e1c-a5f7-f75962bdbb9a",
   "metadata": {
    "jupyter": {
     "source_hidden": true
    },
    "tags": []
   },
   "source": [
    "def split_into_subfolders(images, output_dir, num_frames=16):\n",
    "    subfolders = []\n",
    "    num_total_files = len(images)\n",
    "\n",
    "    # Numero di sottocartelle necessarie\n",
    "    num_subfolders = num_total_files // num_frames\n",
    "\n",
    "    for i in range(num_subfolders):\n",
    "        subfolder_name = f\"part{i+1}\"\n",
    "        subfolder_path = os.path.join(output_dir, subfolder_name)\n",
    "        os.makedirs(subfolder_path, exist_ok=True)\n",
    "\n",
    "        # Copia i file nella sottocartella con il nome 'img_{:05}.png'\n",
    "        start_idx = i * num_frames\n",
    "        end_idx = start_idx + num_frames\n",
    "\n",
    "        for idx, file in enumerate(images[start_idx:end_idx]):\n",
    "            new_name = os.path.join(subfolder_path, f\"img_{idx+1:05d}.png\")\n",
    "            shutil.copy(file, new_name)\n",
    "\n",
    "        subfolders.append(subfolder_path)\n",
    "\n",
    "    return subfolders"
   ]
  },
  {
   "cell_type": "code",
   "execution_count": 27,
   "id": "a6caff92-8955-4caf-a75b-401da0fb0f55",
   "metadata": {
    "tags": []
   },
   "outputs": [],
   "source": [
    "from build_supervised_dataset_no_tiles import split_into_subfolders_and_track_dates"
   ]
  },
  {
   "cell_type": "code",
   "execution_count": null,
   "id": "9e33cf69-086b-4152-9405-31382f5bb8c7",
   "metadata": {},
   "outputs": [],
   "source": [
    "#subfolders = split_into_subfolders(sorted_filenames, output_dir)\n",
    "subfolder_info = split_into_subfolders_and_track_dates(sorted_filenames, output_dir)"
   ]
  },
  {
   "cell_type": "code",
   "execution_count": null,
   "id": "9a318643-7a87-4c4c-96b0-d9252d472439",
   "metadata": {},
   "outputs": [],
   "source": [
    "#subfolder_info"
   ]
  },
  {
   "cell_type": "markdown",
   "id": "9ff96c6b-e42d-475d-9f3b-8957fb8b4d68",
   "metadata": {
    "jp-MarkdownHeadingCollapsed": true,
    "tags": []
   },
   "source": [
    "### Suddivide in train/test/val e scrive i CSV"
   ]
  },
  {
   "cell_type": "code",
   "execution_count": 28,
   "id": "f2a7c434-a123-44be-8904-c9bdb994ac91",
   "metadata": {},
   "outputs": [
    {
     "data": {
      "text/plain": [
       "'E:/Medicanes_Data/airmassRGB'"
      ]
     },
     "execution_count": 28,
     "metadata": {},
     "output_type": "execute_result"
    }
   ],
   "source": [
    "output_dir"
   ]
  },
  {
   "cell_type": "code",
   "execution_count": 30,
   "id": "fcb2f0fa-7076-4f8c-9d23-a7cb56704b33",
   "metadata": {},
   "outputs": [],
   "source": [
    "from build_dataset import create_csv"
   ]
  },
  {
   "cell_type": "code",
   "execution_count": 33,
   "id": "4b61f944-b9c7-48b3-a796-a5426f201ab4",
   "metadata": {},
   "outputs": [
    {
     "name": "stdout",
     "output_type": "stream",
     "text": [
      "File CSV generati:\n",
      "Train: E:/Medicanes_Data/airmassRGB\\train.csv\n",
      "Test: E:/Medicanes_Data/airmassRGB\\test.csv\n",
      "Validation: E:/Medicanes_Data/airmassRGB\\val.csv\n"
     ]
    }
   ],
   "source": [
    "create_csv(output_dir)"
   ]
  },
  {
   "cell_type": "markdown",
   "id": "e22c7ab4-eda7-4f0c-ae6d-feb8f7fae474",
   "metadata": {},
   "source": [
    "# Per il dataset supervisionato \n",
    "(senza tiles -> sbagliato perché ogni etichetta va associata alla singola tile)"
   ]
  },
  {
   "cell_type": "code",
   "execution_count": null,
   "id": "25d1bd3b-7565-4893-aa64-801df657f4a9",
   "metadata": {},
   "outputs": [],
   "source": [
    "from build_supervised_dataset_no_tiles import create_supervised_csv_from_info, is_in_medicane\n",
    "from medicane_utils.load_files import load_medicane_intervals"
   ]
  },
  {
   "cell_type": "code",
   "execution_count": 36,
   "id": "4e1a2744-c241-42dd-a5ad-8f7e09be12e1",
   "metadata": {},
   "outputs": [
    {
     "name": "stdout",
     "output_type": "stream",
     "text": [
      "Creato CSV supervisionato in: ./dataset.csv\n"
     ]
    }
   ],
   "source": [
    "folder_root = output_dir      # cartella con subfolder part1, part2 ...\n",
    "medicane_csv = \"./medicane_validi.csv\"    # le date dei medicane\n",
    "out_csv = \"./dataset.csv\"\n",
    "create_supervised_csv_from_info(subfolder_info, medicane_csv, out_csv)"
   ]
  },
  {
   "cell_type": "code",
   "execution_count": null,
   "id": "58476872-bc83-4f02-98f3-ad7d9eb8ce9d",
   "metadata": {},
   "outputs": [],
   "source": []
  },
  {
   "cell_type": "code",
   "execution_count": null,
   "id": "78b19061-bfb6-4d91-adbc-3cef105563aa",
   "metadata": {},
   "outputs": [],
   "source": []
  }
 ],
 "metadata": {
  "kernelspec": {
   "display_name": "videomae",
   "language": "python",
   "name": "python3"
  },
  "language_info": {
   "codemirror_mode": {
    "name": "ipython",
    "version": 3
   },
   "file_extension": ".py",
   "mimetype": "text/x-python",
   "name": "python",
   "nbconvert_exporter": "python",
   "pygments_lexer": "ipython3",
   "version": "3.9.21"
  }
 },
 "nbformat": 4,
 "nbformat_minor": 5
}
