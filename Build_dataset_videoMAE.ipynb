{
 "cells": [
  {
   "cell_type": "code",
   "execution_count": 1,
   "id": "23eaabe1-9639-4c27-a77b-0d924199cf91",
   "metadata": {},
   "outputs": [
    {
     "name": "stdout",
     "output_type": "stream",
     "text": [
      "The autoreload extension is already loaded. To reload it, use:\n",
      "  %reload_ext autoreload\n"
     ]
    },
    {
     "name": "stderr",
     "output_type": "stream",
     "text": [
      "/home/isac/miniconda3/envs/videomae/lib/python3.9/site-packages/tqdm/auto.py:21: TqdmWarning: IProgress not found. Please update jupyter and ipywidgets. See https://ipywidgets.readthedocs.io/en/stable/user_install.html\n",
      "  from .autonotebook import tqdm as notebook_tqdm\n"
     ]
    }
   ],
   "source": [
    "%load_ext autoreload\n",
    "%autoreload 2\n",
    "\n",
    "import os\n",
    "from pathlib import Path\n",
    "import shutil\n",
    "import csv\n",
    "import re\n",
    "from collections import defaultdict\n",
    "from datetime import datetime\n",
    "import pandas as pd\n",
    "import numpy as np\n",
    "\n",
    "import sys\n",
    "sys.path.append(\"./missing_data\")\n",
    "\n",
    "from mpl_toolkits.basemap import Basemap\n",
    "from build_dataset import get_files_from_folder, extract_dates_pattern_airmass_rgb_20200101_0000\n",
    "from build_dataset import load_cyclones_track_noheader, compute_pixel_scale, inside_tile, calc_tile_offsets, save_single_tile\n",
    "from build_dataset import split_into_tiles_subfolders_and_track_dates, create_tile_videos, create_and_save_tile_from_complete_df\n",
    "from medicane_utils.geo_const import latcorners, loncorners, x_center, y_center, basemap_obj\n",
    "from medicane_utils.load_files import load_all_images"
   ]
  },
  {
   "cell_type": "code",
   "execution_count": 3,
   "id": "02992b7b",
   "metadata": {},
   "outputs": [
    {
     "data": {
      "text/plain": [
       "(672.3640767222608, 672.0122685182674)"
      ]
     },
     "execution_count": 3,
     "metadata": {},
     "output_type": "execute_result"
    }
   ],
   "source": [
    "Xmin, Ymin, px_scale_x, px_scale_y = compute_pixel_scale()\n",
    "1/px_scale_y/1000 * 224, 1/px_scale_x/1000 * 224"
   ]
  },
  {
   "cell_type": "code",
   "execution_count": 2,
   "id": "8094fef6-6675-42c9-8321-2485f5f6cc54",
   "metadata": {},
   "outputs": [],
   "source": [
    "# Percorso alla cartella dei frame\n",
    "input_dir = \"../fromgcloud\"\n",
    "output_dir = \"../airmassRGB/supervised/\" "
   ]
  },
  {
   "cell_type": "markdown",
   "id": "6fda3a7c",
   "metadata": {},
   "source": [
    "#### load all file names and dates"
   ]
  },
  {
   "cell_type": "code",
   "execution_count": null,
   "id": "48886d6b",
   "metadata": {},
   "outputs": [],
   "source": [
    "#os.makedirs(output_dir, exist_ok=True)\n",
    "sorted_metadata_files = load_all_images(input_dir)"
   ]
  },
  {
   "cell_type": "code",
   "execution_count": null,
   "id": "9486a86a-55c4-404f-9546-8938f2ec7159",
   "metadata": {},
   "outputs": [],
   "source": [
    "f_sorted_metadata = sorted_metadata_files[:32]\n",
    "#f_sorted_metadata"
   ]
  },
  {
   "cell_type": "code",
   "execution_count": null,
   "id": "7bdf3d6a",
   "metadata": {},
   "outputs": [],
   "source": [
    "num_total_files = len(f_sorted_metadata)\n",
    "# quanti blocchi di 16 consecutivi\n",
    "num_frames = 16\n",
    "num_subfolders = num_total_files // num_frames"
   ]
  },
  {
   "cell_type": "markdown",
   "id": "58386d54",
   "metadata": {},
   "source": [
    "### Dataframe di tutte le tiles etichettate - check"
   ]
  },
  {
   "cell_type": "code",
   "execution_count": 3,
   "id": "53f6ea05",
   "metadata": {},
   "outputs": [],
   "source": [
    "nome_file = \"all_data_wo_overlap_tiles.csv\"\n",
    "df_data = pd.read_csv(nome_file, dtype={\n",
    "        \"path\": 'string',\n",
    "        \"tile_offset_x\": 'int16',\n",
    "        \"tile_offset_y\": 'int16',\n",
    "        \"label\": 'category',\n",
    "        \"lat\": 'float32',\n",
    "        \"lon\": 'float32',\n",
    "        \"x_pix\": 'Int16',\n",
    "        \"y_pix\": 'Int16',\n",
    "        \"name\": 'string'\n",
    "    }, parse_dates=['datetime'])\n",
    "df_data.drop(columns=\"Unnamed: 0\", inplace=True)"
   ]
  },
  {
   "cell_type": "code",
   "execution_count": 4,
   "id": "e12eb214",
   "metadata": {},
   "outputs": [
    {
     "data": {
      "text/html": [
       "<div>\n",
       "<style scoped>\n",
       "    .dataframe tbody tr th:only-of-type {\n",
       "        vertical-align: middle;\n",
       "    }\n",
       "\n",
       "    .dataframe tbody tr th {\n",
       "        vertical-align: top;\n",
       "    }\n",
       "\n",
       "    .dataframe thead th {\n",
       "        text-align: right;\n",
       "    }\n",
       "</style>\n",
       "<table border=\"1\" class=\"dataframe\">\n",
       "  <thead>\n",
       "    <tr style=\"text-align: right;\">\n",
       "      <th></th>\n",
       "      <th>path</th>\n",
       "      <th>datetime</th>\n",
       "      <th>tile_offset_x</th>\n",
       "      <th>tile_offset_y</th>\n",
       "      <th>label</th>\n",
       "      <th>lat</th>\n",
       "      <th>lon</th>\n",
       "      <th>x_pix</th>\n",
       "      <th>y_pix</th>\n",
       "      <th>name</th>\n",
       "    </tr>\n",
       "  </thead>\n",
       "  <tbody>\n",
       "    <tr>\n",
       "      <th>0</th>\n",
       "      <td>../fromgcloud/airmass_rgb_20111101_0000.png</td>\n",
       "      <td>2011-11-01</td>\n",
       "      <td>0</td>\n",
       "      <td>0</td>\n",
       "      <td>0</td>\n",
       "      <td>NaN</td>\n",
       "      <td>NaN</td>\n",
       "      <td>&lt;NA&gt;</td>\n",
       "      <td>&lt;NA&gt;</td>\n",
       "      <td>[]</td>\n",
       "    </tr>\n",
       "    <tr>\n",
       "      <th>1</th>\n",
       "      <td>../fromgcloud/airmass_rgb_20111101_0000.png</td>\n",
       "      <td>2011-11-01</td>\n",
       "      <td>224</td>\n",
       "      <td>0</td>\n",
       "      <td>0</td>\n",
       "      <td>NaN</td>\n",
       "      <td>NaN</td>\n",
       "      <td>&lt;NA&gt;</td>\n",
       "      <td>&lt;NA&gt;</td>\n",
       "      <td>[]</td>\n",
       "    </tr>\n",
       "    <tr>\n",
       "      <th>2</th>\n",
       "      <td>../fromgcloud/airmass_rgb_20111101_0000.png</td>\n",
       "      <td>2011-11-01</td>\n",
       "      <td>448</td>\n",
       "      <td>0</td>\n",
       "      <td>0</td>\n",
       "      <td>NaN</td>\n",
       "      <td>NaN</td>\n",
       "      <td>&lt;NA&gt;</td>\n",
       "      <td>&lt;NA&gt;</td>\n",
       "      <td>[]</td>\n",
       "    </tr>\n",
       "    <tr>\n",
       "      <th>3</th>\n",
       "      <td>../fromgcloud/airmass_rgb_20111101_0000.png</td>\n",
       "      <td>2011-11-01</td>\n",
       "      <td>672</td>\n",
       "      <td>0</td>\n",
       "      <td>0</td>\n",
       "      <td>NaN</td>\n",
       "      <td>NaN</td>\n",
       "      <td>&lt;NA&gt;</td>\n",
       "      <td>&lt;NA&gt;</td>\n",
       "      <td>[]</td>\n",
       "    </tr>\n",
       "    <tr>\n",
       "      <th>4</th>\n",
       "      <td>../fromgcloud/airmass_rgb_20111101_0000.png</td>\n",
       "      <td>2011-11-01</td>\n",
       "      <td>896</td>\n",
       "      <td>0</td>\n",
       "      <td>0</td>\n",
       "      <td>NaN</td>\n",
       "      <td>NaN</td>\n",
       "      <td>&lt;NA&gt;</td>\n",
       "      <td>&lt;NA&gt;</td>\n",
       "      <td>[]</td>\n",
       "    </tr>\n",
       "    <tr>\n",
       "      <th>...</th>\n",
       "      <td>...</td>\n",
       "      <td>...</td>\n",
       "      <td>...</td>\n",
       "      <td>...</td>\n",
       "      <td>...</td>\n",
       "      <td>...</td>\n",
       "      <td>...</td>\n",
       "      <td>...</td>\n",
       "      <td>...</td>\n",
       "      <td>...</td>\n",
       "    </tr>\n",
       "    <tr>\n",
       "      <th>1177635</th>\n",
       "      <td>../fromgcloud/airmass_rgb_20230912_0000.png</td>\n",
       "      <td>2023-09-12</td>\n",
       "      <td>0</td>\n",
       "      <td>196</td>\n",
       "      <td>0</td>\n",
       "      <td>NaN</td>\n",
       "      <td>NaN</td>\n",
       "      <td>&lt;NA&gt;</td>\n",
       "      <td>&lt;NA&gt;</td>\n",
       "      <td>[]</td>\n",
       "    </tr>\n",
       "    <tr>\n",
       "      <th>1177636</th>\n",
       "      <td>../fromgcloud/airmass_rgb_20230912_0000.png</td>\n",
       "      <td>2023-09-12</td>\n",
       "      <td>224</td>\n",
       "      <td>196</td>\n",
       "      <td>0</td>\n",
       "      <td>NaN</td>\n",
       "      <td>NaN</td>\n",
       "      <td>&lt;NA&gt;</td>\n",
       "      <td>&lt;NA&gt;</td>\n",
       "      <td>[]</td>\n",
       "    </tr>\n",
       "    <tr>\n",
       "      <th>1177637</th>\n",
       "      <td>../fromgcloud/airmass_rgb_20230912_0000.png</td>\n",
       "      <td>2023-09-12</td>\n",
       "      <td>448</td>\n",
       "      <td>196</td>\n",
       "      <td>0</td>\n",
       "      <td>NaN</td>\n",
       "      <td>NaN</td>\n",
       "      <td>&lt;NA&gt;</td>\n",
       "      <td>&lt;NA&gt;</td>\n",
       "      <td>[]</td>\n",
       "    </tr>\n",
       "    <tr>\n",
       "      <th>1177638</th>\n",
       "      <td>../fromgcloud/airmass_rgb_20230912_0000.png</td>\n",
       "      <td>2023-09-12</td>\n",
       "      <td>672</td>\n",
       "      <td>196</td>\n",
       "      <td>0</td>\n",
       "      <td>NaN</td>\n",
       "      <td>NaN</td>\n",
       "      <td>&lt;NA&gt;</td>\n",
       "      <td>&lt;NA&gt;</td>\n",
       "      <td>[]</td>\n",
       "    </tr>\n",
       "    <tr>\n",
       "      <th>1177639</th>\n",
       "      <td>../fromgcloud/airmass_rgb_20230912_0000.png</td>\n",
       "      <td>2023-09-12</td>\n",
       "      <td>896</td>\n",
       "      <td>196</td>\n",
       "      <td>0</td>\n",
       "      <td>NaN</td>\n",
       "      <td>NaN</td>\n",
       "      <td>&lt;NA&gt;</td>\n",
       "      <td>&lt;NA&gt;</td>\n",
       "      <td>[]</td>\n",
       "    </tr>\n",
       "  </tbody>\n",
       "</table>\n",
       "<p>1177640 rows × 10 columns</p>\n",
       "</div>"
      ],
      "text/plain": [
       "                                                path   datetime  \\\n",
       "0        ../fromgcloud/airmass_rgb_20111101_0000.png 2011-11-01   \n",
       "1        ../fromgcloud/airmass_rgb_20111101_0000.png 2011-11-01   \n",
       "2        ../fromgcloud/airmass_rgb_20111101_0000.png 2011-11-01   \n",
       "3        ../fromgcloud/airmass_rgb_20111101_0000.png 2011-11-01   \n",
       "4        ../fromgcloud/airmass_rgb_20111101_0000.png 2011-11-01   \n",
       "...                                              ...        ...   \n",
       "1177635  ../fromgcloud/airmass_rgb_20230912_0000.png 2023-09-12   \n",
       "1177636  ../fromgcloud/airmass_rgb_20230912_0000.png 2023-09-12   \n",
       "1177637  ../fromgcloud/airmass_rgb_20230912_0000.png 2023-09-12   \n",
       "1177638  ../fromgcloud/airmass_rgb_20230912_0000.png 2023-09-12   \n",
       "1177639  ../fromgcloud/airmass_rgb_20230912_0000.png 2023-09-12   \n",
       "\n",
       "         tile_offset_x  tile_offset_y label  lat  lon  x_pix  y_pix name  \n",
       "0                    0              0     0  NaN  NaN   <NA>   <NA>   []  \n",
       "1                  224              0     0  NaN  NaN   <NA>   <NA>   []  \n",
       "2                  448              0     0  NaN  NaN   <NA>   <NA>   []  \n",
       "3                  672              0     0  NaN  NaN   <NA>   <NA>   []  \n",
       "4                  896              0     0  NaN  NaN   <NA>   <NA>   []  \n",
       "...                ...            ...   ...  ...  ...    ...    ...  ...  \n",
       "1177635              0            196     0  NaN  NaN   <NA>   <NA>   []  \n",
       "1177636            224            196     0  NaN  NaN   <NA>   <NA>   []  \n",
       "1177637            448            196     0  NaN  NaN   <NA>   <NA>   []  \n",
       "1177638            672            196     0  NaN  NaN   <NA>   <NA>   []  \n",
       "1177639            896            196     0  NaN  NaN   <NA>   <NA>   []  \n",
       "\n",
       "[1177640 rows x 10 columns]"
      ]
     },
     "execution_count": 4,
     "metadata": {},
     "output_type": "execute_result"
    }
   ],
   "source": [
    "df_data"
   ]
  },
  {
   "cell_type": "code",
   "execution_count": 5,
   "id": "4f564f47",
   "metadata": {},
   "outputs": [],
   "source": [
    "# separo gruppi temporali contigui\n",
    "df_data = df_data.sort_values('datetime') \n",
    "# Calcola la differenza temporale rispetto alla riga precedente\n",
    "df_data['delta'] = df_data['datetime'].diff()\n",
    "\n",
    "# Definisci i punti di rottura: True se la differenza è maggiore della frequenza attesa\n",
    "df_data['new_group'] = (df_data['delta'] > pd.Timedelta(minutes=60))  # puoi aumentare il margine se serve\n",
    "\n",
    "# Crea gli ID di gruppo cumulando i True\n",
    "df_data['gruppo'] = df_data['new_group'].cumsum()\n",
    "\n",
    "gruppi_date = [g for _, g in df_data.groupby('gruppo')]"
   ]
  },
  {
   "cell_type": "markdown",
   "id": "d175fc54",
   "metadata": {},
   "source": [
    "### verifico i gruppi di periodi contigui"
   ]
  },
  {
   "cell_type": "code",
   "execution_count": 6,
   "id": "3086dd2d",
   "metadata": {},
   "outputs": [],
   "source": [
    "lista_date = []\n",
    "lungh_gruppi = []\n",
    "date_inizio_fine_gruppi = []\n",
    "for df in gruppi_date:\n",
    "    group_datetime = list(df.groupby(\"datetime\"))\n",
    "    for gd in group_datetime:        \n",
    "        lista_date.append(len(gd[1]))\n",
    "    lungh_gruppi.append(len(df)/len(gd[1])) # divido per le 20 tile di ciascun istante temporale\n",
    "    start_date = df.datetime.iloc[0]\n",
    "    end_date = df.datetime.iloc[-1]\n",
    "    date_inizio_fine_gruppi.append((start_date, end_date))\n"
   ]
  },
  {
   "cell_type": "code",
   "execution_count": 7,
   "id": "11eaee2c",
   "metadata": {},
   "outputs": [
    {
     "data": {
      "text/plain": [
       "(array([ 10.00347222,  10.00347222,   8.00347222,   8.00347222,\n",
       "          4.98611111,   2.93402778,   5.37847222,  54.65625   ,\n",
       "        277.73611111,   4.00347222,   5.37847222,   8.97916667,\n",
       "          0.81597222,   8.02083333]),\n",
       " {10})"
      ]
     },
     "execution_count": 7,
     "metadata": {},
     "output_type": "execute_result"
    }
   ],
   "source": [
    "np.array(lungh_gruppi)/288, set(lista_date) # abbiamo 20 tile per ogni data"
   ]
  },
  {
   "cell_type": "code",
   "execution_count": 8,
   "id": "82acc297",
   "metadata": {},
   "outputs": [
    {
     "data": {
      "text/plain": [
       "[(Timestamp('2011-11-01 00:00:00'), Timestamp('2011-11-11 00:00:00')),\n",
       " (Timestamp('2014-11-03 00:00:00'), Timestamp('2014-11-13 00:00:00')),\n",
       " (Timestamp('2016-10-26 00:00:00'), Timestamp('2016-11-03 00:00:00')),\n",
       " (Timestamp('2017-11-13 00:00:00'), Timestamp('2017-11-21 00:00:00')),\n",
       " (Timestamp('2018-09-25 00:00:00'), Timestamp('2018-09-29 23:35:00')),\n",
       " (Timestamp('2018-09-30 01:40:00'), Timestamp('2018-10-03 00:00:00')),\n",
       " (Timestamp('2020-01-01 00:00:00'), Timestamp('2020-01-06 09:00:00')),\n",
       " (Timestamp('2020-02-03 09:05:00'), Timestamp('2020-03-29 00:55:00')),\n",
       " (Timestamp('2020-03-29 02:00:00'), Timestamp('2020-12-31 23:55:00')),\n",
       " (Timestamp('2021-10-29 00:00:00'), Timestamp('2021-11-02 00:00:00')),\n",
       " (Timestamp('2021-11-04 00:00:00'), Timestamp('2021-11-09 09:00:00')),\n",
       " (Timestamp('2023-02-24 00:00:00'), Timestamp('2023-03-05 00:00:00')),\n",
       " (Timestamp('2023-09-03 00:00:00'), Timestamp('2023-09-03 19:30:00')),\n",
       " (Timestamp('2023-09-03 23:25:00'), Timestamp('2023-09-12 00:00:00'))]"
      ]
     },
     "execution_count": 8,
     "metadata": {},
     "output_type": "execute_result"
    }
   ],
   "source": [
    "date_inizio_fine_gruppi"
   ]
  },
  {
   "cell_type": "markdown",
   "id": "00342300",
   "metadata": {},
   "source": [
    "### Sembra ben formato -> procedo a creare i video, per ogni blocco temporale"
   ]
  },
  {
   "cell_type": "code",
   "execution_count": 43,
   "id": "9c637cb7",
   "metadata": {},
   "outputs": [],
   "source": [
    "df = gruppi_date[8]"
   ]
  },
  {
   "cell_type": "code",
   "execution_count": 10,
   "id": "09de1876",
   "metadata": {},
   "outputs": [],
   "source": [
    "#df"
   ]
  },
  {
   "cell_type": "code",
   "execution_count": null,
   "id": "e86668f6",
   "metadata": {},
   "outputs": [],
   "source": [
    "#grouped = df.groupby([\"tile_offset_x\", \"tile_offset_y\"], group_keys=False)  # ottengo 20 gruppi  perché tante sono le tiles"
   ]
  },
  {
   "cell_type": "code",
   "execution_count": 44,
   "id": "d9ff287a-f1b5-431f-90e8-76b78d26f533",
   "metadata": {},
   "outputs": [
    {
     "name": "stdout",
     "output_type": "stream",
     "text": [
      "1350 48640 49990\n"
     ]
    }
   ],
   "source": [
    "df_videos = create_tile_videos(df)\n",
    "\n",
    "m_cicloni = df_videos.label == 1\n",
    "m_non_cicloni = df_videos.label == 0\n",
    "\n",
    "df_cicloni = df_videos[m_cicloni]\n",
    "df_non_cicloni = df_videos[m_non_cicloni]\n",
    "\n",
    "print(len(df_cicloni), len(df_non_cicloni), len(df_videos))"
   ]
  },
  {
   "cell_type": "code",
   "execution_count": null,
   "id": "5a0bd2cd",
   "metadata": {},
   "outputs": [
    {
     "name": "stdout",
     "output_type": "stream",
     "text": [
      "138 1662 1800\n"
     ]
    }
   ],
   "source": [
    "\n",
    "#for idx, row in df_res[m_cicloni].iterrows():\n",
    "#    print(row)"
   ]
  },
  {
   "cell_type": "code",
   "execution_count": 45,
   "id": "56b76876",
   "metadata": {},
   "outputs": [
    {
     "data": {
      "text/plain": [
       "1350"
      ]
     },
     "execution_count": 45,
     "metadata": {},
     "output_type": "execute_result"
    }
   ],
   "source": [
    "df_0_balanced = df_non_cicloni.sample(len(df_cicloni))\n",
    "len(df_0_balanced)"
   ]
  },
  {
   "cell_type": "code",
   "execution_count": 46,
   "id": "d91e9950",
   "metadata": {},
   "outputs": [],
   "source": [
    "# riduco un pò a piacere i dataframe\n",
    "df_cicloni = df_cicloni[:500]\n",
    "df_0_balanced = df_0_balanced[:500]"
   ]
  },
  {
   "cell_type": "code",
   "execution_count": 47,
   "id": "2cd731e3",
   "metadata": {},
   "outputs": [
    {
     "data": {
      "text/html": [
       "<div>\n",
       "<style scoped>\n",
       "    .dataframe tbody tr th:only-of-type {\n",
       "        vertical-align: middle;\n",
       "    }\n",
       "\n",
       "    .dataframe tbody tr th {\n",
       "        vertical-align: top;\n",
       "    }\n",
       "\n",
       "    .dataframe thead th {\n",
       "        text-align: right;\n",
       "    }\n",
       "</style>\n",
       "<table border=\"1\" class=\"dataframe\">\n",
       "  <thead>\n",
       "    <tr style=\"text-align: right;\">\n",
       "      <th></th>\n",
       "      <th>video_id</th>\n",
       "      <th>tile_offset_x</th>\n",
       "      <th>tile_offset_y</th>\n",
       "      <th>path</th>\n",
       "      <th>label</th>\n",
       "      <th>start_time</th>\n",
       "      <th>end_time</th>\n",
       "      <th>orig_paths</th>\n",
       "    </tr>\n",
       "  </thead>\n",
       "  <tbody>\n",
       "    <tr>\n",
       "      <th>3105</th>\n",
       "      <td>3105</td>\n",
       "      <td>0</td>\n",
       "      <td>0</td>\n",
       "      <td>17-09-2020_1830_0_0</td>\n",
       "      <td>1</td>\n",
       "      <td>2020-09-17 17:10:00</td>\n",
       "      <td>2020-09-17 18:30:00</td>\n",
       "      <td>[../fromgcloud/airmass_rgb_20200917_1710.png, ...</td>\n",
       "    </tr>\n",
       "    <tr>\n",
       "      <th>3106</th>\n",
       "      <td>3106</td>\n",
       "      <td>0</td>\n",
       "      <td>0</td>\n",
       "      <td>17-09-2020_1950_0_0</td>\n",
       "      <td>1</td>\n",
       "      <td>2020-09-17 18:30:00</td>\n",
       "      <td>2020-09-17 19:50:00</td>\n",
       "      <td>[../fromgcloud/airmass_rgb_20200917_1830.png, ...</td>\n",
       "    </tr>\n",
       "    <tr>\n",
       "      <th>3107</th>\n",
       "      <td>3107</td>\n",
       "      <td>0</td>\n",
       "      <td>0</td>\n",
       "      <td>17-09-2020_2110_0_0</td>\n",
       "      <td>1</td>\n",
       "      <td>2020-09-17 19:50:00</td>\n",
       "      <td>2020-09-17 21:10:00</td>\n",
       "      <td>[../fromgcloud/airmass_rgb_20200917_1950.png, ...</td>\n",
       "    </tr>\n",
       "    <tr>\n",
       "      <th>3108</th>\n",
       "      <td>3108</td>\n",
       "      <td>0</td>\n",
       "      <td>0</td>\n",
       "      <td>17-09-2020_2230_0_0</td>\n",
       "      <td>1</td>\n",
       "      <td>2020-09-17 21:10:00</td>\n",
       "      <td>2020-09-17 22:30:00</td>\n",
       "      <td>[../fromgcloud/airmass_rgb_20200917_2110.png, ...</td>\n",
       "    </tr>\n",
       "    <tr>\n",
       "      <th>3109</th>\n",
       "      <td>3109</td>\n",
       "      <td>0</td>\n",
       "      <td>0</td>\n",
       "      <td>17-09-2020_2350_0_0</td>\n",
       "      <td>1</td>\n",
       "      <td>2020-09-17 22:30:00</td>\n",
       "      <td>2020-09-17 23:50:00</td>\n",
       "      <td>[../fromgcloud/airmass_rgb_20200917_2230.png, ...</td>\n",
       "    </tr>\n",
       "    <tr>\n",
       "      <th>...</th>\n",
       "      <td>...</td>\n",
       "      <td>...</td>\n",
       "      <td>...</td>\n",
       "      <td>...</td>\n",
       "      <td>...</td>\n",
       "      <td>...</td>\n",
       "      <td>...</td>\n",
       "      <td>...</td>\n",
       "    </tr>\n",
       "    <tr>\n",
       "      <th>24480</th>\n",
       "      <td>24480</td>\n",
       "      <td>448</td>\n",
       "      <td>0</td>\n",
       "      <td>03-12-2020_0925_448_0</td>\n",
       "      <td>1</td>\n",
       "      <td>2020-12-03 08:05:00</td>\n",
       "      <td>2020-12-03 09:25:00</td>\n",
       "      <td>[../fromgcloud/airmass_rgb_20201203_0805.png, ...</td>\n",
       "    </tr>\n",
       "    <tr>\n",
       "      <th>24481</th>\n",
       "      <td>24481</td>\n",
       "      <td>448</td>\n",
       "      <td>0</td>\n",
       "      <td>03-12-2020_1045_448_0</td>\n",
       "      <td>1</td>\n",
       "      <td>2020-12-03 09:25:00</td>\n",
       "      <td>2020-12-03 10:45:00</td>\n",
       "      <td>[../fromgcloud/airmass_rgb_20201203_0925.png, ...</td>\n",
       "    </tr>\n",
       "    <tr>\n",
       "      <th>24482</th>\n",
       "      <td>24482</td>\n",
       "      <td>448</td>\n",
       "      <td>0</td>\n",
       "      <td>03-12-2020_1205_448_0</td>\n",
       "      <td>1</td>\n",
       "      <td>2020-12-03 10:45:00</td>\n",
       "      <td>2020-12-03 12:05:00</td>\n",
       "      <td>[../fromgcloud/airmass_rgb_20201203_1045.png, ...</td>\n",
       "    </tr>\n",
       "    <tr>\n",
       "      <th>24483</th>\n",
       "      <td>24483</td>\n",
       "      <td>448</td>\n",
       "      <td>0</td>\n",
       "      <td>03-12-2020_1325_448_0</td>\n",
       "      <td>1</td>\n",
       "      <td>2020-12-03 12:05:00</td>\n",
       "      <td>2020-12-03 13:25:00</td>\n",
       "      <td>[../fromgcloud/airmass_rgb_20201203_1205.png, ...</td>\n",
       "    </tr>\n",
       "    <tr>\n",
       "      <th>24484</th>\n",
       "      <td>24484</td>\n",
       "      <td>448</td>\n",
       "      <td>0</td>\n",
       "      <td>03-12-2020_1445_448_0</td>\n",
       "      <td>1</td>\n",
       "      <td>2020-12-03 13:25:00</td>\n",
       "      <td>2020-12-03 14:45:00</td>\n",
       "      <td>[../fromgcloud/airmass_rgb_20201203_1325.png, ...</td>\n",
       "    </tr>\n",
       "  </tbody>\n",
       "</table>\n",
       "<p>500 rows × 8 columns</p>\n",
       "</div>"
      ],
      "text/plain": [
       "       video_id  tile_offset_x  tile_offset_y                   path  label  \\\n",
       "3105       3105              0              0    17-09-2020_1830_0_0      1   \n",
       "3106       3106              0              0    17-09-2020_1950_0_0      1   \n",
       "3107       3107              0              0    17-09-2020_2110_0_0      1   \n",
       "3108       3108              0              0    17-09-2020_2230_0_0      1   \n",
       "3109       3109              0              0    17-09-2020_2350_0_0      1   \n",
       "...         ...            ...            ...                    ...    ...   \n",
       "24480     24480            448              0  03-12-2020_0925_448_0      1   \n",
       "24481     24481            448              0  03-12-2020_1045_448_0      1   \n",
       "24482     24482            448              0  03-12-2020_1205_448_0      1   \n",
       "24483     24483            448              0  03-12-2020_1325_448_0      1   \n",
       "24484     24484            448              0  03-12-2020_1445_448_0      1   \n",
       "\n",
       "               start_time            end_time  \\\n",
       "3105  2020-09-17 17:10:00 2020-09-17 18:30:00   \n",
       "3106  2020-09-17 18:30:00 2020-09-17 19:50:00   \n",
       "3107  2020-09-17 19:50:00 2020-09-17 21:10:00   \n",
       "3108  2020-09-17 21:10:00 2020-09-17 22:30:00   \n",
       "3109  2020-09-17 22:30:00 2020-09-17 23:50:00   \n",
       "...                   ...                 ...   \n",
       "24480 2020-12-03 08:05:00 2020-12-03 09:25:00   \n",
       "24481 2020-12-03 09:25:00 2020-12-03 10:45:00   \n",
       "24482 2020-12-03 10:45:00 2020-12-03 12:05:00   \n",
       "24483 2020-12-03 12:05:00 2020-12-03 13:25:00   \n",
       "24484 2020-12-03 13:25:00 2020-12-03 14:45:00   \n",
       "\n",
       "                                              orig_paths  \n",
       "3105   [../fromgcloud/airmass_rgb_20200917_1710.png, ...  \n",
       "3106   [../fromgcloud/airmass_rgb_20200917_1830.png, ...  \n",
       "3107   [../fromgcloud/airmass_rgb_20200917_1950.png, ...  \n",
       "3108   [../fromgcloud/airmass_rgb_20200917_2110.png, ...  \n",
       "3109   [../fromgcloud/airmass_rgb_20200917_2230.png, ...  \n",
       "...                                                  ...  \n",
       "24480  [../fromgcloud/airmass_rgb_20201203_0805.png, ...  \n",
       "24481  [../fromgcloud/airmass_rgb_20201203_0925.png, ...  \n",
       "24482  [../fromgcloud/airmass_rgb_20201203_1045.png, ...  \n",
       "24483  [../fromgcloud/airmass_rgb_20201203_1205.png, ...  \n",
       "24484  [../fromgcloud/airmass_rgb_20201203_1325.png, ...  \n",
       "\n",
       "[500 rows x 8 columns]"
      ]
     },
     "execution_count": 47,
     "metadata": {},
     "output_type": "execute_result"
    }
   ],
   "source": [
    "df_cicloni"
   ]
  },
  {
   "cell_type": "code",
   "execution_count": 48,
   "id": "2aa33659",
   "metadata": {},
   "outputs": [],
   "source": [
    "# creazione delle folder per i video\n",
    "create_and_save_tile_from_complete_df(df_0_balanced, output_dir)\n",
    "create_and_save_tile_from_complete_df(df_cicloni, output_dir)"
   ]
  },
  {
   "cell_type": "code",
   "execution_count": 49,
   "id": "538b7088",
   "metadata": {},
   "outputs": [],
   "source": [
    "#df_creati_2011 = pd.concat([df_cicloni, df_0_balanced])\n",
    "#df_creati_2014 = pd.concat([df_cicloni, df_0_balanced])\n",
    "#df_creati_2016 = pd.concat([df_cicloni, df_0_balanced])\n",
    "#df_creati_2017 = pd.concat([df_cicloni, df_0_balanced])\n",
    "#df_creati_2020_1 = pd.concat([df_cicloni, df_0_balanced])\n",
    "#df_creati_2020_2 = pd.concat([df_cicloni, df_0_balanced])\n",
    "df_creati_2020_3 = pd.concat([df_cicloni, df_0_balanced])"
   ]
  },
  {
   "cell_type": "code",
   "execution_count": 50,
   "id": "39f0680f",
   "metadata": {},
   "outputs": [
    {
     "name": "stdout",
     "output_type": "stream",
     "text": [
      "(1000, 8)\n"
     ]
    }
   ],
   "source": [
    "print(df_creati_2020_3.shape)\n",
    "#df_creati_2020_3.to_csv(\"df_test_2020.csv\")"
   ]
  },
  {
   "cell_type": "code",
   "execution_count": 21,
   "id": "b69ee2d2",
   "metadata": {},
   "outputs": [],
   "source": [
    "df_train = df_creati_2011"
   ]
  },
  {
   "cell_type": "code",
   "execution_count": 51,
   "id": "68faa018",
   "metadata": {},
   "outputs": [],
   "source": [
    "df_test = df_creati_2020_3"
   ]
  },
  {
   "cell_type": "code",
   "execution_count": 39,
   "id": "a0d2a3a8",
   "metadata": {},
   "outputs": [],
   "source": [
    "df_train = pd.concat([df_creati_2011,\n",
    "df_creati_2014,\n",
    "df_creati_2016,\n",
    "df_creati_2017,\n",
    "#df_creati_2020_1,\n",
    "#df_creati_2020_2\n",
    "])"
   ]
  },
  {
   "cell_type": "code",
   "execution_count": 53,
   "id": "0a61a387",
   "metadata": {},
   "outputs": [
    {
     "name": "stdout",
     "output_type": "stream",
     "text": [
      "(854, 8)\n"
     ]
    }
   ],
   "source": [
    "print(df_train.shape)\n",
    "#df_train.to_csv(\"df_train.csv\")"
   ]
  },
  {
   "cell_type": "markdown",
   "id": "2b033652",
   "metadata": {},
   "source": [
    "### Creazione csv per il training"
   ]
  },
  {
   "cell_type": "code",
   "execution_count": 54,
   "id": "1bffebbf",
   "metadata": {},
   "outputs": [],
   "source": [
    "def create_final_df_csv(df_in, output_dir):\n",
    "    df_dataset_csv = df_in[['path', 'label']]\n",
    "    df_dataset_csv['path'] = output_dir + df_dataset_csv['path']\n",
    "    df_dataset_csv['start'] = 1\n",
    "    df_dataset_csv['end'] = 16\n",
    "    df_dataset_csv = df_dataset_csv[['path', 'start', 'end', 'label']]\n",
    "    return df_dataset_csv\n"
   ]
  },
  {
   "cell_type": "code",
   "execution_count": 55,
   "id": "35ca34fa",
   "metadata": {},
   "outputs": [
    {
     "data": {
      "text/html": [
       "<div>\n",
       "<style scoped>\n",
       "    .dataframe tbody tr th:only-of-type {\n",
       "        vertical-align: middle;\n",
       "    }\n",
       "\n",
       "    .dataframe tbody tr th {\n",
       "        vertical-align: top;\n",
       "    }\n",
       "\n",
       "    .dataframe thead th {\n",
       "        text-align: right;\n",
       "    }\n",
       "</style>\n",
       "<table border=\"1\" class=\"dataframe\">\n",
       "  <thead>\n",
       "    <tr style=\"text-align: right;\">\n",
       "      <th></th>\n",
       "      <th>video_id</th>\n",
       "      <th>tile_offset_x</th>\n",
       "      <th>tile_offset_y</th>\n",
       "      <th>path</th>\n",
       "      <th>label</th>\n",
       "      <th>start_time</th>\n",
       "      <th>end_time</th>\n",
       "      <th>orig_paths</th>\n",
       "    </tr>\n",
       "  </thead>\n",
       "  <tbody>\n",
       "    <tr>\n",
       "      <th>435</th>\n",
       "      <td>435</td>\n",
       "      <td>224</td>\n",
       "      <td>0</td>\n",
       "      <td>05-11-2011_0520_224_0</td>\n",
       "      <td>1</td>\n",
       "      <td>2011-11-05 04:00:00</td>\n",
       "      <td>2011-11-05 05:20:00</td>\n",
       "      <td>[../fromgcloud/airmass_rgb_20111105_0400.png, ...</td>\n",
       "    </tr>\n",
       "    <tr>\n",
       "      <th>436</th>\n",
       "      <td>436</td>\n",
       "      <td>224</td>\n",
       "      <td>0</td>\n",
       "      <td>05-11-2011_0640_224_0</td>\n",
       "      <td>1</td>\n",
       "      <td>2011-11-05 05:20:00</td>\n",
       "      <td>2011-11-05 06:40:00</td>\n",
       "      <td>[../fromgcloud/airmass_rgb_20111105_0520.png, ...</td>\n",
       "    </tr>\n",
       "    <tr>\n",
       "      <th>437</th>\n",
       "      <td>437</td>\n",
       "      <td>224</td>\n",
       "      <td>0</td>\n",
       "      <td>05-11-2011_0800_224_0</td>\n",
       "      <td>1</td>\n",
       "      <td>2011-11-05 06:40:00</td>\n",
       "      <td>2011-11-05 08:00:00</td>\n",
       "      <td>[../fromgcloud/airmass_rgb_20111105_0640.png, ...</td>\n",
       "    </tr>\n",
       "    <tr>\n",
       "      <th>438</th>\n",
       "      <td>438</td>\n",
       "      <td>224</td>\n",
       "      <td>0</td>\n",
       "      <td>05-11-2011_0920_224_0</td>\n",
       "      <td>1</td>\n",
       "      <td>2011-11-05 08:00:00</td>\n",
       "      <td>2011-11-05 09:20:00</td>\n",
       "      <td>[../fromgcloud/airmass_rgb_20111105_0800.png, ...</td>\n",
       "    </tr>\n",
       "    <tr>\n",
       "      <th>439</th>\n",
       "      <td>439</td>\n",
       "      <td>224</td>\n",
       "      <td>0</td>\n",
       "      <td>05-11-2011_1040_224_0</td>\n",
       "      <td>1</td>\n",
       "      <td>2011-11-05 09:20:00</td>\n",
       "      <td>2011-11-05 10:40:00</td>\n",
       "      <td>[../fromgcloud/airmass_rgb_20111105_0920.png, ...</td>\n",
       "    </tr>\n",
       "    <tr>\n",
       "      <th>...</th>\n",
       "      <td>...</td>\n",
       "      <td>...</td>\n",
       "      <td>...</td>\n",
       "      <td>...</td>\n",
       "      <td>...</td>\n",
       "      <td>...</td>\n",
       "      <td>...</td>\n",
       "      <td>...</td>\n",
       "    </tr>\n",
       "    <tr>\n",
       "      <th>1113</th>\n",
       "      <td>1113</td>\n",
       "      <td>672</td>\n",
       "      <td>196</td>\n",
       "      <td>18-11-2017_2120_672_196</td>\n",
       "      <td>0</td>\n",
       "      <td>2017-11-18 20:00:00</td>\n",
       "      <td>2017-11-18 21:20:00</td>\n",
       "      <td>[../fromgcloud/airmass_rgb_20171118_2000.png, ...</td>\n",
       "    </tr>\n",
       "    <tr>\n",
       "      <th>910</th>\n",
       "      <td>910</td>\n",
       "      <td>672</td>\n",
       "      <td>0</td>\n",
       "      <td>15-11-2017_1440_672_0</td>\n",
       "      <td>0</td>\n",
       "      <td>2017-11-15 13:20:00</td>\n",
       "      <td>2017-11-15 14:40:00</td>\n",
       "      <td>[../fromgcloud/airmass_rgb_20171115_1320.png, ...</td>\n",
       "    </tr>\n",
       "    <tr>\n",
       "      <th>1315</th>\n",
       "      <td>1315</td>\n",
       "      <td>896</td>\n",
       "      <td>196</td>\n",
       "      <td>14-11-2017_0240_896_196</td>\n",
       "      <td>0</td>\n",
       "      <td>2017-11-14 01:20:00</td>\n",
       "      <td>2017-11-14 02:40:00</td>\n",
       "      <td>[../fromgcloud/airmass_rgb_20171114_0120.png, ...</td>\n",
       "    </tr>\n",
       "    <tr>\n",
       "      <th>902</th>\n",
       "      <td>902</td>\n",
       "      <td>672</td>\n",
       "      <td>0</td>\n",
       "      <td>15-11-2017_0400_672_0</td>\n",
       "      <td>0</td>\n",
       "      <td>2017-11-15 02:40:00</td>\n",
       "      <td>2017-11-15 04:00:00</td>\n",
       "      <td>[../fromgcloud/airmass_rgb_20171115_0240.png, ...</td>\n",
       "    </tr>\n",
       "    <tr>\n",
       "      <th>706</th>\n",
       "      <td>706</td>\n",
       "      <td>448</td>\n",
       "      <td>0</td>\n",
       "      <td>20-11-2017_0640_448_0</td>\n",
       "      <td>0</td>\n",
       "      <td>2017-11-20 05:20:00</td>\n",
       "      <td>2017-11-20 06:40:00</td>\n",
       "      <td>[../fromgcloud/airmass_rgb_20171120_0520.png, ...</td>\n",
       "    </tr>\n",
       "  </tbody>\n",
       "</table>\n",
       "<p>854 rows × 8 columns</p>\n",
       "</div>"
      ],
      "text/plain": [
       "      video_id  tile_offset_x  tile_offset_y                     path  label  \\\n",
       "435        435            224              0    05-11-2011_0520_224_0      1   \n",
       "436        436            224              0    05-11-2011_0640_224_0      1   \n",
       "437        437            224              0    05-11-2011_0800_224_0      1   \n",
       "438        438            224              0    05-11-2011_0920_224_0      1   \n",
       "439        439            224              0    05-11-2011_1040_224_0      1   \n",
       "...        ...            ...            ...                      ...    ...   \n",
       "1113      1113            672            196  18-11-2017_2120_672_196      0   \n",
       "910        910            672              0    15-11-2017_1440_672_0      0   \n",
       "1315      1315            896            196  14-11-2017_0240_896_196      0   \n",
       "902        902            672              0    15-11-2017_0400_672_0      0   \n",
       "706        706            448              0    20-11-2017_0640_448_0      0   \n",
       "\n",
       "              start_time            end_time  \\\n",
       "435  2011-11-05 04:00:00 2011-11-05 05:20:00   \n",
       "436  2011-11-05 05:20:00 2011-11-05 06:40:00   \n",
       "437  2011-11-05 06:40:00 2011-11-05 08:00:00   \n",
       "438  2011-11-05 08:00:00 2011-11-05 09:20:00   \n",
       "439  2011-11-05 09:20:00 2011-11-05 10:40:00   \n",
       "...                  ...                 ...   \n",
       "1113 2017-11-18 20:00:00 2017-11-18 21:20:00   \n",
       "910  2017-11-15 13:20:00 2017-11-15 14:40:00   \n",
       "1315 2017-11-14 01:20:00 2017-11-14 02:40:00   \n",
       "902  2017-11-15 02:40:00 2017-11-15 04:00:00   \n",
       "706  2017-11-20 05:20:00 2017-11-20 06:40:00   \n",
       "\n",
       "                                             orig_paths  \n",
       "435   [../fromgcloud/airmass_rgb_20111105_0400.png, ...  \n",
       "436   [../fromgcloud/airmass_rgb_20111105_0520.png, ...  \n",
       "437   [../fromgcloud/airmass_rgb_20111105_0640.png, ...  \n",
       "438   [../fromgcloud/airmass_rgb_20111105_0800.png, ...  \n",
       "439   [../fromgcloud/airmass_rgb_20111105_0920.png, ...  \n",
       "...                                                 ...  \n",
       "1113  [../fromgcloud/airmass_rgb_20171118_2000.png, ...  \n",
       "910   [../fromgcloud/airmass_rgb_20171115_1320.png, ...  \n",
       "1315  [../fromgcloud/airmass_rgb_20171114_0120.png, ...  \n",
       "902   [../fromgcloud/airmass_rgb_20171115_0240.png, ...  \n",
       "706   [../fromgcloud/airmass_rgb_20171120_0520.png, ...  \n",
       "\n",
       "[854 rows x 8 columns]"
      ]
     },
     "execution_count": 55,
     "metadata": {},
     "output_type": "execute_result"
    }
   ],
   "source": [
    "df_train"
   ]
  },
  {
   "cell_type": "code",
   "execution_count": 56,
   "id": "be344ed4",
   "metadata": {},
   "outputs": [],
   "source": [
    "df_dataset_csv_train = create_final_df_csv(df_train, output_dir)\n",
    "df_dataset_csv_test = create_final_df_csv(df_test, output_dir)"
   ]
  },
  {
   "cell_type": "code",
   "execution_count": 57,
   "id": "b9b6e4e5",
   "metadata": {},
   "outputs": [
    {
     "data": {
      "text/html": [
       "<div>\n",
       "<style scoped>\n",
       "    .dataframe tbody tr th:only-of-type {\n",
       "        vertical-align: middle;\n",
       "    }\n",
       "\n",
       "    .dataframe tbody tr th {\n",
       "        vertical-align: top;\n",
       "    }\n",
       "\n",
       "    .dataframe thead th {\n",
       "        text-align: right;\n",
       "    }\n",
       "</style>\n",
       "<table border=\"1\" class=\"dataframe\">\n",
       "  <thead>\n",
       "    <tr style=\"text-align: right;\">\n",
       "      <th></th>\n",
       "      <th>path</th>\n",
       "      <th>start</th>\n",
       "      <th>end</th>\n",
       "      <th>label</th>\n",
       "    </tr>\n",
       "  </thead>\n",
       "  <tbody>\n",
       "    <tr>\n",
       "      <th>435</th>\n",
       "      <td>../airmassRGB/supervised/05-11-2011_0520_224_0</td>\n",
       "      <td>1</td>\n",
       "      <td>16</td>\n",
       "      <td>1</td>\n",
       "    </tr>\n",
       "    <tr>\n",
       "      <th>436</th>\n",
       "      <td>../airmassRGB/supervised/05-11-2011_0640_224_0</td>\n",
       "      <td>1</td>\n",
       "      <td>16</td>\n",
       "      <td>1</td>\n",
       "    </tr>\n",
       "    <tr>\n",
       "      <th>437</th>\n",
       "      <td>../airmassRGB/supervised/05-11-2011_0800_224_0</td>\n",
       "      <td>1</td>\n",
       "      <td>16</td>\n",
       "      <td>1</td>\n",
       "    </tr>\n",
       "    <tr>\n",
       "      <th>438</th>\n",
       "      <td>../airmassRGB/supervised/05-11-2011_0920_224_0</td>\n",
       "      <td>1</td>\n",
       "      <td>16</td>\n",
       "      <td>1</td>\n",
       "    </tr>\n",
       "    <tr>\n",
       "      <th>439</th>\n",
       "      <td>../airmassRGB/supervised/05-11-2011_1040_224_0</td>\n",
       "      <td>1</td>\n",
       "      <td>16</td>\n",
       "      <td>1</td>\n",
       "    </tr>\n",
       "    <tr>\n",
       "      <th>...</th>\n",
       "      <td>...</td>\n",
       "      <td>...</td>\n",
       "      <td>...</td>\n",
       "      <td>...</td>\n",
       "    </tr>\n",
       "    <tr>\n",
       "      <th>1113</th>\n",
       "      <td>../airmassRGB/supervised/18-11-2017_2120_672_196</td>\n",
       "      <td>1</td>\n",
       "      <td>16</td>\n",
       "      <td>0</td>\n",
       "    </tr>\n",
       "    <tr>\n",
       "      <th>910</th>\n",
       "      <td>../airmassRGB/supervised/15-11-2017_1440_672_0</td>\n",
       "      <td>1</td>\n",
       "      <td>16</td>\n",
       "      <td>0</td>\n",
       "    </tr>\n",
       "    <tr>\n",
       "      <th>1315</th>\n",
       "      <td>../airmassRGB/supervised/14-11-2017_0240_896_196</td>\n",
       "      <td>1</td>\n",
       "      <td>16</td>\n",
       "      <td>0</td>\n",
       "    </tr>\n",
       "    <tr>\n",
       "      <th>902</th>\n",
       "      <td>../airmassRGB/supervised/15-11-2017_0400_672_0</td>\n",
       "      <td>1</td>\n",
       "      <td>16</td>\n",
       "      <td>0</td>\n",
       "    </tr>\n",
       "    <tr>\n",
       "      <th>706</th>\n",
       "      <td>../airmassRGB/supervised/20-11-2017_0640_448_0</td>\n",
       "      <td>1</td>\n",
       "      <td>16</td>\n",
       "      <td>0</td>\n",
       "    </tr>\n",
       "  </tbody>\n",
       "</table>\n",
       "<p>854 rows × 4 columns</p>\n",
       "</div>"
      ],
      "text/plain": [
       "                                                  path  start  end  label\n",
       "435     ../airmassRGB/supervised/05-11-2011_0520_224_0      1   16      1\n",
       "436     ../airmassRGB/supervised/05-11-2011_0640_224_0      1   16      1\n",
       "437     ../airmassRGB/supervised/05-11-2011_0800_224_0      1   16      1\n",
       "438     ../airmassRGB/supervised/05-11-2011_0920_224_0      1   16      1\n",
       "439     ../airmassRGB/supervised/05-11-2011_1040_224_0      1   16      1\n",
       "...                                                ...    ...  ...    ...\n",
       "1113  ../airmassRGB/supervised/18-11-2017_2120_672_196      1   16      0\n",
       "910     ../airmassRGB/supervised/15-11-2017_1440_672_0      1   16      0\n",
       "1315  ../airmassRGB/supervised/14-11-2017_0240_896_196      1   16      0\n",
       "902     ../airmassRGB/supervised/15-11-2017_0400_672_0      1   16      0\n",
       "706     ../airmassRGB/supervised/20-11-2017_0640_448_0      1   16      0\n",
       "\n",
       "[854 rows x 4 columns]"
      ]
     },
     "execution_count": 57,
     "metadata": {},
     "output_type": "execute_result"
    }
   ],
   "source": [
    "df_dataset_csv_train"
   ]
  },
  {
   "cell_type": "code",
   "execution_count": 60,
   "id": "2c541693",
   "metadata": {},
   "outputs": [],
   "source": [
    "df_dataset_csv_train.to_csv(\"./train_supervised.csv\", index=False)"
   ]
  },
  {
   "cell_type": "code",
   "execution_count": 61,
   "id": "a4ab3d84",
   "metadata": {},
   "outputs": [],
   "source": [
    "df_dataset_csv_test.to_csv(\"./val_supervised.csv\", index=False)"
   ]
  },
  {
   "cell_type": "code",
   "execution_count": null,
   "id": "5de4ea07",
   "metadata": {},
   "outputs": [],
   "source": []
  },
  {
   "cell_type": "code",
   "execution_count": null,
   "metadata": {},
   "outputs": [],
   "source": []
  },
  {
   "cell_type": "code",
   "execution_count": null,
   "id": "d910cd3f",
   "metadata": {},
   "outputs": [],
   "source": []
  },
  {
   "cell_type": "code",
   "execution_count": 104,
   "id": "171957f3",
   "metadata": {},
   "outputs": [
    {
     "data": {
      "text/html": [
       "<div>\n",
       "<style scoped>\n",
       "    .dataframe tbody tr th:only-of-type {\n",
       "        vertical-align: middle;\n",
       "    }\n",
       "\n",
       "    .dataframe tbody tr th {\n",
       "        vertical-align: top;\n",
       "    }\n",
       "\n",
       "    .dataframe thead th {\n",
       "        text-align: right;\n",
       "    }\n",
       "</style>\n",
       "<table border=\"1\" class=\"dataframe\">\n",
       "  <thead>\n",
       "    <tr style=\"text-align: right;\">\n",
       "      <th></th>\n",
       "      <th>path</th>\n",
       "      <th>start</th>\n",
       "      <th>end</th>\n",
       "      <th>label</th>\n",
       "      <th>start_time</th>\n",
       "      <th>end_time</th>\n",
       "    </tr>\n",
       "  </thead>\n",
       "  <tbody>\n",
       "    <tr>\n",
       "      <th>22395</th>\n",
       "      <td>../airmassRGB/supervised/part316_336_0</td>\n",
       "      <td>1</td>\n",
       "      <td>16</td>\n",
       "      <td>1</td>\n",
       "      <td>2014-11-10 11:55:00</td>\n",
       "      <td>2014-11-10 13:10:00</td>\n",
       "    </tr>\n",
       "    <tr>\n",
       "      <th>22396</th>\n",
       "      <td>../airmassRGB/supervised/part317_336_0</td>\n",
       "      <td>1</td>\n",
       "      <td>16</td>\n",
       "      <td>1</td>\n",
       "      <td>2014-11-10 13:15:00</td>\n",
       "      <td>2014-11-10 14:30:00</td>\n",
       "    </tr>\n",
       "    <tr>\n",
       "      <th>23716</th>\n",
       "      <td>../airmassRGB/supervised/part1637_336_0</td>\n",
       "      <td>1</td>\n",
       "      <td>16</td>\n",
       "      <td>1</td>\n",
       "      <td>2020-03-15 23:05:00</td>\n",
       "      <td>2020-03-16 00:20:00</td>\n",
       "    </tr>\n",
       "    <tr>\n",
       "      <th>23717</th>\n",
       "      <td>../airmassRGB/supervised/part1638_336_0</td>\n",
       "      <td>1</td>\n",
       "      <td>16</td>\n",
       "      <td>1</td>\n",
       "      <td>2020-03-16 00:25:00</td>\n",
       "      <td>2020-03-16 01:40:00</td>\n",
       "    </tr>\n",
       "    <tr>\n",
       "      <th>23718</th>\n",
       "      <td>../airmassRGB/supervised/part1639_336_0</td>\n",
       "      <td>1</td>\n",
       "      <td>16</td>\n",
       "      <td>1</td>\n",
       "      <td>2020-03-16 01:45:00</td>\n",
       "      <td>2020-03-16 03:00:00</td>\n",
       "    </tr>\n",
       "    <tr>\n",
       "      <th>...</th>\n",
       "      <td>...</td>\n",
       "      <td>...</td>\n",
       "      <td>...</td>\n",
       "      <td>...</td>\n",
       "      <td>...</td>\n",
       "      <td>...</td>\n",
       "    </tr>\n",
       "    <tr>\n",
       "      <th>139242</th>\n",
       "      <td>../airmassRGB/supervised/part6763_896_112</td>\n",
       "      <td>1</td>\n",
       "      <td>16</td>\n",
       "      <td>1</td>\n",
       "      <td>2020-12-25 23:05:00</td>\n",
       "      <td>2020-12-26 00:20:00</td>\n",
       "    </tr>\n",
       "    <tr>\n",
       "      <th>139243</th>\n",
       "      <td>../airmassRGB/supervised/part6764_896_112</td>\n",
       "      <td>1</td>\n",
       "      <td>16</td>\n",
       "      <td>1</td>\n",
       "      <td>2020-12-26 00:25:00</td>\n",
       "      <td>2020-12-26 01:40:00</td>\n",
       "    </tr>\n",
       "    <tr>\n",
       "      <th>139244</th>\n",
       "      <td>../airmassRGB/supervised/part6765_896_112</td>\n",
       "      <td>1</td>\n",
       "      <td>16</td>\n",
       "      <td>1</td>\n",
       "      <td>2020-12-26 01:45:00</td>\n",
       "      <td>2020-12-26 03:00:00</td>\n",
       "    </tr>\n",
       "    <tr>\n",
       "      <th>139245</th>\n",
       "      <td>../airmassRGB/supervised/part6766_896_112</td>\n",
       "      <td>1</td>\n",
       "      <td>16</td>\n",
       "      <td>1</td>\n",
       "      <td>2020-12-26 03:05:00</td>\n",
       "      <td>2020-12-26 04:20:00</td>\n",
       "    </tr>\n",
       "    <tr>\n",
       "      <th>139246</th>\n",
       "      <td>../airmassRGB/supervised/part6767_896_112</td>\n",
       "      <td>1</td>\n",
       "      <td>16</td>\n",
       "      <td>1</td>\n",
       "      <td>2020-12-26 04:25:00</td>\n",
       "      <td>2020-12-26 05:40:00</td>\n",
       "    </tr>\n",
       "  </tbody>\n",
       "</table>\n",
       "<p>1662 rows × 6 columns</p>\n",
       "</div>"
      ],
      "text/plain": [
       "                                             path  start  end  label  \\\n",
       "22395      ../airmassRGB/supervised/part316_336_0      1   16      1   \n",
       "22396      ../airmassRGB/supervised/part317_336_0      1   16      1   \n",
       "23716     ../airmassRGB/supervised/part1637_336_0      1   16      1   \n",
       "23717     ../airmassRGB/supervised/part1638_336_0      1   16      1   \n",
       "23718     ../airmassRGB/supervised/part1639_336_0      1   16      1   \n",
       "...                                           ...    ...  ...    ...   \n",
       "139242  ../airmassRGB/supervised/part6763_896_112      1   16      1   \n",
       "139243  ../airmassRGB/supervised/part6764_896_112      1   16      1   \n",
       "139244  ../airmassRGB/supervised/part6765_896_112      1   16      1   \n",
       "139245  ../airmassRGB/supervised/part6766_896_112      1   16      1   \n",
       "139246  ../airmassRGB/supervised/part6767_896_112      1   16      1   \n",
       "\n",
       "                start_time            end_time  \n",
       "22395  2014-11-10 11:55:00 2014-11-10 13:10:00  \n",
       "22396  2014-11-10 13:15:00 2014-11-10 14:30:00  \n",
       "23716  2020-03-15 23:05:00 2020-03-16 00:20:00  \n",
       "23717  2020-03-16 00:25:00 2020-03-16 01:40:00  \n",
       "23718  2020-03-16 01:45:00 2020-03-16 03:00:00  \n",
       "...                    ...                 ...  \n",
       "139242 2020-12-25 23:05:00 2020-12-26 00:20:00  \n",
       "139243 2020-12-26 00:25:00 2020-12-26 01:40:00  \n",
       "139244 2020-12-26 01:45:00 2020-12-26 03:00:00  \n",
       "139245 2020-12-26 03:05:00 2020-12-26 04:20:00  \n",
       "139246 2020-12-26 04:25:00 2020-12-26 05:40:00  \n",
       "\n",
       "[1662 rows x 6 columns]"
      ]
     },
     "execution_count": 104,
     "metadata": {},
     "output_type": "execute_result"
    }
   ],
   "source": [
    "df_out[df_out.label ==1]"
   ]
  },
  {
   "cell_type": "code",
   "execution_count": 84,
   "id": "5805b1ca",
   "metadata": {},
   "outputs": [],
   "source": [
    "df_out = df_out.rename(columns={'folder':'path'})"
   ]
  },
  {
   "cell_type": "code",
   "execution_count": 85,
   "id": "17e955a1",
   "metadata": {},
   "outputs": [],
   "source": [
    "df_out.to_csv(\"./df_videotiles_date.csv\", index=False)"
   ]
  },
  {
   "cell_type": "markdown",
   "id": "ad587af5",
   "metadata": {},
   "source": [
    "### Guardo alcuni video da cancellare dal disco per risparmiare spazio"
   ]
  },
  {
   "cell_type": "code",
   "execution_count": 128,
   "id": "265f8494",
   "metadata": {},
   "outputs": [
    {
     "data": {
      "text/plain": [
       "0"
      ]
     },
     "execution_count": 128,
     "metadata": {},
     "output_type": "execute_result"
    }
   ],
   "source": [
    "df_out[df_out['path'].str.contains(r\"/part43\\d+\", regex=True)].label.sum()"
   ]
  },
  {
   "cell_type": "code",
   "execution_count": 129,
   "id": "d78e3500",
   "metadata": {},
   "outputs": [
    {
     "name": "stdout",
     "output_type": "stream",
     "text": [
      "Numero di cartelle esistenti: 126001, righe totali precedenti: 147200\n"
     ]
    }
   ],
   "source": [
    "df_filt = df_out[df_out['path'].apply(os.path.isdir)]\n",
    "print(f\"Numero di cartelle esistenti: {len(df_filt)}, righe totali precedenti: {df_out.shape[0]}\")"
   ]
  },
  {
   "cell_type": "code",
   "execution_count": 130,
   "id": "4165dfb7",
   "metadata": {},
   "outputs": [
    {
     "data": {
      "text/plain": [
       "(1512, 124489, 0.012)"
      ]
     },
     "execution_count": 130,
     "metadata": {},
     "output_type": "execute_result"
    }
   ],
   "source": [
    "df_filt[df_filt.label==1].shape[0], df_filt[df_filt.label==0].shape[0], round(df_filt.label.sum()/df_filt.shape[0], 3)"
   ]
  },
  {
   "cell_type": "code",
   "execution_count": 62,
   "id": "25f2e7ba",
   "metadata": {},
   "outputs": [],
   "source": [
    "def balance_df_by_label(df, label_column=\"label\", random_state=478562):\n",
    "    \"\"\"\n",
    "    Bilancia un DataFrame mantenendo tutte le righe con label=1\n",
    "    e selezionando (in modo random) lo stesso numero di righe con label=0.\n",
    "    Restituisce un DataFrame mescolato con uguale quantità di 1 e 0.\n",
    "    \n",
    "    Parametri:\n",
    "    - df: DataFrame originale\n",
    "    - label_column: il nome della colonna che contiene la label (default: 'label')\n",
    "    - random_state: per riproducibilità del campionamento casuale\n",
    "    \"\"\"\n",
    "    # Seleziona tutte le righe con label=1\n",
    "    df_pos = df[df[label_column] == 1]\n",
    "    # Seleziona tutte le righe con label=0\n",
    "    df_neg = df[df[label_column] == 0]\n",
    "\n",
    "    # Numero di righe positive\n",
    "    num_pos = len(df_pos)\n",
    "    # Esegui un sample sulle righe negative pari a num_pos\n",
    "    df_neg_sampled = df_neg.sample(n=num_pos, random_state=random_state)\n",
    "\n",
    "    # Concatena e mescola\n",
    "    df_balanced = pd.concat([df_pos, df_neg_sampled])\n",
    "    df_balanced = df_balanced.sample(frac=1, random_state=random_state).reset_index(drop=True)\n",
    "\n",
    "    return df_balanced"
   ]
  },
  {
   "cell_type": "code",
   "execution_count": 131,
   "id": "6e673ad3",
   "metadata": {},
   "outputs": [
    {
     "name": "stdout",
     "output_type": "stream",
     "text": [
      "3024 label\n",
      "1    1512\n",
      "0    1512\n",
      "Name: count, dtype: int64\n"
     ]
    }
   ],
   "source": [
    "df_balanced = balance_df_by_label(df_filt)\n",
    "print(len(df_balanced), df_balanced['label'].value_counts())"
   ]
  },
  {
   "cell_type": "code",
   "execution_count": 137,
   "id": "0ae0b7b2",
   "metadata": {},
   "outputs": [
    {
     "data": {
      "text/html": [
       "<div>\n",
       "<style scoped>\n",
       "    .dataframe tbody tr th:only-of-type {\n",
       "        vertical-align: middle;\n",
       "    }\n",
       "\n",
       "    .dataframe tbody tr th {\n",
       "        vertical-align: top;\n",
       "    }\n",
       "\n",
       "    .dataframe thead th {\n",
       "        text-align: right;\n",
       "    }\n",
       "</style>\n",
       "<table border=\"1\" class=\"dataframe\">\n",
       "  <thead>\n",
       "    <tr style=\"text-align: right;\">\n",
       "      <th></th>\n",
       "      <th>path</th>\n",
       "      <th>start</th>\n",
       "      <th>end</th>\n",
       "      <th>label</th>\n",
       "      <th>start_time</th>\n",
       "      <th>end_time</th>\n",
       "    </tr>\n",
       "  </thead>\n",
       "  <tbody>\n",
       "    <tr>\n",
       "      <th>0</th>\n",
       "      <td>../airmassRGB/supervised/part6762_784_112</td>\n",
       "      <td>1</td>\n",
       "      <td>16</td>\n",
       "      <td>1</td>\n",
       "      <td>2020-12-25 21:45:00</td>\n",
       "      <td>2020-12-25 23:00:00</td>\n",
       "    </tr>\n",
       "    <tr>\n",
       "      <th>1</th>\n",
       "      <td>../airmassRGB/supervised/part6102_784_112</td>\n",
       "      <td>1</td>\n",
       "      <td>16</td>\n",
       "      <td>1</td>\n",
       "      <td>2020-11-19 04:50:00</td>\n",
       "      <td>2020-11-19 06:05:00</td>\n",
       "    </tr>\n",
       "    <tr>\n",
       "      <th>2</th>\n",
       "      <td>../airmassRGB/supervised/part6101_784_112</td>\n",
       "      <td>1</td>\n",
       "      <td>16</td>\n",
       "      <td>1</td>\n",
       "      <td>2020-11-19 03:30:00</td>\n",
       "      <td>2020-11-19 04:45:00</td>\n",
       "    </tr>\n",
       "    <tr>\n",
       "      <th>3</th>\n",
       "      <td>../airmassRGB/supervised/part3246_560_0</td>\n",
       "      <td>1</td>\n",
       "      <td>16</td>\n",
       "      <td>1</td>\n",
       "      <td>2020-06-13 11:20:00</td>\n",
       "      <td>2020-06-13 12:35:00</td>\n",
       "    </tr>\n",
       "    <tr>\n",
       "      <th>4</th>\n",
       "      <td>../airmassRGB/supervised/part1925_336_112</td>\n",
       "      <td>1</td>\n",
       "      <td>16</td>\n",
       "      <td>0</td>\n",
       "      <td>2020-04-01 00:05:00</td>\n",
       "      <td>2020-04-01 01:20:00</td>\n",
       "    </tr>\n",
       "    <tr>\n",
       "      <th>...</th>\n",
       "      <td>...</td>\n",
       "      <td>...</td>\n",
       "      <td>...</td>\n",
       "      <td>...</td>\n",
       "      <td>...</td>\n",
       "      <td>...</td>\n",
       "    </tr>\n",
       "    <tr>\n",
       "      <th>3019</th>\n",
       "      <td>../airmassRGB/supervised/part1653_560_0</td>\n",
       "      <td>1</td>\n",
       "      <td>16</td>\n",
       "      <td>1</td>\n",
       "      <td>2020-03-16 20:25:00</td>\n",
       "      <td>2020-03-16 21:40:00</td>\n",
       "    </tr>\n",
       "    <tr>\n",
       "      <th>3020</th>\n",
       "      <td>../airmassRGB/supervised/part1993_896_112</td>\n",
       "      <td>1</td>\n",
       "      <td>16</td>\n",
       "      <td>0</td>\n",
       "      <td>2020-04-04 18:45:00</td>\n",
       "      <td>2020-04-04 20:00:00</td>\n",
       "    </tr>\n",
       "    <tr>\n",
       "      <th>3021</th>\n",
       "      <td>../airmassRGB/supervised/part3207_448_112</td>\n",
       "      <td>1</td>\n",
       "      <td>16</td>\n",
       "      <td>1</td>\n",
       "      <td>2020-06-11 07:20:00</td>\n",
       "      <td>2020-06-11 08:35:00</td>\n",
       "    </tr>\n",
       "    <tr>\n",
       "      <th>3022</th>\n",
       "      <td>../airmassRGB/supervised/part2788_336_112</td>\n",
       "      <td>1</td>\n",
       "      <td>16</td>\n",
       "      <td>0</td>\n",
       "      <td>2020-05-18 23:05:00</td>\n",
       "      <td>2020-05-19 00:20:00</td>\n",
       "    </tr>\n",
       "    <tr>\n",
       "      <th>3023</th>\n",
       "      <td>../airmassRGB/supervised/part108_672_0</td>\n",
       "      <td>1</td>\n",
       "      <td>16</td>\n",
       "      <td>1</td>\n",
       "      <td>2011-11-06 22:40:00</td>\n",
       "      <td>2011-11-06 23:55:00</td>\n",
       "    </tr>\n",
       "  </tbody>\n",
       "</table>\n",
       "<p>3024 rows × 6 columns</p>\n",
       "</div>"
      ],
      "text/plain": [
       "                                           path  start  end  label  \\\n",
       "0     ../airmassRGB/supervised/part6762_784_112      1   16      1   \n",
       "1     ../airmassRGB/supervised/part6102_784_112      1   16      1   \n",
       "2     ../airmassRGB/supervised/part6101_784_112      1   16      1   \n",
       "3       ../airmassRGB/supervised/part3246_560_0      1   16      1   \n",
       "4     ../airmassRGB/supervised/part1925_336_112      1   16      0   \n",
       "...                                         ...    ...  ...    ...   \n",
       "3019    ../airmassRGB/supervised/part1653_560_0      1   16      1   \n",
       "3020  ../airmassRGB/supervised/part1993_896_112      1   16      0   \n",
       "3021  ../airmassRGB/supervised/part3207_448_112      1   16      1   \n",
       "3022  ../airmassRGB/supervised/part2788_336_112      1   16      0   \n",
       "3023     ../airmassRGB/supervised/part108_672_0      1   16      1   \n",
       "\n",
       "              start_time            end_time  \n",
       "0    2020-12-25 21:45:00 2020-12-25 23:00:00  \n",
       "1    2020-11-19 04:50:00 2020-11-19 06:05:00  \n",
       "2    2020-11-19 03:30:00 2020-11-19 04:45:00  \n",
       "3    2020-06-13 11:20:00 2020-06-13 12:35:00  \n",
       "4    2020-04-01 00:05:00 2020-04-01 01:20:00  \n",
       "...                  ...                 ...  \n",
       "3019 2020-03-16 20:25:00 2020-03-16 21:40:00  \n",
       "3020 2020-04-04 18:45:00 2020-04-04 20:00:00  \n",
       "3021 2020-06-11 07:20:00 2020-06-11 08:35:00  \n",
       "3022 2020-05-18 23:05:00 2020-05-19 00:20:00  \n",
       "3023 2011-11-06 22:40:00 2011-11-06 23:55:00  \n",
       "\n",
       "[3024 rows x 6 columns]"
      ]
     },
     "execution_count": 137,
     "metadata": {},
     "output_type": "execute_result"
    }
   ],
   "source": [
    "df_balanced\n"
   ]
  },
  {
   "cell_type": "code",
   "execution_count": 135,
   "id": "1410ce60",
   "metadata": {},
   "outputs": [
    {
     "name": "stdout",
     "output_type": "stream",
     "text": [
      "ranges train e validation:  2116 - 2721\n"
     ]
    }
   ],
   "source": [
    "l = df_balanced.shape[0]\n",
    "#l = 100\n",
    "tr_p = int(l * 0.7)\n",
    "val_p = int(l * 0.9)\n",
    "print(f\"ranges train e validation:  {tr_p} - {val_p}\")\n",
    "df_train = df_balanced[:tr_p]\n",
    "df_val = df_balanced[tr_p:val_p]\n",
    "df_test = df_balanced[val_p:]"
   ]
  },
  {
   "cell_type": "code",
   "execution_count": 136,
   "id": "5fbe5e10",
   "metadata": {},
   "outputs": [],
   "source": [
    "out_csv_label = os.path.join(\"./\", \"train_supervised.csv\")\n",
    "df_train.to_csv(out_csv_label, index=False)\n",
    "out_csv_label = os.path.join(\"./\", \"val_supervised.csv\")\n",
    "df_val.to_csv(out_csv_label, index=False)\n",
    "out_csv_label = os.path.join(\"./\", \"test_supervised.csv\")\n",
    "df_test.to_csv(out_csv_label, index=False)"
   ]
  },
  {
   "cell_type": "markdown",
   "id": "12b124df-df14-4119-9eb0-76b106f34036",
   "metadata": {
    "tags": []
   },
   "source": [
    "### copia le immagini in sottocartelle .../partN"
   ]
  },
  {
   "cell_type": "raw",
   "id": "0d7c23c2-b3fd-47de-865e-1e2a8426b44e",
   "metadata": {
    "jupyter": {
     "source_hidden": true
    },
    "tags": []
   },
   "source": [
    "def make_subfolders_info(images, output_dir, num_frames=16):\n",
    "    # SE C'È TEMPO FARE UN REFACTORING\n",
    "    subfolder_info = []\n",
    "    num_total_files = len(images)\n",
    "    num_subfolders = num_total_files // num_frames\n",
    "\n",
    "    for i in range(num_subfolders):\n",
    "        subfolder_name = f\"part{i+1}\"\n",
    "        subfolder_path = os.path.join(output_dir, subfolder_name)\n",
    "        #os.makedirs(subfolder_path, exist_ok=True)\n",
    "\n",
    "        start_idx = i * num_frames\n",
    "        end_idx = start_idx + num_frames\n",
    "\n",
    "        # Copia effettiva dei 16 frame nella sottocartella\n",
    "        for idx, file in enumerate(images[start_idx:end_idx]):\n",
    "            new_name = os.path.join(subfolder_path, f\"img_{idx+1:05d}.png\")\n",
    "            shutil.copy(file, new_name)\n",
    "\n",
    "        # Esempio: estrai la data dal frame centrale\n",
    "        mid_idx = start_idx + num_frames // 2\n",
    "        dt = extract_dates_pattern_airmass_rgb_20200101_0000(images[mid_idx].name)\n",
    "        \n",
    "        # Salviamo in una lista: cartella e data\n",
    "        subfolder_info.append({\"folder\": subfolder_path, \"date\": dt})"
   ]
  },
  {
   "cell_type": "raw",
   "id": "29e13afb-0201-4e1c-a5f7-f75962bdbb9a",
   "metadata": {
    "jupyter": {
     "source_hidden": true
    },
    "tags": []
   },
   "source": [
    "def split_into_subfolders(images, output_dir, num_frames=16):\n",
    "    subfolders = []\n",
    "    num_total_files = len(images)\n",
    "\n",
    "    # Numero di sottocartelle necessarie\n",
    "    num_subfolders = num_total_files // num_frames\n",
    "\n",
    "    for i in range(num_subfolders):\n",
    "        subfolder_name = f\"part{i+1}\"\n",
    "        subfolder_path = os.path.join(output_dir, subfolder_name)\n",
    "        os.makedirs(subfolder_path, exist_ok=True)\n",
    "\n",
    "        # Copia i file nella sottocartella con il nome 'img_{:05}.png'\n",
    "        start_idx = i * num_frames\n",
    "        end_idx = start_idx + num_frames\n",
    "\n",
    "        for idx, file in enumerate(images[start_idx:end_idx]):\n",
    "            new_name = os.path.join(subfolder_path, f\"img_{idx+1:05d}.png\")\n",
    "            shutil.copy(file, new_name)\n",
    "\n",
    "        subfolders.append(subfolder_path)\n",
    "\n",
    "    return subfolders"
   ]
  },
  {
   "cell_type": "code",
   "execution_count": 27,
   "id": "a6caff92-8955-4caf-a75b-401da0fb0f55",
   "metadata": {
    "tags": []
   },
   "outputs": [],
   "source": [
    "from build_supervised_dataset_no_tiles import split_into_subfolders_and_track_dates"
   ]
  },
  {
   "cell_type": "code",
   "execution_count": null,
   "id": "9e33cf69-086b-4152-9405-31382f5bb8c7",
   "metadata": {},
   "outputs": [],
   "source": [
    "#subfolders = split_into_subfolders(sorted_filenames, output_dir)\n",
    "subfolder_info = split_into_subfolders_and_track_dates(sorted_filenames, output_dir)"
   ]
  },
  {
   "cell_type": "code",
   "execution_count": null,
   "id": "9a318643-7a87-4c4c-96b0-d9252d472439",
   "metadata": {},
   "outputs": [],
   "source": [
    "#subfolder_info"
   ]
  },
  {
   "cell_type": "markdown",
   "id": "9ff96c6b-e42d-475d-9f3b-8957fb8b4d68",
   "metadata": {
    "jp-MarkdownHeadingCollapsed": true,
    "tags": []
   },
   "source": [
    "### Suddivide in train/test/val e scrive i CSV"
   ]
  },
  {
   "cell_type": "code",
   "execution_count": 28,
   "id": "f2a7c434-a123-44be-8904-c9bdb994ac91",
   "metadata": {},
   "outputs": [
    {
     "data": {
      "text/plain": [
       "'E:/Medicanes_Data/airmassRGB'"
      ]
     },
     "execution_count": 28,
     "metadata": {},
     "output_type": "execute_result"
    }
   ],
   "source": [
    "output_dir"
   ]
  },
  {
   "cell_type": "code",
   "execution_count": 30,
   "id": "fcb2f0fa-7076-4f8c-9d23-a7cb56704b33",
   "metadata": {},
   "outputs": [],
   "source": [
    "from build_dataset import create_csv"
   ]
  },
  {
   "cell_type": "code",
   "execution_count": 33,
   "id": "4b61f944-b9c7-48b3-a796-a5426f201ab4",
   "metadata": {},
   "outputs": [
    {
     "name": "stdout",
     "output_type": "stream",
     "text": [
      "File CSV generati:\n",
      "Train: E:/Medicanes_Data/airmassRGB\\train.csv\n",
      "Test: E:/Medicanes_Data/airmassRGB\\test.csv\n",
      "Validation: E:/Medicanes_Data/airmassRGB\\val.csv\n"
     ]
    }
   ],
   "source": [
    "create_csv(output_dir)"
   ]
  },
  {
   "cell_type": "markdown",
   "id": "e22c7ab4-eda7-4f0c-ae6d-feb8f7fae474",
   "metadata": {},
   "source": [
    "# Per il dataset supervisionato \n",
    "(senza tiles -> sbagliato perché ogni etichetta va associata alla singola tile)"
   ]
  },
  {
   "cell_type": "code",
   "execution_count": null,
   "id": "25d1bd3b-7565-4893-aa64-801df657f4a9",
   "metadata": {},
   "outputs": [],
   "source": [
    "from build_supervised_dataset_no_tiles import create_supervised_csv_from_info, is_in_medicane\n",
    "from medicane_utils.load_files import load_medicane_intervals"
   ]
  },
  {
   "cell_type": "code",
   "execution_count": 36,
   "id": "4e1a2744-c241-42dd-a5ad-8f7e09be12e1",
   "metadata": {},
   "outputs": [
    {
     "name": "stdout",
     "output_type": "stream",
     "text": [
      "Creato CSV supervisionato in: ./dataset.csv\n"
     ]
    }
   ],
   "source": [
    "folder_root = output_dir      # cartella con subfolder part1, part2 ...\n",
    "medicane_csv = \"./medicane_validi.csv\"    # le date dei medicane\n",
    "out_csv = \"./dataset.csv\"\n",
    "create_supervised_csv_from_info(subfolder_info, medicane_csv, out_csv)"
   ]
  },
  {
   "cell_type": "code",
   "execution_count": null,
   "id": "58476872-bc83-4f02-98f3-ad7d9eb8ce9d",
   "metadata": {},
   "outputs": [],
   "source": []
  },
  {
   "cell_type": "code",
   "execution_count": null,
   "id": "78b19061-bfb6-4d91-adbc-3cef105563aa",
   "metadata": {},
   "outputs": [],
   "source": []
  }
 ],
 "metadata": {
  "kernelspec": {
   "display_name": "videomae",
   "language": "python",
   "name": "python3"
  },
  "language_info": {
   "codemirror_mode": {
    "name": "ipython",
    "version": 3
   },
   "file_extension": ".py",
   "mimetype": "text/x-python",
   "name": "python",
   "nbconvert_exporter": "python",
   "pygments_lexer": "ipython3",
   "version": "3.9.21"
  }
 },
 "nbformat": 4,
 "nbformat_minor": 5
}
