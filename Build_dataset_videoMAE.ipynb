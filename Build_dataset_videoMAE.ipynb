{
 "cells": [
  {
   "cell_type": "code",
   "execution_count": 26,
   "id": "23eaabe1-9639-4c27-a77b-0d924199cf91",
   "metadata": {},
   "outputs": [
    {
     "name": "stdout",
     "output_type": "stream",
     "text": [
      "The autoreload extension is already loaded. To reload it, use:\n",
      "  %reload_ext autoreload\n"
     ]
    }
   ],
   "source": [
    "%load_ext autoreload\n",
    "%autoreload 2\n",
    "\n",
    "import os\n",
    "from pathlib import Path\n",
    "import shutil\n",
    "import csv\n",
    "import re\n",
    "from collections import defaultdict\n",
    "from datetime import datetime\n",
    "import pandas as pd\n",
    "\n",
    "import sys\n",
    "sys.path.append(\"./missing_data\")\n"
   ]
  },
  {
   "cell_type": "code",
   "execution_count": 4,
   "id": "d72fca5b-7dba-4123-8d33-48666f7ccd3b",
   "metadata": {},
   "outputs": [],
   "source": [
    "def get_files_from_folder(folder, extension, verbose=False):\n",
    "    folder = Path(folder)\n",
    "    files = list(folder.rglob(f\"*.{extension}\"))\n",
    "    if verbose:\n",
    "        print(f\"Ci sono {len(files)} files\")\n",
    "    return files\n",
    "\n",
    "def extract_dates_pattern_airmass_rgb_20200101_0000(filename):\n",
    "    \"\"\"\n",
    "    Estrae le date di inizio e fine acquisizione dal nome del file.\n",
    "    \n",
    "    Esempio di nome file:\n",
    "    airmass_rgb_20200101_0000.png\n",
    "    \"\"\"\n",
    "    pattern = r\"^airmass_rgb_(\\d{8})_(\\d{4})\\.png$\"\n",
    "    match = re.match(pattern, filename)\n",
    "    if match:\n",
    "        date_str = match.group(1)  # YYYYMMDD\n",
    "        time_str = match.group(2)  # HHMM\n",
    "        datetime_str = f\"{date_str}{time_str}\"\n",
    "        dt = datetime.strptime(datetime_str, '%Y%m%d%H%M')\n",
    "        return dt\n",
    "    else:\n",
    "        return None"
   ]
  },
  {
   "cell_type": "code",
   "execution_count": 32,
   "id": "8094fef6-6675-42c9-8321-2485f5f6cc54",
   "metadata": {},
   "outputs": [],
   "source": [
    "# Percorso alla cartella dei frame\n",
    "input_dir = \"./from_gcloud\"  # Cambia questo percorso\n",
    "output_dir = \"./airmassRGB\"  # Percorso per salvare i CSV\n",
    "os.makedirs(output_dir, exist_ok=True)\n",
    "\n",
    "filenames = get_files_from_folder(folder=input_dir, extension=\"png\")\n",
    "\n",
    "file_metadata = []\n",
    "for fname in filenames:\n",
    "    start_dt = extract_dates_pattern_airmass_rgb_20200101_0000(fname.name)\n",
    "    file_metadata.append((fname, start_dt))\n",
    "\n",
    "sorted_files = sorted(file_metadata, key=lambda x: x[1])  # Ordina per start_dt\n",
    "#random_fnames =  [item[0] for item in file_metadata]\n",
    "sorted_filenames = [item[0] for item in sorted_files]\n"
   ]
  },
  {
   "cell_type": "code",
   "execution_count": 10,
   "id": "9486a86a-55c4-404f-9546-8938f2ec7159",
   "metadata": {},
   "outputs": [],
   "source": [
    "#sorted_filenames"
   ]
  },
  {
   "cell_type": "code",
   "execution_count": 19,
   "id": "d9ff287a-f1b5-431f-90e8-76b78d26f533",
   "metadata": {},
   "outputs": [],
   "source": []
  },
  {
   "cell_type": "markdown",
   "id": "12b124df-df14-4119-9eb0-76b106f34036",
   "metadata": {
    "tags": []
   },
   "source": [
    "### copia le immagini in sottocartelle .../partN"
   ]
  },
  {
   "cell_type": "raw",
   "id": "0d7c23c2-b3fd-47de-865e-1e2a8426b44e",
   "metadata": {
    "jupyter": {
     "source_hidden": true
    },
    "tags": []
   },
   "source": [
    "def make_subfolders_info(images, output_dir, num_frames=16):\n",
    "    # SE C'È TEMPO FARE UN REFACTORING\n",
    "    subfolder_info = []\n",
    "    num_total_files = len(images)\n",
    "    num_subfolders = num_total_files // num_frames\n",
    "\n",
    "    for i in range(num_subfolders):\n",
    "        subfolder_name = f\"part{i+1}\"\n",
    "        subfolder_path = os.path.join(output_dir, subfolder_name)\n",
    "        #os.makedirs(subfolder_path, exist_ok=True)\n",
    "\n",
    "        start_idx = i * num_frames\n",
    "        end_idx = start_idx + num_frames\n",
    "\n",
    "        # Copia effettiva dei 16 frame nella sottocartella\n",
    "        for idx, file in enumerate(images[start_idx:end_idx]):\n",
    "            new_name = os.path.join(subfolder_path, f\"img_{idx+1:05d}.png\")\n",
    "            shutil.copy(file, new_name)\n",
    "\n",
    "        # Esempio: estrai la data dal frame centrale\n",
    "        mid_idx = start_idx + num_frames // 2\n",
    "        dt = extract_dates_pattern_airmass_rgb_20200101_0000(images[mid_idx].name)\n",
    "        \n",
    "        # Salviamo in una lista: cartella e data\n",
    "        subfolder_info.append({\"folder\": subfolder_path, \"date\": dt})"
   ]
  },
  {
   "cell_type": "raw",
   "id": "29e13afb-0201-4e1c-a5f7-f75962bdbb9a",
   "metadata": {
    "jupyter": {
     "source_hidden": true
    },
    "tags": []
   },
   "source": [
    "def split_into_subfolders(images, output_dir, num_frames=16):\n",
    "    subfolders = []\n",
    "    num_total_files = len(images)\n",
    "\n",
    "    # Numero di sottocartelle necessarie\n",
    "    num_subfolders = num_total_files // num_frames\n",
    "\n",
    "    for i in range(num_subfolders):\n",
    "        subfolder_name = f\"part{i+1}\"\n",
    "        subfolder_path = os.path.join(output_dir, subfolder_name)\n",
    "        os.makedirs(subfolder_path, exist_ok=True)\n",
    "\n",
    "        # Copia i file nella sottocartella con il nome 'img_{:05}.png'\n",
    "        start_idx = i * num_frames\n",
    "        end_idx = start_idx + num_frames\n",
    "\n",
    "        for idx, file in enumerate(images[start_idx:end_idx]):\n",
    "            new_name = os.path.join(subfolder_path, f\"img_{idx+1:05d}.png\")\n",
    "            shutil.copy(file, new_name)\n",
    "\n",
    "        subfolders.append(subfolder_path)\n",
    "\n",
    "    return subfolders"
   ]
  },
  {
   "cell_type": "code",
   "execution_count": null,
   "id": "a6caff92-8955-4caf-a75b-401da0fb0f55",
   "metadata": {
    "tags": []
   },
   "outputs": [],
   "source": [
    "def split_into_subfolders_and_track_dates(images, output_dir, num_frames=16):    \n",
    "    subfolder_info = []\n",
    "    num_total_files = len(images)\n",
    "    num_subfolders = num_total_files // num_frames\n",
    "\n",
    "    for i in range(num_subfolders):\n",
    "        subfolder_name = f\"part{i+1}\"\n",
    "        subfolder_path = os.path.join(output_dir, subfolder_name)\n",
    "        os.makedirs(subfolder_path, exist_ok=True)\n",
    "\n",
    "        start_idx = i * num_frames\n",
    "        end_idx = start_idx + num_frames\n",
    "\n",
    "        # Copia effettiva dei 16 frame nella sottocartella\n",
    "        for idx, file in enumerate(images[start_idx:end_idx]):\n",
    "            new_name = os.path.join(subfolder_path, f\"img_{idx+1:05d}.png\")\n",
    "            shutil.copy(file, new_name)\n",
    "\n",
    "        # Esempio: estrai la data dal frame centrale\n",
    "        mid_idx = start_idx + num_frames // 2\n",
    "        dt = extract_dates_pattern_airmass_rgb_20200101_0000(images[mid_idx].name)\n",
    "        \n",
    "        # Salviamo in una lista: cartella e data\n",
    "        subfolder_info.append({\"folder\": subfolder_path, \"date\": dt})\n",
    "\n",
    "    return subfolder_info"
   ]
  },
  {
   "cell_type": "code",
   "execution_count": 34,
   "id": "9e33cf69-086b-4152-9405-31382f5bb8c7",
   "metadata": {},
   "outputs": [],
   "source": [
    "#subfolders = split_into_subfolders(sorted_filenames, output_dir)\n",
    "subfolder_info = split_into_subfolders_and_track_dates(sorted_filenames, output_dir)"
   ]
  },
  {
   "cell_type": "code",
   "execution_count": 16,
   "id": "9a318643-7a87-4c4c-96b0-d9252d472439",
   "metadata": {},
   "outputs": [],
   "source": [
    "#subfolder_info"
   ]
  },
  {
   "cell_type": "markdown",
   "id": "9ff96c6b-e42d-475d-9f3b-8957fb8b4d68",
   "metadata": {
    "jp-MarkdownHeadingCollapsed": true,
    "tags": []
   },
   "source": [
    "### Suddivide in train/test/val e scrive i CSV"
   ]
  },
  {
   "cell_type": "code",
   "execution_count": 28,
   "id": "f2a7c434-a123-44be-8904-c9bdb994ac91",
   "metadata": {},
   "outputs": [
    {
     "data": {
      "text/plain": [
       "'E:/Medicanes_Data/airmassRGB'"
      ]
     },
     "execution_count": 28,
     "metadata": {},
     "output_type": "execute_result"
    }
   ],
   "source": [
    "output_dir"
   ]
  },
  {
   "cell_type": "code",
   "execution_count": 30,
   "id": "fcb2f0fa-7076-4f8c-9d23-a7cb56704b33",
   "metadata": {},
   "outputs": [],
   "source": [
    "from build_dataset import create_csv"
   ]
  },
  {
   "cell_type": "code",
   "execution_count": 33,
   "id": "4b61f944-b9c7-48b3-a796-a5426f201ab4",
   "metadata": {},
   "outputs": [
    {
     "name": "stdout",
     "output_type": "stream",
     "text": [
      "File CSV generati:\n",
      "Train: E:/Medicanes_Data/airmassRGB\\train.csv\n",
      "Test: E:/Medicanes_Data/airmassRGB\\test.csv\n",
      "Validation: E:/Medicanes_Data/airmassRGB\\val.csv\n"
     ]
    }
   ],
   "source": [
    "create_csv(output_dir)"
   ]
  },
  {
   "cell_type": "code",
   "execution_count": 29,
   "id": "02bb2c71-19d6-44f2-87b3-eb03a10389a3",
   "metadata": {},
   "outputs": [
    {
     "name": "stdout",
     "output_type": "stream",
     "text": [
      "File CSV generati:\n",
      "Train: E:/Medicanes_Data/airmassRGB\\train.csv\n",
      "Test: E:/Medicanes_Data/airmassRGB\\test.csv\n",
      "Validation: E:/Medicanes_Data/airmassRGB\\val.csv\n"
     ]
    }
   ],
   "source": [
    "total = len(subfolders)\n",
    "train_split = int(total * 0.7)\n",
    "test_split = int(total * 0.99)\n",
    "\n",
    "# per riscrivere i file csv\n",
    "subfolders = sorted([os.path.join(output_dir, d) for d in os.listdir(output_dir) if os.path.isdir(os.path.join(output_dir, d))])\n",
    "\n",
    "\n",
    "train_dirs = subfolders[:train_split]\n",
    "test_dirs = subfolders[train_split:test_split]\n",
    "val_dirs = subfolders[test_split:]\n",
    "\n",
    "# Scrive nei file CSV con il formato richiesto\n",
    "def write_to_csv(dirs, csv_file):\n",
    "    with open(csv_file, 'w', newline='') as csvfile:\n",
    "        writer = csv.writer(csvfile)\n",
    "        writer.writerow([\"path\", \"start\", \"end\"])  # Intestazione\n",
    "        for dir_path in dirs:\n",
    "            writer.writerow([dir_path, 1, 16])  # Riga nel formato richiesto\n",
    "\n",
    "write_to_csv(train_dirs, train_csv)\n",
    "write_to_csv(test_dirs, test_csv)\n",
    "write_to_csv(val_dirs, val_csv)\n",
    "\n",
    "print(f\"File CSV generati:\\nTrain: {train_csv}\\nTest: {test_csv}\\nValidation: {val_csv}\")"
   ]
  },
  {
   "cell_type": "markdown",
   "id": "e22c7ab4-eda7-4f0c-ae6d-feb8f7fae474",
   "metadata": {},
   "source": [
    "# Per il dataset supervisionato"
   ]
  },
  {
   "cell_type": "code",
   "execution_count": 35,
   "id": "25d1bd3b-7565-4893-aa64-801df657f4a9",
   "metadata": {},
   "outputs": [],
   "source": [
    "def create_supervised_csv_from_info(subfolder_info, medicane_csv, out_csv):\n",
    "    import csv\n",
    "    from datetime import datetime\n",
    "    import pandas as pd\n",
    "\n",
    "    # Carica gli intervalli di medicane\n",
    "    intervals = load_medicane_intervals(medicane_csv)\n",
    "\n",
    "\n",
    "    with open(out_csv, 'w', newline='') as f:\n",
    "        writer = csv.writer(f)\n",
    "        writer.writerow([\"path\",\"start\",\"end\",\"label\"])\n",
    "\n",
    "        for item in subfolder_info:\n",
    "            folder_path = item[\"folder\"]\n",
    "            dt = item[\"date\"]\n",
    "            if dt is None:\n",
    "                # Se non riesci a parsare la data, skip o label = -1\n",
    "                continue\n",
    "            label = 1 if is_in_medicane(dt, intervals) else 0\n",
    "            writer.writerow([folder_path, 1, 16, label])\n",
    "\n",
    "    print(f\"Creato CSV supervisionato in: {out_csv}\")\n",
    "\n",
    "\n",
    "\n",
    "def load_medicane_intervals(medicane_csv):\n",
    "    \"\"\"\n",
    "    Legge un file CSV con le date di inizio/fine dei Medicane.\n",
    "    Esempio: col start_date, end_date in formato 'YYYY-MM-DD HH:MM'\n",
    "    \"\"\"\n",
    "    \n",
    "    intervals = []\n",
    "    df = pd.read_csv(medicane_csv)\n",
    "    for _, row in df.iterrows():\n",
    "        start_dt = datetime.strptime(row['Start_Date'], \"%Y-%m-%d\")\n",
    "        end_dt   = datetime.strptime(row['End_Date'],   \"%Y-%m-%d\")\n",
    "        intervals.append((start_dt, end_dt))\n",
    "    return intervals\n",
    "\n",
    "def is_in_medicane(date_to_check, intervals):\n",
    "    return any(start <= date_to_check <= end for (start, end) in intervals)\n"
   ]
  },
  {
   "cell_type": "code",
   "execution_count": 36,
   "id": "4e1a2744-c241-42dd-a5ad-8f7e09be12e1",
   "metadata": {},
   "outputs": [
    {
     "name": "stdout",
     "output_type": "stream",
     "text": [
      "Creato CSV supervisionato in: ./dataset.csv\n"
     ]
    }
   ],
   "source": [
    "folder_root = output_dir      # cartella con subfolder part1, part2 ...\n",
    "medicane_csv = \"./medicane_validi.csv\"    # le date dei medicane\n",
    "out_csv = \"./dataset.csv\"\n",
    "create_supervised_csv_from_info(subfolder_info, medicane_csv, out_csv)"
   ]
  },
  {
   "cell_type": "code",
   "execution_count": null,
   "id": "58476872-bc83-4f02-98f3-ad7d9eb8ce9d",
   "metadata": {},
   "outputs": [],
   "source": []
  },
  {
   "cell_type": "code",
   "execution_count": null,
   "id": "78b19061-bfb6-4d91-adbc-3cef105563aa",
   "metadata": {},
   "outputs": [],
   "source": []
  }
 ],
 "metadata": {
  "kernelspec": {
   "display_name": "Anaconda24 (videomae)",
   "language": "python",
   "name": "videomae"
  },
  "language_info": {
   "codemirror_mode": {
    "name": "ipython",
    "version": 3
   },
   "file_extension": ".py",
   "mimetype": "text/x-python",
   "name": "python",
   "nbconvert_exporter": "python",
   "pygments_lexer": "ipython3",
   "version": "3.10.14"
  }
 },
 "nbformat": 4,
 "nbformat_minor": 5
}
