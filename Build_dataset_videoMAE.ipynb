{
 "cells": [
  {
   "cell_type": "code",
   "execution_count": 23,
   "id": "e3fbe109-7677-4674-b8a1-b786dc214cb6",
   "metadata": {},
   "outputs": [
    {
     "name": "stdout",
     "output_type": "stream",
     "text": [
      "The autoreload extension is already loaded. To reload it, use:\n",
      "  %reload_ext autoreload\n"
     ]
    }
   ],
   "source": [
    "%load_ext autoreload\n",
    "%autoreload 2\n",
    "\n",
    "import os\n",
    "import shutil\n",
    "import csv\n",
    "import re\n",
    "from collections import defaultdict\n",
    "from datetime import datetime\n",
    "\n",
    "import sys\n",
    "sys.path.append(\"./missing_data\")"
   ]
  },
  {
   "cell_type": "code",
   "execution_count": 3,
   "id": "3d5ccc7b-f221-48de-9f96-c03ea01c2f9d",
   "metadata": {},
   "outputs": [],
   "source": [
    "from load_data import get_files_from_folder\n",
    "from data_stats import extract_dates_pattern_airmass_rgb_20200101_0000"
   ]
  },
  {
   "cell_type": "code",
   "execution_count": 18,
   "id": "42c2d53e-c8be-4d88-896e-6c190465a2d1",
   "metadata": {},
   "outputs": [],
   "source": [
    "# Percorso alla cartella dei frame\n",
    "input_dir = \"./download_data/from_gcloud\"  # Cambia questo percorso\n",
    "output_dir = \"E:/Medicanes_Data/airmassRGB\"  # Percorso per salvare i CSV\n",
    "os.makedirs(output_dir, exist_ok=True)"
   ]
  },
  {
   "cell_type": "code",
   "execution_count": 4,
   "id": "396a6432-ecc6-4582-b243-89982cff5fd1",
   "metadata": {},
   "outputs": [],
   "source": [
    "filenames = get_files_from_folder(folder=input_dir, extension=\"png\")"
   ]
  },
  {
   "cell_type": "code",
   "execution_count": 7,
   "id": "6ac736e0-9c52-4ee5-8618-c79e5f08b14c",
   "metadata": {},
   "outputs": [],
   "source": [
    "file_metadata = []\n",
    "for fname in filenames:\n",
    "    start_dt = extract_dates_pattern_airmass_rgb_20200101_0000(fname.name)\n",
    "    file_metadata.append((fname, start_dt))"
   ]
  },
  {
   "cell_type": "code",
   "execution_count": 14,
   "id": "6b0c1c7a-7230-40db-bda5-6301479e4944",
   "metadata": {},
   "outputs": [],
   "source": [
    "sorted_files = sorted(file_metadata, key=lambda x: x[1])  # Ordina per start_dt\n",
    "#random_fnames =  [item[0] for item in file_metadata]\n",
    "sorted_filenames = [item[0] for item in sorted_files]\n"
   ]
  },
  {
   "cell_type": "code",
   "execution_count": 16,
   "id": "9486a86a-55c4-404f-9546-8938f2ec7159",
   "metadata": {},
   "outputs": [],
   "source": [
    "#sorted_filenames"
   ]
  },
  {
   "cell_type": "code",
   "execution_count": 19,
   "id": "d9ff287a-f1b5-431f-90e8-76b78d26f533",
   "metadata": {},
   "outputs": [],
   "source": []
  },
  {
   "cell_type": "markdown",
   "id": "12b124df-df14-4119-9eb0-76b106f34036",
   "metadata": {},
   "source": [
    "### copia le immagini in sottocartelle .../partN"
   ]
  },
  {
   "cell_type": "code",
   "execution_count": 24,
   "id": "9369e798-ae57-4a24-9147-f2a7b10b6536",
   "metadata": {},
   "outputs": [],
   "source": [
    "def split_into_subfolders(images, output_dir, num_frames=16):\n",
    "    subfolders = []\n",
    "    num_total_files = len(images)\n",
    "\n",
    "    # Numero di sottocartelle necessarie\n",
    "    num_subfolders = num_total_files // num_frames\n",
    "\n",
    "    for i in range(num_subfolders):\n",
    "        subfolder_name = f\"part{i+1}\"\n",
    "        subfolder_path = os.path.join(output_dir, subfolder_name)\n",
    "        os.makedirs(subfolder_path, exist_ok=True)\n",
    "\n",
    "        # Copia i file nella sottocartella con il nome 'img_{:05}.png'\n",
    "        start_idx = i * num_frames\n",
    "        end_idx = start_idx + num_frames\n",
    "\n",
    "        for idx, file in enumerate(images[start_idx:end_idx]):\n",
    "            new_name = os.path.join(subfolder_path, f\"img_{idx+1:05d}.png\")\n",
    "            shutil.copy(file, new_name)\n",
    "\n",
    "        subfolders.append(subfolder_path)\n",
    "\n",
    "    return subfolders"
   ]
  },
  {
   "cell_type": "code",
   "execution_count": 25,
   "id": "9e33cf69-086b-4152-9405-31382f5bb8c7",
   "metadata": {},
   "outputs": [],
   "source": [
    "subfolders = split_into_subfolders(sorted_filenames, output_dir)"
   ]
  },
  {
   "cell_type": "markdown",
   "id": "9ff96c6b-e42d-475d-9f3b-8957fb8b4d68",
   "metadata": {},
   "source": [
    "### Suddivide in train/test/val e scrive i CSV"
   ]
  },
  {
   "cell_type": "code",
   "execution_count": 28,
   "id": "f2a7c434-a123-44be-8904-c9bdb994ac91",
   "metadata": {},
   "outputs": [
    {
     "data": {
      "text/plain": [
       "'E:/Medicanes_Data/airmassRGB'"
      ]
     },
     "execution_count": 28,
     "metadata": {},
     "output_type": "execute_result"
    }
   ],
   "source": [
    "output_dir"
   ]
  },
  {
   "cell_type": "code",
   "execution_count": 30,
   "id": "fcb2f0fa-7076-4f8c-9d23-a7cb56704b33",
   "metadata": {},
   "outputs": [],
   "source": [
    "from build_dataset import create_csv"
   ]
  },
  {
   "cell_type": "code",
   "execution_count": 33,
   "id": "4b61f944-b9c7-48b3-a796-a5426f201ab4",
   "metadata": {},
   "outputs": [
    {
     "name": "stdout",
     "output_type": "stream",
     "text": [
      "File CSV generati:\n",
      "Train: E:/Medicanes_Data/airmassRGB\\train.csv\n",
      "Test: E:/Medicanes_Data/airmassRGB\\test.csv\n",
      "Validation: E:/Medicanes_Data/airmassRGB\\val.csv\n"
     ]
    }
   ],
   "source": [
    "create_csv(output_dir)"
   ]
  },
  {
   "cell_type": "code",
   "execution_count": 29,
   "id": "02bb2c71-19d6-44f2-87b3-eb03a10389a3",
   "metadata": {},
   "outputs": [
    {
     "name": "stdout",
     "output_type": "stream",
     "text": [
      "File CSV generati:\n",
      "Train: E:/Medicanes_Data/airmassRGB\\train.csv\n",
      "Test: E:/Medicanes_Data/airmassRGB\\test.csv\n",
      "Validation: E:/Medicanes_Data/airmassRGB\\val.csv\n"
     ]
    }
   ],
   "source": [
    "total = len(subfolders)\n",
    "train_split = int(total * 0.7)\n",
    "test_split = int(total * 0.99)\n",
    "\n",
    "# per riscrivere i file csv\n",
    "subfolders = sorted([os.path.join(output_dir, d) for d in os.listdir(output_dir) if os.path.isdir(os.path.join(output_dir, d))])\n",
    "\n",
    "\n",
    "train_dirs = subfolders[:train_split]\n",
    "test_dirs = subfolders[train_split:test_split]\n",
    "val_dirs = subfolders[test_split:]\n",
    "\n",
    "# Scrive nei file CSV con il formato richiesto\n",
    "def write_to_csv(dirs, csv_file):\n",
    "    with open(csv_file, 'w', newline='') as csvfile:\n",
    "        writer = csv.writer(csvfile)\n",
    "        writer.writerow([\"path\", \"start\", \"end\"])  # Intestazione\n",
    "        for dir_path in dirs:\n",
    "            writer.writerow([dir_path, 1, 16])  # Riga nel formato richiesto\n",
    "\n",
    "write_to_csv(train_dirs, train_csv)\n",
    "write_to_csv(test_dirs, test_csv)\n",
    "write_to_csv(val_dirs, val_csv)\n",
    "\n",
    "print(f\"File CSV generati:\\nTrain: {train_csv}\\nTest: {test_csv}\\nValidation: {val_csv}\")"
   ]
  },
  {
   "cell_type": "code",
   "execution_count": null,
   "id": "ba6bba93-d4ba-479f-a53c-9191ab8dac4b",
   "metadata": {},
   "outputs": [],
   "source": []
  }
 ],
 "metadata": {
  "kernelspec": {
   "display_name": "Python geo_env",
   "language": "python",
   "name": "geo_env"
  },
  "language_info": {
   "codemirror_mode": {
    "name": "ipython",
    "version": 3
   },
   "file_extension": ".py",
   "mimetype": "text/x-python",
   "name": "python",
   "nbconvert_exporter": "python",
   "pygments_lexer": "ipython3",
   "version": "3.10.6"
  }
 },
 "nbformat": 4,
 "nbformat_minor": 5
}
