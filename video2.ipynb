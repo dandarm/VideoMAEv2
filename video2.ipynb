{
 "cells": [
  {
   "cell_type": "code",
   "execution_count": 1,
   "id": "8e4f72e4-31a1-4f33-a5c1-3ebef3df5789",
   "metadata": {},
   "outputs": [
    {
     "data": {
      "application/vnd.jupyter.widget-view+json": {
       "model_id": "acbf91bec81846918a7ba38601ac32ef",
       "version_major": 2,
       "version_minor": 0
      },
      "text/plain": [
       "IntSlider(value=0)"
      ]
     },
     "execution_count": 1,
     "metadata": {},
     "output_type": "execute_result"
    }
   ],
   "source": [
    "import ipywidgets as wd\n",
    "wd.IntSlider()\n"
   ]
  },
  {
   "cell_type": "code",
   "execution_count": 2,
   "id": "fa472611-a778-45d0-a16a-60e227c48611",
   "metadata": {},
   "outputs": [
    {
     "name": "stdout",
     "output_type": "stream",
     "text": [
      "DEBUG — URL al browser: /files/VideoMAEv2/ciclone7001358.mp4\n"
     ]
    }
   ],
   "source": [
    "# --- 1. Librerie ---------------------------------------------\n",
    "from pathlib import Path, PurePosixPath\n",
    "import os\n",
    "from PIL import Image\n",
    "from io import BytesIO\n",
    "import ipywidgets as widgets\n",
    "from IPython.display import HTML, display\n",
    "import uuid, ipywidgets as widgets\n",
    "import ipywidgets as w, uuid, pathlib\n",
    "from IPython.display import HTML, display\n",
    "\n",
    "\n",
    "frames_dir = Path(\"./anim_frames_7001358\")\n",
    "frame_paths = sorted(frames_dir.glob(\"*.png\"))    \n",
    "\n",
    "video_path = \"ciclone7001358.mp4\" \n",
    "\n",
    "\n",
    "abs_path   = Path(video_path).resolve() # /media/isacDisk1/VideoMAEv2/ciclone7001358.mp4\n",
    "server_root = Path(os.environ.get(\"PWD\", \".\")).resolve()   # dove hai lanciato Jupyter\n",
    "rel_path   = abs_path.relative_to(server_root)             # media/isacDisk1/VideoMAEv2/...\n",
    "src_url    = f\"/files/{PurePosixPath(rel_path).as_posix()}\"  # /files/media/...\n",
    "\n",
    "print(\"DEBUG — URL al browser:\", src_url)    # verifica"
   ]
  },
  {
   "cell_type": "code",
   "execution_count": 3,
   "id": "bc12b3a5-8036-491c-a405-9ca1bc08b3df",
   "metadata": {
    "jupyter": {
     "source_hidden": true
    }
   },
   "outputs": [
    {
     "data": {
      "text/html": [
       "\n",
       "<video id=\"vid_46ec44\" width=\"720\" controls src=\"/files/VideoMAEv2/ciclone7001358.mp4\"></video><br>\n",
       "<button id=\"b1_8a3767\">Segna&nbsp;INIZIO</button>\n",
       "<button id=\"b2_6ba86a\">Segna&nbsp;FINE</button>\n",
       "\n",
       "<script>\n",
       "// attende che window.require sia caricato (lo porta JupyterLab stesso)\n",
       "(function waitRequire(cb){\n",
       "  if (window.require) return cb();\n",
       "  setTimeout(()=>waitRequire(cb), 50);\n",
       "})(function(){\n",
       "  window.require(['@jupyter-widgets/base'], function(widgets){\n",
       "      const mgr = [...widgets.ManagerBase._managers][0];\n",
       "      const vid = document.getElementById('vid_46ec44');\n",
       "      document.getElementById('b1_8a3767').onclick = () => {\n",
       "          mgr.get_model('39be0f09068f400d9ba20b58d92c78fa').then(m=>{m.set('value',vid.currentTime);\n",
       "          console.log(\"scritto\", vid.currentTime, \"nel widget\");\n",
       "          m.save_changes();});\n",
       "      };\n",
       "      document.getElementById('b2_6ba86a').onclick = () => {\n",
       "          mgr.get_model('51f64be67ce9450baa815e9ad7d9127c').then(m=>{m.set('value',vid.currentTime);m.save_changes();});\n",
       "      };\n",
       "  });\n",
       "});\n",
       "</script>\n"
      ],
      "text/plain": [
       "<IPython.core.display.HTML object>"
      ]
     },
     "metadata": {},
     "output_type": "display_data"
    },
    {
     "data": {
      "application/vnd.jupyter.widget-view+json": {
       "model_id": "39be0f09068f400d9ba20b58d92c78fa",
       "version_major": 2,
       "version_minor": 0
      },
      "text/plain": [
       "FloatText(value=0.0, description='INIZIO', disabled=True)"
      ]
     },
     "metadata": {},
     "output_type": "display_data"
    },
    {
     "data": {
      "application/vnd.jupyter.widget-view+json": {
       "model_id": "51f64be67ce9450baa815e9ad7d9127c",
       "version_major": 2,
       "version_minor": 0
      },
      "text/plain": [
       "FloatText(value=0.0, description='FINE', disabled=True)"
      ]
     },
     "metadata": {},
     "output_type": "display_data"
    }
   ],
   "source": [
    "# ── 2. widget Python che conterranno i timestamp ───────────────\n",
    "t_in  = wd.FloatText(description=\"INIZIO\", disabled=True)\n",
    "t_out = wd.FloatText(description=\"FINE\",   disabled=True)\n",
    "\n",
    "# ── 3. id HTML univoci ─────────────────────────────────────────\n",
    "vid_id, b1_id, b2_id = [f\"{p}_{uuid.uuid4().hex[:6]}\" for p in (\"vid\",\"b1\",\"b2\")]\n",
    "\n",
    "# ── 4. HTML + ponte JS basato su window.require ────────────────\n",
    "html = f\"\"\"\n",
    "<video id=\"{vid_id}\" width=\"720\" controls src=\"{src_url}\"></video><br>\n",
    "<button id=\"{b1_id}\">Segna&nbsp;INIZIO</button>\n",
    "<button id=\"{b2_id}\">Segna&nbsp;FINE</button>\n",
    "\n",
    "<script>\n",
    "// attende che window.require sia caricato (lo porta JupyterLab stesso)\n",
    "(function waitRequire(cb){{\n",
    "  if (window.require) return cb();\n",
    "  setTimeout(()=>waitRequire(cb), 50);\n",
    "}})(function(){{\n",
    "  window.require(['@jupyter-widgets/base'], function(widgets){{\n",
    "      const mgr = [...widgets.ManagerBase._managers][0];\n",
    "      const vid = document.getElementById('{vid_id}');\n",
    "      document.getElementById('{b1_id}').onclick = () => {{\n",
    "          mgr.get_model('{t_in.model_id}').then(m=>{{m.set('value',vid.currentTime);\n",
    "          console.log(\"scritto\", vid.currentTime, \"nel widget\");\n",
    "          m.save_changes();}});\n",
    "      }};\n",
    "      document.getElementById('{b2_id}').onclick = () => {{\n",
    "          mgr.get_model('{t_out.model_id}').then(m=>{{m.set('value',vid.currentTime);m.save_changes();}});\n",
    "      }};\n",
    "  }});\n",
    "}});\n",
    "</script>\n",
    "\"\"\"\n",
    "\n",
    "display(HTML(html))\n",
    "display(t_in, t_out)\n"
   ]
  },
  {
   "cell_type": "code",
   "execution_count": 4,
   "id": "91771f6b-e123-4f10-b62c-5d5f8934e67f",
   "metadata": {},
   "outputs": [
    {
     "name": "stdout",
     "output_type": "stream",
     "text": [
      "0.0 0.0\n"
     ]
    }
   ],
   "source": [
    "print(t_in.value, t_out.value)\n"
   ]
  },
  {
   "cell_type": "code",
   "execution_count": 3,
   "id": "20dcdf42-0dde-4671-9a64-484fd647febb",
   "metadata": {},
   "outputs": [
    {
     "data": {
      "text/html": [
       "\n",
       "<video id=\"vid_249b15\" width=\"720\" controls src=\"/files/VideoMAEv2/ciclone7001358.mp4\"></video><br>\n",
       "<button id=\"bin_58390a\">Segna INIZIO</button>\n",
       "<button id=\"bout_1f254e\">Segna FINE</button>\n",
       "\n",
       "<script>\n",
       "/* 1️⃣  aspetta che la funzione require() sia disponibile nell’output */\n",
       "(function wait(cb){\n",
       "  if (window.require) cb();\n",
       "  else setTimeout(()=>wait(cb), 50);\n",
       "})(function(){\n",
       "  /* 2️⃣  carica @jupyter-widgets/base **nella stessa versione del manager**\n",
       "         (5.0.15, la stessa che hai in labextension list)                 */\n",
       "  require(['@jupyter-widgets/base'], function(widgets){\n",
       "      const mgr = [...widgets.ManagerBase._managers][0];   // ora esiste\n",
       "      const vid = document.getElementById('vid_249b15');\n",
       "\n",
       "      const setValue = (modelId, label) => {\n",
       "        mgr.get_model(modelId).then(m => {\n",
       "            const t = +vid.currentTime.toFixed(3);\n",
       "            m.set('value', t); m.save_changes();\n",
       "            console.log(label, t);          // LOG in console\n",
       "        });\n",
       "      };\n",
       "\n",
       "      document.getElementById('bin_58390a') .onclick = () => setValue('437a482622b24e9ca46e32644b2aa984',  '⟲ INIZIO');\n",
       "      document.getElementById('bout_1f254e').onclick = () => setValue('43e4e8fba6a445c8ac823e519e7dc2de', '⟳ FINE');\n",
       "  });\n",
       "});\n",
       "</script>\n"
      ],
      "text/plain": [
       "<IPython.core.display.HTML object>"
      ]
     },
     "metadata": {},
     "output_type": "display_data"
    },
    {
     "data": {
      "application/vnd.jupyter.widget-view+json": {
       "model_id": "437a482622b24e9ca46e32644b2aa984",
       "version_major": 2,
       "version_minor": 0
      },
      "text/plain": [
       "FloatText(value=0.0, description='INIZIO', disabled=True)"
      ]
     },
     "metadata": {},
     "output_type": "display_data"
    },
    {
     "data": {
      "application/vnd.jupyter.widget-view+json": {
       "model_id": "43e4e8fba6a445c8ac823e519e7dc2de",
       "version_major": 2,
       "version_minor": 0
      },
      "text/plain": [
       "FloatText(value=0.0, description='FINE', disabled=True)"
      ]
     },
     "metadata": {},
     "output_type": "display_data"
    }
   ],
   "source": [
    "\n",
    "\n",
    "# ── widget Python per inizio / fine (readonly lato utente) ───────────────────\n",
    "t_in  = wd.FloatText(description=\"INIZIO\", disabled=True)\n",
    "t_out = wd.FloatText(description=\"FINE\",   disabled=True)\n",
    "\n",
    "# ── id univoci per video e pulsanti ───────────────────────────────────────────\n",
    "vid_id, b_in, b_out = [f\"{p}_{uuid.uuid4().hex[:6]}\" for p in (\"vid\",\"bin\",\"bout\")]\n",
    "\n",
    "html = f\"\"\"\n",
    "<video id=\"{vid_id}\" width=\"720\" controls src=\"{src_url}\"></video><br>\n",
    "<button id=\"{b_in}\">Segna INIZIO</button>\n",
    "<button id=\"{b_out}\">Segna FINE</button>\n",
    "\n",
    "<script>\n",
    "/* 1️⃣  aspetta che la funzione require() sia disponibile nell’output */\n",
    "(function wait(cb){{\n",
    "  if (window.require) cb();\n",
    "  else setTimeout(()=>wait(cb), 50);\n",
    "}})(function(){{\n",
    "  /* 2️⃣  carica @jupyter-widgets/base **nella stessa versione del manager**\n",
    "         (5.0.15, la stessa che hai in labextension list)                 */\n",
    "  require(['@jupyter-widgets/base'], function(widgets){{\n",
    "      const mgr = [...widgets.ManagerBase._managers][0];   // ora esiste\n",
    "      const vid = document.getElementById('{vid_id}');\n",
    "\n",
    "      const setValue = (modelId, label) => {{\n",
    "        mgr.get_model(modelId).then(m => {{\n",
    "            const t = +vid.currentTime.toFixed(3);\n",
    "            m.set('value', t); m.save_changes();\n",
    "            console.log(label, t);          // LOG in console\n",
    "        }});\n",
    "      }};\n",
    "\n",
    "      document.getElementById('{b_in}') .onclick = () => setValue('{t_in.model_id}',  '⟲ INIZIO');\n",
    "      document.getElementById('{b_out}').onclick = () => setValue('{t_out.model_id}', '⟳ FINE');\n",
    "  }});\n",
    "}});\n",
    "</script>\n",
    "\"\"\"\n",
    "\n",
    "display(HTML(html))\n",
    "display(t_in, t_out)\n"
   ]
  },
  {
   "cell_type": "code",
   "execution_count": null,
   "id": "f2b38fba-0b09-46b6-8cdd-d6417334ed02",
   "metadata": {},
   "outputs": [],
   "source": []
  }
 ],
 "metadata": {
  "kernelspec": {
   "display_name": "Python VIDEOMAE",
   "language": "python",
   "name": "videomae"
  },
  "language_info": {
   "codemirror_mode": {
    "name": "ipython",
    "version": 3
   },
   "file_extension": ".py",
   "mimetype": "text/x-python",
   "name": "python",
   "nbconvert_exporter": "python",
   "pygments_lexer": "ipython3",
   "version": "3.9.21"
  }
 },
 "nbformat": 4,
 "nbformat_minor": 5
}
