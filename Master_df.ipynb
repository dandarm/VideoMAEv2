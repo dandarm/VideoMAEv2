{
 "cells": [
  {
   "cell_type": "markdown",
   "id": "5cf4fc1e",
   "metadata": {},
   "source": [
    "# Master Dataframe building"
   ]
  },
  {
   "cell_type": "code",
   "execution_count": 1,
   "id": "e706f853",
   "metadata": {},
   "outputs": [
    {
     "name": "stderr",
     "output_type": "stream",
     "text": [
      "/home/isac/miniconda3/envs/videomae/lib/python3.9/site-packages/tqdm/auto.py:21: TqdmWarning: IProgress not found. Please update jupyter and ipywidgets. See https://ipywidgets.readthedocs.io/en/stable/user_install.html\n",
      "  from .autonotebook import tqdm as notebook_tqdm\n"
     ]
    }
   ],
   "source": [
    "import pandas as pd\n",
    "\n",
    "from medicane_utils.load_files import  load_all_images, get_files_from_folder, extract_dates_pattern_airmass_rgb_20200101_0000    #load_cyclones_track_noheader,\n",
    "from dataset.build_dataset import labeled_tiles_from_metadatafiles, calc_tile_offsets, make_master_df\n",
    "\n",
    "#input_dir = r\"E:\\Medicanes_Data\\from_gcloud\"\n",
    "input_dir = \"../fromgcloud\""
   ]
  },
  {
   "cell_type": "code",
   "execution_count": 2,
   "id": "c3d60a00",
   "metadata": {},
   "outputs": [
    {
     "name": "stdout",
     "output_type": "stream",
     "text": [
      "117764 files loaded.\n"
     ]
    }
   ],
   "source": [
    "#tracks_df_MED = pd.read_csv(\"manos_allCL_pixel.csv\", parse_dates=['time', 'start_time', 'end_time'])\n",
    "\n",
    "tracks_df_MED_CL7 = pd.read_csv(\"manos_CL7_pixel.csv\", parse_dates=['time', 'start_time', 'end_time'])\n",
    "\n",
    "sorted_metadata_files = load_all_images(input_dir)\n",
    "\n",
    "#metadata_2020 = [m for m in sorted_metadata_files if m[1] >= datetime(2020, 1, 1) and m[1] <= datetime(2020, 12, 31, 23, 59)]\n",
    "#len(metadata_2020)"
   ]
  },
  {
   "cell_type": "code",
   "execution_count": 3,
   "id": "10da9238",
   "metadata": {},
   "outputs": [
    {
     "data": {
      "text/plain": [
       "id_cyc_unico             int64\n",
       "start_time      datetime64[ns]\n",
       "end_time        datetime64[ns]\n",
       "lat                    float64\n",
       "lon                    float64\n",
       "time            datetime64[ns]\n",
       "source                  object\n",
       "x_pix                    int64\n",
       "y_pix                    int64\n",
       "dtype: object"
      ]
     },
     "execution_count": 3,
     "metadata": {},
     "output_type": "execute_result"
    }
   ],
   "source": [
    "tracks_df_MED_CL7.dtypes"
   ]
  },
  {
   "cell_type": "code",
   "execution_count": null,
   "id": "7aec5ca5",
   "metadata": {},
   "outputs": [],
   "source": [
    "########################################### vecchia funzione: riverificare quando c'è tempo\n",
    "#df_data = make_master_df(sorted_metadata_files, tracks_df_MED)\n",
    "#df_data.shape[0]"
   ]
  },
  {
   "cell_type": "code",
   "execution_count": 5,
   "id": "61027b09",
   "metadata": {},
   "outputs": [],
   "source": [
    "from dataset.build_dataset import labeled_tiles_from_metadatafiles_maxfast"
   ]
  },
  {
   "cell_type": "code",
   "execution_count": null,
   "id": "6d03e750",
   "metadata": {},
   "outputs": [],
   "source": [
    "offsets_for_frame = calc_tile_offsets(stride_x=213, stride_y=196)\n"
   ]
  },
  {
   "cell_type": "code",
   "execution_count": 30,
   "id": "e4e42a42",
   "metadata": {},
   "outputs": [],
   "source": [
    "#df_data = labeled_tiles_from_metadatafiles_maxfast(sorted_metadata_files, tracks_df_MED, offsets_for_frame)\n",
    "########### CLASSE 7\n",
    "df_data_CL7 = labeled_tiles_from_metadatafiles_maxfast(sorted_metadata_files, tracks_df_MED_CL7, offsets_for_frame)"
   ]
  },
  {
   "cell_type": "code",
   "execution_count": 19,
   "id": "a72d2a80",
   "metadata": {},
   "outputs": [],
   "source": [
    "#(df_data[['path','datetime','tile_offset_x','tile_offset_y','x_pix','y_pix','source','id_cyc_unico','label']] == res2).sum()\n",
    "#m = df_data['x_pix'] == res2['x_pix']"
   ]
  },
  {
   "cell_type": "code",
   "execution_count": 31,
   "id": "ca4bd438",
   "metadata": {},
   "outputs": [
    {
     "data": {
      "text/plain": [
       "path             string[python]\n",
       "datetime         datetime64[ns]\n",
       "tile_offset_x             int16\n",
       "tile_offset_y             int16\n",
       "x_pix                    object\n",
       "y_pix                    object\n",
       "source           string[python]\n",
       "id_cyc_unico              int32\n",
       "start_time       datetime64[ns]\n",
       "end_time         datetime64[ns]\n",
       "label                      int8\n",
       "dtype: object"
      ]
     },
     "execution_count": 31,
     "metadata": {},
     "output_type": "execute_result"
    }
   ],
   "source": [
    "df_data_CL7.dtypes"
   ]
  },
  {
   "cell_type": "code",
   "execution_count": 32,
   "id": "e8802a44",
   "metadata": {},
   "outputs": [],
   "source": [
    "#df_data.to_csv(\"all_data_all_methods_tracks_complete_fast.csv\", date_format=\"%Y-%m-%d %H:%M\")\n",
    "\n",
    "####CLASSE 7\n",
    "df_data_CL7.to_csv(\"all_data_CL7_tracks_complete_fast.csv\", date_format=\"%Y-%m-%d %H:%M\")"
   ]
  },
  {
   "cell_type": "code",
   "execution_count": 9,
   "id": "fc445a8a",
   "metadata": {},
   "outputs": [
    {
     "data": {
      "text/html": [
       "<div>\n",
       "<style scoped>\n",
       "    .dataframe tbody tr th:only-of-type {\n",
       "        vertical-align: middle;\n",
       "    }\n",
       "\n",
       "    .dataframe tbody tr th {\n",
       "        vertical-align: top;\n",
       "    }\n",
       "\n",
       "    .dataframe thead th {\n",
       "        text-align: right;\n",
       "    }\n",
       "</style>\n",
       "<table border=\"1\" class=\"dataframe\">\n",
       "  <thead>\n",
       "    <tr style=\"text-align: right;\">\n",
       "      <th></th>\n",
       "      <th>path</th>\n",
       "      <th>datetime</th>\n",
       "      <th>tile_offset_x</th>\n",
       "      <th>tile_offset_y</th>\n",
       "      <th>x_pix</th>\n",
       "      <th>y_pix</th>\n",
       "      <th>source</th>\n",
       "      <th>id_cyc_unico</th>\n",
       "      <th>label</th>\n",
       "    </tr>\n",
       "  </thead>\n",
       "  <tbody>\n",
       "    <tr>\n",
       "      <th>4475</th>\n",
       "      <td>../fromgcloud/airmass_rgb_20111102_0700.png</td>\n",
       "      <td>2011-11-02 07:00:00</td>\n",
       "      <td>1065</td>\n",
       "      <td>196</td>\n",
       "      <td>[1131.0, 1131.0]</td>\n",
       "      <td>[236.0, 236.0]</td>\n",
       "      <td>['CL2', 'CL3']</td>\n",
       "      <td>2009824</td>\n",
       "      <td>1</td>\n",
       "    </tr>\n",
       "    <tr>\n",
       "      <th>4487</th>\n",
       "      <td>../fromgcloud/airmass_rgb_20111102_0705.png</td>\n",
       "      <td>2011-11-02 07:05:00</td>\n",
       "      <td>1065</td>\n",
       "      <td>196</td>\n",
       "      <td>[1131.0, 1131.0]</td>\n",
       "      <td>[236.0, 236.0]</td>\n",
       "      <td>['CL2', 'CL3']</td>\n",
       "      <td>2009824</td>\n",
       "      <td>1</td>\n",
       "    </tr>\n",
       "    <tr>\n",
       "      <th>4499</th>\n",
       "      <td>../fromgcloud/airmass_rgb_20111102_0710.png</td>\n",
       "      <td>2011-11-02 07:10:00</td>\n",
       "      <td>1065</td>\n",
       "      <td>196</td>\n",
       "      <td>[1131.0, 1131.0]</td>\n",
       "      <td>[236.0, 236.0]</td>\n",
       "      <td>['CL2', 'CL3']</td>\n",
       "      <td>2009824</td>\n",
       "      <td>1</td>\n",
       "    </tr>\n",
       "    <tr>\n",
       "      <th>4511</th>\n",
       "      <td>../fromgcloud/airmass_rgb_20111102_0715.png</td>\n",
       "      <td>2011-11-02 07:15:00</td>\n",
       "      <td>1065</td>\n",
       "      <td>196</td>\n",
       "      <td>[1131.0, 1131.0]</td>\n",
       "      <td>[236.0, 236.0]</td>\n",
       "      <td>['CL2', 'CL3']</td>\n",
       "      <td>2009824</td>\n",
       "      <td>1</td>\n",
       "    </tr>\n",
       "    <tr>\n",
       "      <th>4523</th>\n",
       "      <td>../fromgcloud/airmass_rgb_20111102_0720.png</td>\n",
       "      <td>2011-11-02 07:20:00</td>\n",
       "      <td>1065</td>\n",
       "      <td>196</td>\n",
       "      <td>[1131.0, 1131.0]</td>\n",
       "      <td>[236.0, 236.0]</td>\n",
       "      <td>['CL2', 'CL3']</td>\n",
       "      <td>2009824</td>\n",
       "      <td>1</td>\n",
       "    </tr>\n",
       "    <tr>\n",
       "      <th>...</th>\n",
       "      <td>...</td>\n",
       "      <td>...</td>\n",
       "      <td>...</td>\n",
       "      <td>...</td>\n",
       "      <td>...</td>\n",
       "      <td>...</td>\n",
       "      <td>...</td>\n",
       "      <td>...</td>\n",
       "      <td>...</td>\n",
       "    </tr>\n",
       "    <tr>\n",
       "      <th>1308315</th>\n",
       "      <td>../fromgcloud/airmass_rgb_20201228_2035.png</td>\n",
       "      <td>2020-12-28 20:35:00</td>\n",
       "      <td>639</td>\n",
       "      <td>0</td>\n",
       "      <td>[660.0]</td>\n",
       "      <td>[15.0]</td>\n",
       "      <td>['CL2']</td>\n",
       "      <td>2012723</td>\n",
       "      <td>1</td>\n",
       "    </tr>\n",
       "    <tr>\n",
       "      <th>1308327</th>\n",
       "      <td>../fromgcloud/airmass_rgb_20201228_2040.png</td>\n",
       "      <td>2020-12-28 20:40:00</td>\n",
       "      <td>639</td>\n",
       "      <td>0</td>\n",
       "      <td>[660.0]</td>\n",
       "      <td>[15.0]</td>\n",
       "      <td>['CL2']</td>\n",
       "      <td>2012723</td>\n",
       "      <td>1</td>\n",
       "    </tr>\n",
       "    <tr>\n",
       "      <th>1308339</th>\n",
       "      <td>../fromgcloud/airmass_rgb_20201228_2045.png</td>\n",
       "      <td>2020-12-28 20:45:00</td>\n",
       "      <td>639</td>\n",
       "      <td>0</td>\n",
       "      <td>[660.0]</td>\n",
       "      <td>[15.0]</td>\n",
       "      <td>['CL2']</td>\n",
       "      <td>2012723</td>\n",
       "      <td>1</td>\n",
       "    </tr>\n",
       "    <tr>\n",
       "      <th>1308351</th>\n",
       "      <td>../fromgcloud/airmass_rgb_20201228_2050.png</td>\n",
       "      <td>2020-12-28 20:50:00</td>\n",
       "      <td>639</td>\n",
       "      <td>0</td>\n",
       "      <td>[660.0]</td>\n",
       "      <td>[15.0]</td>\n",
       "      <td>['CL2']</td>\n",
       "      <td>2012723</td>\n",
       "      <td>1</td>\n",
       "    </tr>\n",
       "    <tr>\n",
       "      <th>1308363</th>\n",
       "      <td>../fromgcloud/airmass_rgb_20201228_2055.png</td>\n",
       "      <td>2020-12-28 20:55:00</td>\n",
       "      <td>639</td>\n",
       "      <td>0</td>\n",
       "      <td>[660.0]</td>\n",
       "      <td>[15.0]</td>\n",
       "      <td>['CL2']</td>\n",
       "      <td>2012723</td>\n",
       "      <td>1</td>\n",
       "    </tr>\n",
       "  </tbody>\n",
       "</table>\n",
       "<p>117252 rows × 9 columns</p>\n",
       "</div>"
      ],
      "text/plain": [
       "                                                path            datetime  \\\n",
       "4475     ../fromgcloud/airmass_rgb_20111102_0700.png 2011-11-02 07:00:00   \n",
       "4487     ../fromgcloud/airmass_rgb_20111102_0705.png 2011-11-02 07:05:00   \n",
       "4499     ../fromgcloud/airmass_rgb_20111102_0710.png 2011-11-02 07:10:00   \n",
       "4511     ../fromgcloud/airmass_rgb_20111102_0715.png 2011-11-02 07:15:00   \n",
       "4523     ../fromgcloud/airmass_rgb_20111102_0720.png 2011-11-02 07:20:00   \n",
       "...                                              ...                 ...   \n",
       "1308315  ../fromgcloud/airmass_rgb_20201228_2035.png 2020-12-28 20:35:00   \n",
       "1308327  ../fromgcloud/airmass_rgb_20201228_2040.png 2020-12-28 20:40:00   \n",
       "1308339  ../fromgcloud/airmass_rgb_20201228_2045.png 2020-12-28 20:45:00   \n",
       "1308351  ../fromgcloud/airmass_rgb_20201228_2050.png 2020-12-28 20:50:00   \n",
       "1308363  ../fromgcloud/airmass_rgb_20201228_2055.png 2020-12-28 20:55:00   \n",
       "\n",
       "         tile_offset_x  tile_offset_y             x_pix           y_pix  \\\n",
       "4475              1065            196  [1131.0, 1131.0]  [236.0, 236.0]   \n",
       "4487              1065            196  [1131.0, 1131.0]  [236.0, 236.0]   \n",
       "4499              1065            196  [1131.0, 1131.0]  [236.0, 236.0]   \n",
       "4511              1065            196  [1131.0, 1131.0]  [236.0, 236.0]   \n",
       "4523              1065            196  [1131.0, 1131.0]  [236.0, 236.0]   \n",
       "...                ...            ...               ...             ...   \n",
       "1308315            639              0           [660.0]          [15.0]   \n",
       "1308327            639              0           [660.0]          [15.0]   \n",
       "1308339            639              0           [660.0]          [15.0]   \n",
       "1308351            639              0           [660.0]          [15.0]   \n",
       "1308363            639              0           [660.0]          [15.0]   \n",
       "\n",
       "                 source  id_cyc_unico  label  \n",
       "4475     ['CL2', 'CL3']       2009824      1  \n",
       "4487     ['CL2', 'CL3']       2009824      1  \n",
       "4499     ['CL2', 'CL3']       2009824      1  \n",
       "4511     ['CL2', 'CL3']       2009824      1  \n",
       "4523     ['CL2', 'CL3']       2009824      1  \n",
       "...                 ...           ...    ...  \n",
       "1308315         ['CL2']       2012723      1  \n",
       "1308327         ['CL2']       2012723      1  \n",
       "1308339         ['CL2']       2012723      1  \n",
       "1308351         ['CL2']       2012723      1  \n",
       "1308363         ['CL2']       2012723      1  \n",
       "\n",
       "[117252 rows x 9 columns]"
      ]
     },
     "execution_count": 9,
     "metadata": {},
     "output_type": "execute_result"
    }
   ],
   "source": [
    "# tutte le immagini con cicloni\n",
    "df_data[df_data.x_pix.apply(lambda x: len(x)>0)]"
   ]
  },
  {
   "cell_type": "code",
   "execution_count": 13,
   "id": "98190552",
   "metadata": {},
   "outputs": [
    {
     "data": {
      "text/plain": [
       "0.08297102679936144"
      ]
     },
     "execution_count": 13,
     "metadata": {},
     "output_type": "execute_result"
    }
   ],
   "source": [
    "df_data.label.sum()/df_data.shape[0]"
   ]
  },
  {
   "cell_type": "code",
   "execution_count": 10,
   "id": "bf362052",
   "metadata": {},
   "outputs": [
    {
     "data": {
      "text/plain": [
       "array([   0,  213,  426,  639,  852, 1065], dtype=int16)"
      ]
     },
     "execution_count": 10,
     "metadata": {},
     "output_type": "execute_result"
    }
   ],
   "source": [
    "df_data.tile_offset_x.unique()"
   ]
  },
  {
   "cell_type": "code",
   "execution_count": 11,
   "id": "bc3023bf",
   "metadata": {},
   "outputs": [
    {
     "data": {
      "text/plain": [
       "<StringArray>\n",
       "[                                                                            '[]',\n",
       "                                                                 \"['CL2', 'CL3']\",\n",
       "                       \"['CL2', 'CL3', 'CL4', 'CL5', 'CL6', 'CL7', 'CL8', 'CL9']\",\n",
       "                                     \"['CL2', 'CL3', 'CL4', 'CL5', 'CL6', 'CL7']\",\n",
       "                                                   \"['CL2', 'CL3', 'CL4', 'CL5']\",\n",
       "                                                          \"['CL2', 'CL3', 'CL4']\",\n",
       "               \"['CL2', 'CL3', 'CL4', 'CL5', 'CL6', 'CL7', 'CL8', 'CL9', 'CL10']\",\n",
       "                              \"['CL2', 'CL3', 'CL4', 'CL5', 'CL6', 'CL7', 'CL8']\",\n",
       "                                                                        \"['CL2']\",\n",
       "         \"['CL2', 'CL2', 'CL3', 'CL3', 'CL4', 'CL5', 'CL6', 'CL7', 'CL8', 'CL9']\",\n",
       "                                                   \"['CL2', 'CL2', 'CL3', 'CL3']\",\n",
       "                                                          \"['CL2', 'CL2', 'CL3']\",\n",
       "                                            \"['CL2', 'CL3', 'CL4', 'CL5', 'CL6']\",\n",
       "                \"['CL2', 'CL2', 'CL3', 'CL4', 'CL5', 'CL6', 'CL7', 'CL8', 'CL9']\",\n",
       "                                            \"['CL2', 'CL2', 'CL3', 'CL4', 'CL5']\",\n",
       "                                     \"['CL2', 'CL2', 'CL3', 'CL4', 'CL5', 'CL6']\",\n",
       "                             \"['CL2', 'CL4', 'CL5', 'CL6', 'CL7', 'CL8', 'CL10']\",\n",
       "                                            \"['CL2', 'CL2', 'CL3', 'CL3', 'CL4']\",\n",
       "                                     \"['CL2', 'CL2', 'CL3', 'CL3', 'CL4', 'CL5']\",\n",
       "         \"['CL2', 'CL2', 'CL3', 'CL3', 'CL4', 'CL4', 'CL5', 'CL5', 'CL6', 'CL7']\",\n",
       "                              \"['CL2', 'CL2', 'CL3', 'CL3', 'CL4', 'CL4', 'CL5']\",\n",
       "                                                   \"['CL2', 'CL2', 'CL3', 'CL4']\",\n",
       "                \"['CL2', 'CL2', 'CL3', 'CL3', 'CL4', 'CL5', 'CL6', 'CL7', 'CL8']\",\n",
       "                                                                 \"['CL2', 'CL2']\",\n",
       "                                     \"['CL2', 'CL2', 'CL3', 'CL3', 'CL4', 'CL4']\",\n",
       "                              \"['CL2', 'CL2', 'CL3', 'CL3', 'CL4', 'CL5', 'CL6']\",\n",
       "                       \"['CL2', 'CL2', 'CL3', 'CL3', 'CL4', 'CL4', 'CL5', 'CL6']\",\n",
       "                       \"['CL2', 'CL2', 'CL3', 'CL4', 'CL5', 'CL6', 'CL7', 'CL8']\",\n",
       " \"['CL2', 'CL2', 'CL3', 'CL3', 'CL4', 'CL5', 'CL6', 'CL7', 'CL8', 'CL9', 'CL10']\"]\n",
       "Length: 29, dtype: string"
      ]
     },
     "execution_count": 11,
     "metadata": {},
     "output_type": "execute_result"
    }
   ],
   "source": [
    "df_data.source.unique()"
   ]
  },
  {
   "cell_type": "markdown",
   "id": "99779064",
   "metadata": {},
   "source": [
    "#### verifica con funzione build_dataset.make_master_df"
   ]
  },
  {
   "cell_type": "code",
   "execution_count": 6,
   "id": "c9572b4d",
   "metadata": {},
   "outputs": [],
   "source": [
    "import pandas as pd\n",
    "p1 = 'all_data_CL7_tracks_complete_fast2.csv'\n",
    "p2 = 'all_data_CL7_tracks_complete_fast.csv'\n",
    "df1 = pd.read_csv(p1,parse_dates=['start_time', 'end_time'])\n",
    "df2 = pd.read_csv(p2,parse_dates=['start_time', 'end_time'])"
   ]
  },
  {
   "cell_type": "code",
   "execution_count": 10,
   "id": "be7a6294",
   "metadata": {},
   "outputs": [
    {
     "data": {
      "text/plain": [
       "Unnamed: 0       1413168\n",
       "path             1413168\n",
       "datetime         1413168\n",
       "tile_offset_x    1413168\n",
       "tile_offset_y    1413168\n",
       "x_pix            1413168\n",
       "y_pix            1413168\n",
       "source           1413168\n",
       "id_cyc_unico     1413168\n",
       "start_time         37501\n",
       "end_time           37501\n",
       "label            1413168\n",
       "dtype: int64"
      ]
     },
     "execution_count": 10,
     "metadata": {},
     "output_type": "execute_result"
    }
   ],
   "source": [
    "(df1 == df2).sum()"
   ]
  },
  {
   "cell_type": "code",
   "execution_count": 11,
   "id": "4dfec847",
   "metadata": {},
   "outputs": [
    {
     "data": {
      "text/plain": [
       "((1413168, 12), (1413168, 12))"
      ]
     },
     "execution_count": 11,
     "metadata": {},
     "output_type": "execute_result"
    }
   ],
   "source": [
    "df1.shape, df2.shape"
   ]
  }
 ],
 "metadata": {
  "kernelspec": {
   "display_name": "videomae",
   "language": "python",
   "name": "python3"
  },
  "language_info": {
   "codemirror_mode": {
    "name": "ipython",
    "version": 3
   },
   "file_extension": ".py",
   "mimetype": "text/x-python",
   "name": "python",
   "nbconvert_exporter": "python",
   "pygments_lexer": "ipython3",
   "version": "3.9.21"
  }
 },
 "nbformat": 4,
 "nbformat_minor": 5
}
